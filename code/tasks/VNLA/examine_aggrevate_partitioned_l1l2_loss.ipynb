{
 "cells": [
  {
   "cell_type": "code",
   "execution_count": 3,
   "metadata": {},
   "outputs": [],
   "source": [
    "import sys\n",
    "import os\n",
    "import json\n",
    "import numpy as np\n",
    "from collections import defaultdict, Counter\n",
    "import utils"
   ]
  },
  {
   "cell_type": "code",
   "execution_count": 4,
   "metadata": {},
   "outputs": [],
   "source": [
    "os.environ['PT_DATA_DIR'] = '/home/hoyeung/blob_matterport3d/'\n",
    "PT_DATA_DIR = '/home/hoyeung/blob_matterport3d/'\n",
    "PT_OUTPUT_DIR = '/home/hoyeung/blob_experiments/output_philly/'"
   ]
  },
  {
   "cell_type": "code",
   "execution_count": 5,
   "metadata": {},
   "outputs": [],
   "source": [
    "PT_EXP_NAME = '20200206_philly_aggrevate_tunning/'"
   ]
  },
  {
   "cell_type": "markdown",
   "metadata": {},
   "source": [
    "### Load Data"
   ]
  },
  {
   "cell_type": "code",
   "execution_count": 6,
   "metadata": {},
   "outputs": [],
   "source": [
    "# Val seen data\n",
    "with open(PT_DATA_DIR + 'asknav/asknav_val_seen.json', \"r\") as f:\n",
    "    val_seen_data = json.load(f)\n",
    "    \n",
    "# Val unseen data\n",
    "with open(PT_DATA_DIR + 'asknav/asknav_val_unseen.json', \"r\") as f:\n",
    "    val_unseen_data = json.load(f)"
   ]
  },
  {
   "cell_type": "code",
   "execution_count": 7,
   "metadata": {},
   "outputs": [],
   "source": [
    "# l1 results\n",
    "JOB_NAME = \"data_94798_seed_42_batch_size_250_tr_batch_size_512_loss_l1_lr_0.0001_beta_decay_0.9/\"\n",
    "with open(PT_OUTPUT_DIR + PT_EXP_NAME + JOB_NAME + \"value_estimation_no_ask_no_recovery_last_val_seen_for_eval.json\", \"r\") as f:\n",
    "    val_seen_l1_results = json.load(f)\n",
    "    \n",
    "with open(PT_OUTPUT_DIR + PT_EXP_NAME + JOB_NAME + \"value_estimation_no_ask_no_recovery_last_val_unseen_for_eval.json\", \"r\") as f:\n",
    "    val_unseen_l1_results = json.load(f)"
   ]
  },
  {
   "cell_type": "code",
   "execution_count": 8,
   "metadata": {},
   "outputs": [],
   "source": [
    "# l2 results\n",
    "JOB_NAME = \"data_94798_seed_42_batch_size_250_tr_batch_size_512_loss_l2_lr_0.0001_beta_decay_0.8/\"\n",
    "with open(PT_OUTPUT_DIR + PT_EXP_NAME + JOB_NAME + \"value_estimation_no_ask_no_recovery_last_val_seen_for_eval.json\", \"r\") as f:\n",
    "    val_seen_l2_results = json.load(f)\n",
    "    \n",
    "with open(PT_OUTPUT_DIR + PT_EXP_NAME + JOB_NAME + \"value_estimation_no_ask_no_recovery_last_val_unseen_for_eval.json\", \"r\") as f:\n",
    "    val_unseen_l2_results = json.load(f)"
   ]
  },
  {
   "cell_type": "markdown",
   "metadata": {},
   "source": [
    "### Examine"
   ]
  },
  {
   "cell_type": "code",
   "execution_count": 15,
   "metadata": {
    "scrolled": true
   },
   "outputs": [
    {
     "data": {
      "text/plain": [
       "dict_keys(['instr_id', 'agent_q_values', 'teacher_q_values', 'beta', 'expert_rollin_bool', 'scan', 'trajectory', 'agent_nav'])"
      ]
     },
     "execution_count": 15,
     "metadata": {},
     "output_type": "execute_result"
    }
   ],
   "source": [
    "val_seen_l1_results[0].keys()"
   ]
  },
  {
   "cell_type": "code",
   "execution_count": 31,
   "metadata": {},
   "outputs": [
    {
     "data": {
      "text/plain": [
       "dict_keys(['trajectories', 'start_region', 'path_id', 'distances', 'paths', 'scan', 'instructions', 'end_region_name', 'start_region_name', 'object_name', 'end_regions', 'object_indices', 'heading'])"
      ]
     },
     "execution_count": 31,
     "metadata": {},
     "output_type": "execute_result"
    }
   ],
   "source": [
    "val_seen_data[0].keys()"
   ]
  },
  {
   "cell_type": "code",
   "execution_count": 32,
   "metadata": {},
   "outputs": [
    {
     "data": {
      "text/plain": [
       "[['6cba04f9e76f463094dd2a6ff64d1e9f',\n",
       "  '9e3bb94fbf7f4dc0a74911414ca95753',\n",
       "  '7980b9f903164d48aaee2dbeb5615796',\n",
       "  'c9ac0c98d16a4105a3214989cac149c0',\n",
       "  '48a2541fc50b4a57a609698e2375e9b1',\n",
       "  '4547d37b305e41bdad0de45ade6971ca',\n",
       "  '6ab11272308c46068c9ae583da8ff311',\n",
       "  'd2600c4cac6445a7b7f0eef51a074043'],\n",
       " ['6cba04f9e76f463094dd2a6ff64d1e9f',\n",
       "  '9096013c3596463b9c0500520d12fef1',\n",
       "  '39791f422b0244aa84b3d41d9b218f7e',\n",
       "  '3182b6eba9ce405f9e1c0af86cc6b862',\n",
       "  '97739a403b984dcd8253741a073b18dd']]"
      ]
     },
     "execution_count": 32,
     "metadata": {},
     "output_type": "execute_result"
    }
   ],
   "source": [
    "val_seen_data[0]['paths']"
   ]
  },
  {
   "cell_type": "code",
   "execution_count": 29,
   "metadata": {},
   "outputs": [
    {
     "data": {
      "text/plain": [
       "'245241_0'"
      ]
     },
     "execution_count": 29,
     "metadata": {},
     "output_type": "execute_result"
    }
   ],
   "source": [
    "val_seen_l1_results[0]['instr_id']"
   ]
  },
  {
   "cell_type": "code",
   "execution_count": 19,
   "metadata": {},
   "outputs": [
    {
     "data": {
      "text/plain": [
       "10"
      ]
     },
     "execution_count": 19,
     "metadata": {},
     "output_type": "execute_result"
    }
   ],
   "source": [
    "len(val_seen_l1_results[0]['agent_q_values'])"
   ]
  },
  {
   "cell_type": "code",
   "execution_count": 20,
   "metadata": {},
   "outputs": [
    {
     "data": {
      "text/plain": [
       "36"
      ]
     },
     "execution_count": 20,
     "metadata": {},
     "output_type": "execute_result"
    }
   ],
   "source": [
    "len(val_seen_l1_results[0]['agent_q_values'][0])"
   ]
  },
  {
   "cell_type": "code",
   "execution_count": 23,
   "metadata": {},
   "outputs": [
    {
     "data": {
      "text/plain": [
       "10"
      ]
     },
     "execution_count": 23,
     "metadata": {},
     "output_type": "execute_result"
    }
   ],
   "source": [
    "len(val_seen_l1_results[0]['teacher_q_values'])"
   ]
  },
  {
   "cell_type": "code",
   "execution_count": 22,
   "metadata": {},
   "outputs": [
    {
     "data": {
      "text/plain": [
       "36"
      ]
     },
     "execution_count": 22,
     "metadata": {},
     "output_type": "execute_result"
    }
   ],
   "source": [
    "len(val_seen_l1_results[0]['teacher_q_values'][0])"
   ]
  },
  {
   "cell_type": "code",
   "execution_count": 66,
   "metadata": {},
   "outputs": [
    {
     "data": {
      "text/plain": [
       "[['e651ab44d0d849a285bd40eca8b405e7', 1.0471975511965976, 0.0],\n",
       " ['e651ab44d0d849a285bd40eca8b405e7', 1.5707963267948966, 0.0],\n",
       " ['cee43747e62e4df58398d371386e6012', 1.5707963267948966, 0.0],\n",
       " ['cee43747e62e4df58398d371386e6012', 1.5707963267948966, 0.0],\n",
       " ['79569bffc7674614a31ad21a0d3f922f', 1.5707963267948966, 0.0],\n",
       " ['79569bffc7674614a31ad21a0d3f922f', 2.0943951023931953, 0.0],\n",
       " ['ad506c95650a444eb205c2f9ebbd26fc', 2.0943951023931953, 0.0],\n",
       " ['ad506c95650a444eb205c2f9ebbd26fc', 2.0943951023931953, 0.0],\n",
       " ['67a696124eb54cb9bb570f28df5fb8ab', 2.0943951023931953, 0.0],\n",
       " ['67a696124eb54cb9bb570f28df5fb8ab', 1.5707963267948966, 0.0],\n",
       " ['6f0a4e9374f24721a85f9853e9381aaf', 1.5707963267948966, 0.0],\n",
       " ['6f0a4e9374f24721a85f9853e9381aaf', 1.5707963267948966, 0.0],\n",
       " ['2b12f2ce332c461cb6d7d4f25b64990e', 1.5707963267948966, 0.0],\n",
       " ['2b12f2ce332c461cb6d7d4f25b64990e', 4.71238898038469, 0.0],\n",
       " ['2043564288ac41a48c1e6caad1e7a48c', 4.71238898038469, 0.0],\n",
       " ['2043564288ac41a48c1e6caad1e7a48c', 1.5707963267948966, 0.0],\n",
       " ['2b12f2ce332c461cb6d7d4f25b64990e', 1.5707963267948966, 0.0],\n",
       " ['2b12f2ce332c461cb6d7d4f25b64990e', 4.71238898038469, 0.0],\n",
       " ['2043564288ac41a48c1e6caad1e7a48c', 4.71238898038469, 0.0],\n",
       " ['2043564288ac41a48c1e6caad1e7a48c', 5.759586531581287, 0.0],\n",
       " ['6f0a4e9374f24721a85f9853e9381aaf', 5.759586531581287, 0.0]]"
      ]
     },
     "execution_count": 66,
     "metadata": {},
     "output_type": "execute_result"
    }
   ],
   "source": [
    "val_seen_l1_results[0]['trajectory']"
   ]
  },
  {
   "cell_type": "code",
   "execution_count": 30,
   "metadata": {},
   "outputs": [
    {
     "data": {
      "text/plain": [
       "193069"
      ]
     },
     "execution_count": 30,
     "metadata": {},
     "output_type": "execute_result"
    }
   ],
   "source": [
    "val_seen_data[0]['path_id']"
   ]
  },
  {
   "cell_type": "markdown",
   "metadata": {},
   "source": [
    "### Partition by gold trajectory length"
   ]
  },
  {
   "cell_type": "code",
   "execution_count": 27,
   "metadata": {},
   "outputs": [
    {
     "data": {
      "text/plain": [
       "4874"
      ]
     },
     "execution_count": 27,
     "metadata": {},
     "output_type": "execute_result"
    }
   ],
   "source": [
    "len([res for res in val_seen_l1_results if '_0' in res['instr_id']])"
   ]
  },
  {
   "cell_type": "code",
   "execution_count": 7,
   "metadata": {},
   "outputs": [],
   "source": [
    "val_seen_gold_traj_lengths = {dat['path_id']: min([len(p) for p in dat['paths']]) for dat in val_seen_data}\n",
    "val_unseen_gold_traj_lengths = {dat['path_id']: min([len(p) for p in dat['paths']]) for dat in val_unseen_data}"
   ]
  },
  {
   "cell_type": "markdown",
   "metadata": {},
   "source": [
    "### Compute loss per task"
   ]
  },
  {
   "cell_type": "code",
   "execution_count": 8,
   "metadata": {},
   "outputs": [],
   "source": [
    "def l1_loss_func_per_sphere(pred, tar):\n",
    "    assert np.sum(pred == 1e9) == np.sum(tar == 1e9)\n",
    "    \n",
    "    pred = np.array(pred)\n",
    "    tar  = np.array(tar)\n",
    "    tot  = 36 - np.sum(pred == 1e9)\n",
    "    assert tot > 0\n",
    "    \n",
    "    return np.sum(np.abs(np.array(pred) - np.array(tar))) / tot"
   ]
  },
  {
   "cell_type": "code",
   "execution_count": 9,
   "metadata": {},
   "outputs": [],
   "source": [
    "def l2_loss_func_per_sphere(pred, tar):\n",
    "    assert np.sum(pred == 1e9) == np.sum(tar == 1e9)\n",
    "    \n",
    "    pred = np.array(pred)\n",
    "    tar  = np.array(tar)\n",
    "    tot  = 36 - np.sum(pred == 1e9)\n",
    "    assert tot > 0\n",
    "    \n",
    "    return np.sum((np.array(pred) - np.array(tar))**2) / tot"
   ]
  },
  {
   "cell_type": "code",
   "execution_count": 10,
   "metadata": {},
   "outputs": [],
   "source": [
    "def loss_per_task(loss_func, task):\n",
    "    time_steps = len(task['agent_q_values'])\n",
    "    task_loss = np.mean([loss_func(task['agent_q_values'][t], task['teacher_q_values'][t]) for t in range(time_steps)])\n",
    "    return task_loss, time_steps"
   ]
  },
  {
   "cell_type": "code",
   "execution_count": 11,
   "metadata": {},
   "outputs": [
    {
     "data": {
      "text/plain": [
       "3.1724950412149107"
      ]
     },
     "execution_count": 11,
     "metadata": {},
     "output_type": "execute_result"
    }
   ],
   "source": [
    "loss, steps = loss_per_task(l1_loss_func_per_sphere, val_seen_l1_results[70])\n",
    "loss"
   ]
  },
  {
   "cell_type": "code",
   "execution_count": 12,
   "metadata": {
    "scrolled": true
   },
   "outputs": [
    {
     "data": {
      "text/plain": [
       "19.93553269017234"
      ]
     },
     "execution_count": 12,
     "metadata": {},
     "output_type": "execute_result"
    }
   ],
   "source": [
    "loss, steps = loss_per_task(l2_loss_func_per_sphere, val_seen_l1_results[70])\n",
    "loss"
   ]
  },
  {
   "cell_type": "code",
   "execution_count": 13,
   "metadata": {},
   "outputs": [],
   "source": [
    "def loss_per_task_by_time_steps(loss_func, task):\n",
    "    time_steps = len(task['agent_q_values'])\n",
    "    task_losses = {t: loss_func(task['agent_q_values'][t], task['teacher_q_values'][t]) for t in range(time_steps)}\n",
    "    return task_losses, time_steps"
   ]
  },
  {
   "cell_type": "code",
   "execution_count": 14,
   "metadata": {},
   "outputs": [
    {
     "data": {
      "text/plain": [
       "{0: 8.841291237964985,\n",
       " 1: 6.37620116823375,\n",
       " 2: 2.890797793730859,\n",
       " 3: 0.47173782182042895,\n",
       " 4: 1.0559299459304885,\n",
       " 5: 1.463072385869798,\n",
       " 6: 1.1084349349540659}"
      ]
     },
     "execution_count": 14,
     "metadata": {},
     "output_type": "execute_result"
    }
   ],
   "source": [
    "losses, steps = loss_per_task_by_time_steps(l1_loss_func_per_sphere, val_seen_l1_results[70])\n",
    "losses"
   ]
  },
  {
   "cell_type": "code",
   "execution_count": 15,
   "metadata": {
    "scrolled": true
   },
   "outputs": [
    {
     "data": {
      "text/plain": [
       "{0: 82.07558748213101,\n",
       " 1: 42.17602700843731,\n",
       " 2: 9.594430045297452,\n",
       " 3: 0.25124674172675426,\n",
       " 4: 1.6023701762542009,\n",
       " 5: 2.4581099696736595,\n",
       " 6: 1.3909574076859565}"
      ]
     },
     "execution_count": 15,
     "metadata": {},
     "output_type": "execute_result"
    }
   ],
   "source": [
    "losses, steps = loss_per_task_by_time_steps(l2_loss_func_per_sphere, val_seen_l1_results[70])\n",
    "losses"
   ]
  },
  {
   "cell_type": "markdown",
   "metadata": {},
   "source": [
    "### Loop through results"
   ]
  },
  {
   "cell_type": "code",
   "execution_count": 16,
   "metadata": {},
   "outputs": [],
   "source": [
    "def make_idx_loss_map(results, gold_lengths):\n",
    "    idx_loss_map = {}\n",
    "\n",
    "    for task in results:\n",
    "        l1_loss, timesteps = loss_per_task(l1_loss_func_per_sphere, task)\n",
    "        l2_loss, _ = loss_per_task(l2_loss_func_per_sphere, task)\n",
    "        path_id = int(task['instr_id'].split(\"_\")[0])\n",
    "        \n",
    "        gold_traj_len = gold_lengths[path_id]\n",
    "\n",
    "        idx_loss_map[path_id] = {'gold_len':gold_traj_len, 'l1_loss':l1_loss, 'l2_loss':l2_loss, 'rollout_len':timesteps}\n",
    "    \n",
    "    return idx_loss_map"
   ]
  },
  {
   "cell_type": "code",
   "execution_count": 17,
   "metadata": {},
   "outputs": [],
   "source": [
    "idx_loss_map_val_seen_l1 = make_idx_loss_map(val_seen_l1_results, val_seen_gold_traj_lengths)\n",
    "idx_loss_map_val_unseen_l1 = make_idx_loss_map(val_unseen_l1_results, val_unseen_gold_traj_lengths)\n",
    "\n",
    "idx_loss_map_val_seen_l2 = make_idx_loss_map(val_seen_l2_results, val_seen_gold_traj_lengths)\n",
    "idx_loss_map_val_unseen_l2 = make_idx_loss_map(val_unseen_l2_results, val_unseen_gold_traj_lengths)"
   ]
  },
  {
   "cell_type": "code",
   "execution_count": 18,
   "metadata": {},
   "outputs": [],
   "source": [
    "def make_idx_loss_by_time_step_map(results, gold_lengths):\n",
    "    idx_losses_map = {}\n",
    "\n",
    "    for task in results:\n",
    "        l1_losses, timesteps = loss_per_task_by_time_steps(l1_loss_func_per_sphere, task)\n",
    "        l2_losses, _ = loss_per_task_by_time_steps(l2_loss_func_per_sphere, task)\n",
    "        path_id = int(task['instr_id'].split(\"_\")[0])\n",
    "        \n",
    "        gold_traj_len = gold_lengths[path_id]\n",
    "\n",
    "        idx_losses_map[path_id] = {'gold_len':gold_traj_len, 'l1_loss':l1_losses, 'l2_loss':l2_losses, 'rollout_len':timesteps}\n",
    "    \n",
    "    return idx_losses_map"
   ]
  },
  {
   "cell_type": "code",
   "execution_count": 19,
   "metadata": {},
   "outputs": [],
   "source": [
    "idx_loss_by_time_map_val_seen_l1 = make_idx_loss_by_time_step_map(val_seen_l1_results, val_seen_gold_traj_lengths)\n",
    "idx_loss_by_time_map_val_unseen_l1 = make_idx_loss_by_time_step_map(val_unseen_l1_results, val_unseen_gold_traj_lengths)\n",
    "\n",
    "idx_loss_by_time_map_val_seen_l2 = make_idx_loss_by_time_step_map(val_seen_l2_results, val_seen_gold_traj_lengths)\n",
    "idx_loss_by_time_map_val_unseen_l2 = make_idx_loss_by_time_step_map(val_unseen_l2_results, val_unseen_gold_traj_lengths)"
   ]
  },
  {
   "cell_type": "markdown",
   "metadata": {},
   "source": [
    "### Group by gold traj lengths"
   ]
  },
  {
   "cell_type": "code",
   "execution_count": 20,
   "metadata": {},
   "outputs": [],
   "source": [
    "def compute_len_group_avg(idx_loss_map, loss_str):\n",
    "\n",
    "    gold_length_to_loss = {i:[] for i in range(30)}\n",
    "\n",
    "    for idx in idx_loss_map:\n",
    "        task = idx_loss_map[idx]\n",
    "        gold_length_to_loss[task['gold_len']].append(task[loss_str])\n",
    "\n",
    "    gold_length_to_loss_avg = {i: np.mean(gold_length_to_loss[i]) for i in range(30)}\n",
    "    \n",
    "    return gold_length_to_loss_avg"
   ]
  },
  {
   "cell_type": "code",
   "execution_count": 21,
   "metadata": {},
   "outputs": [
    {
     "name": "stderr",
     "output_type": "stream",
     "text": [
      "/data/anaconda/envs/py35/lib/python3.5/site-packages/numpy/core/fromnumeric.py:2957: RuntimeWarning: Mean of empty slice.\n",
      "  out=out, **kwargs)\n",
      "/data/anaconda/envs/py35/lib/python3.5/site-packages/numpy/core/_methods.py:80: RuntimeWarning: invalid value encountered in double_scalars\n",
      "  ret = ret.dtype.type(ret / rcount)\n"
     ]
    }
   ],
   "source": [
    "len_group_avg_val_seen_l1 = compute_len_group_avg(idx_loss_map_val_seen_l1, 'l1_loss')\n",
    "len_group_avg_val_seen_l2 = compute_len_group_avg(idx_loss_map_val_seen_l2, 'l2_loss')"
   ]
  },
  {
   "cell_type": "code",
   "execution_count": 22,
   "metadata": {
    "scrolled": true
   },
   "outputs": [
    {
     "name": "stderr",
     "output_type": "stream",
     "text": [
      "/data/anaconda/envs/py35/lib/python3.5/site-packages/numpy/core/fromnumeric.py:2957: RuntimeWarning: Mean of empty slice.\n",
      "  out=out, **kwargs)\n",
      "/data/anaconda/envs/py35/lib/python3.5/site-packages/numpy/core/_methods.py:80: RuntimeWarning: invalid value encountered in double_scalars\n",
      "  ret = ret.dtype.type(ret / rcount)\n"
     ]
    }
   ],
   "source": [
    "len_group_avg_val_unseen_l1 = compute_len_group_avg(idx_loss_map_val_unseen_l1, 'l1_loss')\n",
    "len_group_avg_val_unseen_l2 = compute_len_group_avg(idx_loss_map_val_unseen_l2, 'l2_loss')"
   ]
  },
  {
   "cell_type": "markdown",
   "metadata": {},
   "source": [
    "### Plot by gold traj lengths"
   ]
  },
  {
   "cell_type": "code",
   "execution_count": 23,
   "metadata": {},
   "outputs": [],
   "source": [
    "import matplotlib.pyplot as plt"
   ]
  },
  {
   "cell_type": "code",
   "execution_count": 24,
   "metadata": {},
   "outputs": [],
   "source": [
    "def plot(len_group_avg):\n",
    "    x = np.array([gold_len for gold_len, loss_avg in len_group_avg.items()])\n",
    "    height = np.array([loss_avg for gold_len, loss_avg in len_group_avg.items()])\n",
    "    plt.figure(figsize=(20,10))\n",
    "    plt.bar(x, height, width=0.8)"
   ]
  },
  {
   "cell_type": "code",
   "execution_count": 25,
   "metadata": {},
   "outputs": [
    {
     "data": {
      "image/png": "[encoded data removed]",
      "text/plain": [
       "<Figure size 1440x720 with 1 Axes>"
      ]
     },
     "metadata": {
      "needs_background": "light"
     },
     "output_type": "display_data"
    }
   ],
   "source": [
    "plot(len_group_avg_val_seen_l1)"
   ]
  },
  {
   "cell_type": "code",
   "execution_count": 26,
   "metadata": {},
   "outputs": [
    {
     "data": {
      "image/png": "[encoded data removed]",
      "text/plain": [
       "<Figure size 1440x720 with 1 Axes>"
      ]
     },
     "metadata": {
      "needs_background": "light"
     },
     "output_type": "display_data"
    }
   ],
   "source": [
    "plot(len_group_avg_val_seen_l2)"
   ]
  },
  {
   "cell_type": "code",
   "execution_count": 27,
   "metadata": {},
   "outputs": [
    {
     "data": {
      "image/png": "[encoded data removed]",
      "text/plain": [
       "<Figure size 1440x720 with 1 Axes>"
      ]
     },
     "metadata": {
      "needs_background": "light"
     },
     "output_type": "display_data"
    }
   ],
   "source": [
    "plot(len_group_avg_val_unseen_l1)"
   ]
  },
  {
   "cell_type": "code",
   "execution_count": 28,
   "metadata": {},
   "outputs": [
    {
     "data": {
      "image/png": "[encoded data removed]",
      "text/plain": [
       "<Figure size 1440x720 with 1 Axes>"
      ]
     },
     "metadata": {
      "needs_background": "light"
     },
     "output_type": "display_data"
    }
   ],
   "source": [
    "plot(len_group_avg_val_unseen_l2)"
   ]
  },
  {
   "cell_type": "markdown",
   "metadata": {},
   "source": [
    "### Group by timesteps"
   ]
  },
  {
   "cell_type": "code",
   "execution_count": 29,
   "metadata": {},
   "outputs": [],
   "source": [
    "def comput_timestep_group_avg(idx_loss_by_time_map, loss_str):\n",
    "    \n",
    "    timestep_to_loss = {t:[] for t in range(30)}\n",
    "    \n",
    "    for idx in idx_loss_by_time_map:\n",
    "        task = idx_loss_by_time_map[idx]\n",
    "        for t in task[loss_str]:\n",
    "            timestep_to_loss[t].append(task[loss_str][t])\n",
    "    \n",
    "#     import pdb; pdb.set_trace()\n",
    "    timestep_to_loss_avg = {i: np.mean(timestep_to_loss[i]) for i in range(30)}\n",
    "    \n",
    "    return timestep_to_loss_avg"
   ]
  },
  {
   "cell_type": "code",
   "execution_count": 30,
   "metadata": {},
   "outputs": [
    {
     "name": "stderr",
     "output_type": "stream",
     "text": [
      "/data/anaconda/envs/py35/lib/python3.5/site-packages/numpy/core/fromnumeric.py:2957: RuntimeWarning: Mean of empty slice.\n",
      "  out=out, **kwargs)\n",
      "/data/anaconda/envs/py35/lib/python3.5/site-packages/numpy/core/_methods.py:80: RuntimeWarning: invalid value encountered in double_scalars\n",
      "  ret = ret.dtype.type(ret / rcount)\n"
     ]
    }
   ],
   "source": [
    "timestep_group_avg_val_seen_l1 = comput_timestep_group_avg(idx_loss_by_time_map_val_seen_l1, 'l1_loss')\n",
    "timestep_group_avg_val_seen_l2 = comput_timestep_group_avg(idx_loss_by_time_map_val_seen_l2, 'l2_loss')\n",
    "\n",
    "timestep_group_avg_val_unseen_l1 = comput_timestep_group_avg(idx_loss_by_time_map_val_unseen_l1, 'l1_loss')\n",
    "timestep_group_avg_val_unseen_l2 = comput_timestep_group_avg(idx_loss_by_time_map_val_unseen_l2, 'l2_loss')"
   ]
  },
  {
   "cell_type": "markdown",
   "metadata": {},
   "source": [
    "### Plot by time steps"
   ]
  },
  {
   "cell_type": "code",
   "execution_count": 31,
   "metadata": {},
   "outputs": [
    {
     "data": {
      "image/png": "[encoded data removed]",
      "text/plain": [
       "<Figure size 1440x720 with 1 Axes>"
      ]
     },
     "metadata": {
      "needs_background": "light"
     },
     "output_type": "display_data"
    }
   ],
   "source": [
    "plot(timestep_group_avg_val_seen_l1)"
   ]
  },
  {
   "cell_type": "code",
   "execution_count": 32,
   "metadata": {},
   "outputs": [
    {
     "data": {
      "image/png": "[encoded data removed]",
      "text/plain": [
       "<Figure size 1440x720 with 1 Axes>"
      ]
     },
     "metadata": {
      "needs_background": "light"
     },
     "output_type": "display_data"
    }
   ],
   "source": [
    "plot(timestep_group_avg_val_seen_l2)"
   ]
  },
  {
   "cell_type": "code",
   "execution_count": 33,
   "metadata": {},
   "outputs": [
    {
     "data": {
      "image/png": "[encoded data removed]",
      "text/plain": [
       "<Figure size 1440x720 with 1 Axes>"
      ]
     },
     "metadata": {
      "needs_background": "light"
     },
     "output_type": "display_data"
    }
   ],
   "source": [
    "plot(timestep_group_avg_val_unseen_l1)"
   ]
  },
  {
   "cell_type": "code",
   "execution_count": 34,
   "metadata": {},
   "outputs": [
    {
     "data": {
      "image/png": "[encoded data removed]",
      "text/plain": [
       "<Figure size 1440x720 with 1 Axes>"
      ]
     },
     "metadata": {
      "needs_background": "light"
     },
     "output_type": "display_data"
    }
   ],
   "source": [
    "plot(timestep_group_avg_val_unseen_l2)"
   ]
  },
  {
   "cell_type": "markdown",
   "metadata": {},
   "source": [
    "### What are the q-value sizes?"
   ]
  },
  {
   "cell_type": "code",
   "execution_count": 35,
   "metadata": {},
   "outputs": [],
   "source": [
    "tar = []\n",
    "pred = []\n",
    "\n",
    "for res in val_seen_l1_results:\n",
    "    timesteps = len(res['agent_q_values'])\n",
    "    for t in range(timesteps):\n",
    "        tar += [val for val in res['teacher_q_values'][t] if val != 1e9]\n",
    "        pred += [val for val in res['agent_q_values'][t] if val != 1e9]"
   ]
  },
  {
   "cell_type": "code",
   "execution_count": 36,
   "metadata": {},
   "outputs": [
    {
     "data": {
      "text/plain": [
       "(57.17973528997818, 0.3287194101357572)"
      ]
     },
     "execution_count": 36,
     "metadata": {},
     "output_type": "execute_result"
    }
   ],
   "source": [
    "max(tar), min(tar)"
   ]
  },
  {
   "cell_type": "code",
   "execution_count": 37,
   "metadata": {
    "scrolled": true
   },
   "outputs": [
    {
     "data": {
      "text/plain": [
       "(51.32027053833008, 1.0746458768844604)"
      ]
     },
     "execution_count": 37,
     "metadata": {},
     "output_type": "execute_result"
    }
   ],
   "source": [
    "max(pred), min(pred)"
   ]
  },
  {
   "cell_type": "code",
   "execution_count": 38,
   "metadata": {},
   "outputs": [],
   "source": [
    "tar = []\n",
    "pred = []\n",
    "\n",
    "for res in val_seen_l2_results:\n",
    "    timesteps = len(res['agent_q_values'])\n",
    "    for t in range(timesteps):\n",
    "        tar += [val for val in res['teacher_q_values'][t] if val != 1e9]\n",
    "        pred += [val for val in res['agent_q_values'][t] if val != 1e9]"
   ]
  },
  {
   "cell_type": "code",
   "execution_count": 39,
   "metadata": {},
   "outputs": [
    {
     "data": {
      "text/plain": [
       "(56.509506174029944, 0.3287194101357572)"
      ]
     },
     "execution_count": 39,
     "metadata": {},
     "output_type": "execute_result"
    }
   ],
   "source": [
    "max(tar), min(tar)"
   ]
  },
  {
   "cell_type": "code",
   "execution_count": 40,
   "metadata": {
    "scrolled": false
   },
   "outputs": [
    {
     "data": {
      "text/plain": [
       "(51.936134338378906, 0.6108593940734863)"
      ]
     },
     "execution_count": 40,
     "metadata": {},
     "output_type": "execute_result"
    }
   ],
   "source": [
    "max(pred), min(pred)"
   ]
  },
  {
   "cell_type": "markdown",
   "metadata": {},
   "source": [
    "### Group by gold Q-value sizes"
   ]
  },
  {
   "cell_type": "code",
   "execution_count": 41,
   "metadata": {},
   "outputs": [],
   "source": [
    "def compute_loss_by_q_targets(results):\n",
    "\n",
    "    tars = []\n",
    "    preds = []\n",
    "\n",
    "    for task in results:\n",
    "\n",
    "        timesteps = len(task['agent_q_values'])\n",
    "\n",
    "        for t in range(timesteps):\n",
    "            tars += [val for val in task['teacher_q_values'][t] if val != 1e9]\n",
    "            preds += [val for val in task['agent_q_values'][t] if val != 1e9]\n",
    "\n",
    "    l1_losses = np.abs(np.array(tars) - np.array(preds))\n",
    "    l2_losses = (np.array(tars) - np.array(preds))**2\n",
    "\n",
    "    return np.array(tars), np.array(preds), l1_losses, l2_losses"
   ]
  },
  {
   "cell_type": "code",
   "execution_count": 42,
   "metadata": {},
   "outputs": [],
   "source": [
    "val_seen_l1_tars, val_seen_l1_preds, val_seen_l1_losses, _ = compute_loss_by_q_targets(val_seen_l1_results)\n",
    "val_seen_l2_tars, val_seen_l2_preds, _, val_seen_l2_losses = compute_loss_by_q_targets(val_seen_l2_results)\n",
    "\n",
    "val_unseen_l1_tars, val_unseen_l1_preds, val_unseen_l1_losses, _ = compute_loss_by_q_targets(val_unseen_l1_results)\n",
    "val_unseen_l2_tars, val_unseen_l2_preds, _, val_unseen_l2_losses = compute_loss_by_q_targets(val_unseen_l2_results)"
   ]
  },
  {
   "cell_type": "code",
   "execution_count": 46,
   "metadata": {},
   "outputs": [],
   "source": [
    "def plot_loss_grouped_by_q_target_size(results, loss_str, sample_size=5000):\n",
    "    tars, preds, l1_losses, l2_losses = compute_loss_by_q_targets(results)\n",
    "    indices = np.random.choice(len(tars), size=sample_size)\n",
    "  \n",
    "    plt.figure(figsize=(20,10))\n",
    "    if loss_str == 'l1':\n",
    "        plt.bar(tars[indices], l1_losses[indices])\n",
    "    else:\n",
    "        plt.bar(tars[indices], l2_losses[indices])"
   ]
  },
  {
   "cell_type": "code",
   "execution_count": 47,
   "metadata": {},
   "outputs": [
    {
     "data": {
      "image/png": "[encoded data removed]",
      "text/plain": [
       "<Figure size 1440x720 with 1 Axes>"
      ]
     },
     "metadata": {
      "needs_background": "light"
     },
     "output_type": "display_data"
    }
   ],
   "source": [
    "plot_loss_grouped_by_q_target_size(val_seen_l1_results, 'l1')"
   ]
  },
  {
   "cell_type": "code",
   "execution_count": 49,
   "metadata": {},
   "outputs": [
    {
     "data": {
      "image/png": "[encoded data removed]",
      "text/plain": [
       "<Figure size 1440x720 with 1 Axes>"
      ]
     },
     "metadata": {
      "needs_background": "light"
     },
     "output_type": "display_data"
    }
   ],
   "source": [
    "plot_loss_grouped_by_q_target_size(val_seen_l2_results, 'l2')"
   ]
  },
  {
   "cell_type": "code",
   "execution_count": 50,
   "metadata": {},
   "outputs": [
    {
     "data": {
      "image/png": "[encoded data removed]",
      "text/plain": [
       "<Figure size 1440x720 with 1 Axes>"
      ]
     },
     "metadata": {
      "needs_background": "light"
     },
     "output_type": "display_data"
    }
   ],
   "source": [
    "plot_loss_grouped_by_q_target_size(val_unseen_l1_results, 'l1')"
   ]
  },
  {
   "cell_type": "code",
   "execution_count": 51,
   "metadata": {},
   "outputs": [
    {
     "data": {
      "image/png": "[encoded data removed]",
      "text/plain": [
       "<Figure size 1440x720 with 1 Axes>"
      ]
     },
     "metadata": {
      "needs_background": "light"
     },
     "output_type": "display_data"
    }
   ],
   "source": [
    "plot_loss_grouped_by_q_target_size(val_unseen_l2_results, 'l2')"
   ]
  },
  {
   "cell_type": "code",
   "execution_count": null,
   "metadata": {},
   "outputs": [],
   "source": []
  },
  {
   "cell_type": "markdown",
   "metadata": {},
   "source": [
    "### Group by gold Q-value sizes"
   ]
  },
  {
   "cell_type": "code",
   "execution_count": 17,
   "metadata": {},
   "outputs": [],
   "source": [
    "def compute_loss_by_room_types(results):\n",
    "\n",
    "    tars = []\n",
    "    preds = []\n",
    "    rms_curr = []\n",
    "    rms_next = []\n",
    "\n",
    "    for task in results:\n",
    "\n",
    "        timesteps = len(task['agent_q_values'])\n",
    "        scan = task['scan']\n",
    "#         import pdb; pdb.set_trace()\n",
    "        panos_to_region = utils.load_panos_to_region(scan, '')\n",
    "        \n",
    "        for t in range(timesteps):\n",
    "            tars += [val for val in task['teacher_q_values'][t] if val != 1e9]\n",
    "            preds += [val for val in task['agent_q_values'][t] if val != 1e9]\n",
    "            vertex_curr = task['trajectory'][t][0]\n",
    "            vertex_next = task['trajectory'][t+1][0]\n",
    "#             import pdb; pdb.set_trace()\n",
    "            rm_label_curr = panos_to_region[vertex_curr]\n",
    "            rm_label_next = panos_to_region[vertex_next]\n",
    "            \n",
    "            rms_curr += [rm_label_curr for _ in range(len(tars))]\n",
    "            rms_next += [rm_label_next for _ in range(len(tars))]\n",
    "\n",
    "    l1_losses = np.abs(np.array(tars) - np.array(preds))\n",
    "    l2_losses = (np.array(tars) - np.array(preds))**2\n",
    "\n",
    "    return np.array(tars), np.array(preds), l1_losses, l2_losses, rms_curr, rms_next"
   ]
  },
  {
   "cell_type": "code",
   "execution_count": 61,
   "metadata": {},
   "outputs": [
    {
     "data": {
      "text/plain": [
       "dict_keys(['beta', 'instr_id', 'agent_q_values', 'trajectory', 'expert_rollin_bool', 'agent_nav', 'scan', 'teacher_q_values'])"
      ]
     },
     "execution_count": 61,
     "metadata": {},
     "output_type": "execute_result"
    }
   ],
   "source": [
    "val_unseen_l2_results[0].keys()"
   ]
  },
  {
   "cell_type": "code",
   "execution_count": 18,
   "metadata": {
    "scrolled": true
   },
   "outputs": [],
   "source": [
    "tars, preds, l1_losses, l2_losses, rms_curr, rms_next = compute_loss_by_room_types(val_unseen_l2_results)"
   ]
  },
  {
   "cell_type": "code",
   "execution_count": 9,
   "metadata": {},
   "outputs": [
    {
     "data": {
      "text/plain": [
       "1"
      ]
     },
     "execution_count": 9,
     "metadata": {},
     "output_type": "execute_result"
    }
   ],
   "source": [
    "def plot_loss_grouped_by_rm_types(results, loss_str, rm_str ,sample_size=5000):\n",
    "    tars, preds, l1_losses, l2_losses, rms_curr, rms_next = compute_loss_by_room_types(results)\n",
    "    indices = np.random.choice(len(tars), size=sample_size)\n",
    "  \n",
    "    plt.figure(figsize=(20,10))\n",
    "    if loss_str == 'l1':\n",
    "        if rm_str == 'curr':\n",
    "            plt.bar(rms_curr[indices], l1_losses[indices])\n",
    "        else:\n",
    "            plt.bar(rms_curr[indices], l1_losses[indices])\n",
    "    else:\n",
    "        if rm_str == 'curr':\n",
    "            plt.bar(rms_curr[indices], l2_losses[indices])\n",
    "        else:\n",
    "            plt.bar(rms_next[indices], l1_losses[indices])"
   ]
  },
  {
   "cell_type": "code",
   "execution_count": null,
   "metadata": {},
   "outputs": [],
   "source": []
  }
 ],
 "metadata": {
  "kernelspec": {
   "display_name": "Python [conda env:py35]",
   "language": "python",
   "name": "conda-env-py35-py"
  },
  "language_info": {
   "codemirror_mode": {
    "name": "ipython",
    "version": 3
   },
   "file_extension": ".py",
   "mimetype": "text/x-python",
   "name": "python",
   "nbconvert_exporter": "python",
   "pygments_lexer": "ipython3",
   "version": "3.5.5"
  }
 },
 "nbformat": 4,
 "nbformat_minor": 2
}
