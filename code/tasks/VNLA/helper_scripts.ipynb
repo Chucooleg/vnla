{
 "cells": [
  {
   "cell_type": "code",
   "execution_count": null,
   "metadata": {},
   "outputs": [],
   "source": [
    "seeds_10 = [42, 677, 848, 163, 620, 511, 102, 158, 2, 204]\n",
    "seeds_20 = [677, 848, 163, 620, 511, 102, 158, 2, 204, 471, 154, 220, 748, 623,  47, 882, 136, 315,  48]\n",
    "\n",
    "size = 94798\n",
    "data_suffix = \"original\"\n",
    "\n",
    "for num in seeds_20:\n",
    "    text = \"\"\"\n",
    "- name: data_{size}_seed_{num}\n",
    "  sku: G1\n",
    "  command:\n",
    "  - cd tasks/VNLA/scripts/ && bash train_experiments.sh \"20200124_philly_aggrevate_seeds\" \"data_14413_seed_{num}\" \"configs/experiment.json\" -batch_size 100 -start_beta_decay 100 -decay_beta_every 100 -min_history_to_learn 1000 -save_every 1000 -log_every 1000 -plot_to_philly 0 -data_suffix {data_suffix} -dropout_ratio 0.5 -agent_end_criteria 2.5 -n_iters 50000 -seed {num}\n",
    "  \"\"\".format(size=size, num=num, data_suffix=data_suffix)\n",
    "    print(text)"
   ]
  },
  {
   "cell_type": "code",
   "execution_count": null,
   "metadata": {},
   "outputs": [],
   "source": [
    "\n",
    "script = \"\"\"cat data_7954_seed_102_long/stdout.txt | grep \"finished training from history buffer. self.value_loss =\" &> dum.txt\"\"\""
   ]
  },
  {
   "cell_type": "code",
   "execution_count": 6,
   "metadata": {},
   "outputs": [],
   "source": [
    "def search(itr_list):\n",
    "    for itr in itr_list:\n",
    "        print(\"\"\"cat data_7954_seed_102_long/stdout.txt | grep -B1 'Training, global_iter_idx = {itr}'\"\"\".format(itr=itr))"
   ]
  },
  {
   "cell_type": "code",
   "execution_count": 7,
   "metadata": {},
   "outputs": [
    {
     "name": "stdout",
     "output_type": "stream",
     "text": [
      "cat data_7954_seed_102_long/stdout.txt | grep -B1 'Training, global_iter_idx = 0'\n",
      "cat data_7954_seed_102_long/stdout.txt | grep -B1 'Training, global_iter_idx = 1000'\n",
      "cat data_7954_seed_102_long/stdout.txt | grep -B1 'Training, global_iter_idx = 2000'\n",
      "cat data_7954_seed_102_long/stdout.txt | grep -B1 'Training, global_iter_idx = 3000'\n",
      "cat data_7954_seed_102_long/stdout.txt | grep -B1 'Training, global_iter_idx = 4000'\n",
      "cat data_7954_seed_102_long/stdout.txt | grep -B1 'Training, global_iter_idx = 5000'\n",
      "cat data_7954_seed_102_long/stdout.txt | grep -B1 'Training, global_iter_idx = 6000'\n",
      "cat data_7954_seed_102_long/stdout.txt | grep -B1 'Training, global_iter_idx = 7000'\n",
      "cat data_7954_seed_102_long/stdout.txt | grep -B1 'Training, global_iter_idx = 8000'\n",
      "cat data_7954_seed_102_long/stdout.txt | grep -B1 'Training, global_iter_idx = 9000'\n",
      "cat data_7954_seed_102_long/stdout.txt | grep -B1 'Training, global_iter_idx = 10000'\n",
      "cat data_7954_seed_102_long/stdout.txt | grep -B1 'Training, global_iter_idx = 11000'\n",
      "cat data_7954_seed_102_long/stdout.txt | grep -B1 'Training, global_iter_idx = 12000'\n",
      "cat data_7954_seed_102_long/stdout.txt | grep -B1 'Training, global_iter_idx = 13000'\n",
      "cat data_7954_seed_102_long/stdout.txt | grep -B1 'Training, global_iter_idx = 14000'\n",
      "cat data_7954_seed_102_long/stdout.txt | grep -B1 'Training, global_iter_idx = 15000'\n",
      "cat data_7954_seed_102_long/stdout.txt | grep -B1 'Training, global_iter_idx = 16000'\n",
      "cat data_7954_seed_102_long/stdout.txt | grep -B1 'Training, global_iter_idx = 17000'\n",
      "cat data_7954_seed_102_long/stdout.txt | grep -B1 'Training, global_iter_idx = 18000'\n",
      "cat data_7954_seed_102_long/stdout.txt | grep -B1 'Training, global_iter_idx = 19000'\n",
      "cat data_7954_seed_102_long/stdout.txt | grep -B1 'Training, global_iter_idx = 20000'\n",
      "cat data_7954_seed_102_long/stdout.txt | grep -B1 'Training, global_iter_idx = 21000'\n",
      "cat data_7954_seed_102_long/stdout.txt | grep -B1 'Training, global_iter_idx = 22000'\n",
      "cat data_7954_seed_102_long/stdout.txt | grep -B1 'Training, global_iter_idx = 23000'\n",
      "cat data_7954_seed_102_long/stdout.txt | grep -B1 'Training, global_iter_idx = 24000'\n",
      "cat data_7954_seed_102_long/stdout.txt | grep -B1 'Training, global_iter_idx = 25000'\n",
      "cat data_7954_seed_102_long/stdout.txt | grep -B1 'Training, global_iter_idx = 26000'\n",
      "cat data_7954_seed_102_long/stdout.txt | grep -B1 'Training, global_iter_idx = 27000'\n",
      "cat data_7954_seed_102_long/stdout.txt | grep -B1 'Training, global_iter_idx = 28000'\n",
      "cat data_7954_seed_102_long/stdout.txt | grep -B1 'Training, global_iter_idx = 29000'\n",
      "cat data_7954_seed_102_long/stdout.txt | grep -B1 'Training, global_iter_idx = 30000'\n",
      "cat data_7954_seed_102_long/stdout.txt | grep -B1 'Training, global_iter_idx = 31000'\n",
      "cat data_7954_seed_102_long/stdout.txt | grep -B1 'Training, global_iter_idx = 32000'\n",
      "cat data_7954_seed_102_long/stdout.txt | grep -B1 'Training, global_iter_idx = 33000'\n",
      "cat data_7954_seed_102_long/stdout.txt | grep -B1 'Training, global_iter_idx = 34000'\n"
     ]
    }
   ],
   "source": [
    "search(list(range(0, 35000, 1000)))"
   ]
  },
  {
   "cell_type": "code",
   "execution_count": 12,
   "metadata": {},
   "outputs": [],
   "source": [
    "seeds_10 = [42, 677, 848, 163, 620, 511, 102, 158, 2, 204]\n",
    "seeds_20 = [677, 848, 163, 620, 511, 102, 158, 2, 204, 471, 154, 220, 748, 623,  47, 882, 136, 315,  48]\n"
   ]
  },
  {
   "cell_type": "code",
   "execution_count": 9,
   "metadata": {
    "scrolled": true
   },
   "outputs": [
    {
     "name": "stdout",
     "output_type": "stream",
     "text": [
      "mkdir seed_42\n",
      "mkdir seed_677\n",
      "mkdir seed_848\n",
      "mkdir seed_163\n",
      "mkdir seed_620\n",
      "mkdir seed_511\n",
      "mkdir seed_102\n",
      "mkdir seed_158\n",
      "mkdir seed_2\n",
      "mkdir seed_204\n"
     ]
    }
   ],
   "source": [
    "for seed in seeds_10:\n",
    "    print(\"mkdir seed_{}\".format(seed))"
   ]
  },
  {
   "cell_type": "code",
   "execution_count": null,
   "metadata": {},
   "outputs": [],
   "source": []
  },
  {
   "cell_type": "code",
   "execution_count": 15,
   "metadata": {},
   "outputs": [
    {
     "name": "stdout",
     "output_type": "stream",
     "text": [
      "mkdir -p vis_files 20200126_philly_aggrevate_seeds/1078/seed_42\n",
      "mkdir -p vis_files 20200126_philly_aggrevate_seeds/1078/seed_677\n",
      "mkdir -p vis_files 20200126_philly_aggrevate_seeds/1078/seed_848\n",
      "mkdir -p vis_files 20200126_philly_aggrevate_seeds/1078/seed_163\n",
      "mkdir -p vis_files 20200126_philly_aggrevate_seeds/1078/seed_620\n",
      "mkdir -p vis_files 20200126_philly_aggrevate_seeds/1078/seed_511\n",
      "mkdir -p vis_files 20200126_philly_aggrevate_seeds/1078/seed_102\n",
      "mkdir -p vis_files 20200126_philly_aggrevate_seeds/1078/seed_158\n",
      "mkdir -p vis_files 20200126_philly_aggrevate_seeds/1078/seed_2\n",
      "mkdir -p vis_files 20200126_philly_aggrevate_seeds/1078/seed_204\n"
     ]
    }
   ],
   "source": [
    "for seed in seeds_10:\n",
    "    print(\"mkdir -p vis_files 20200126_philly_aggrevate_seeds/1078/seed_{}\".format(seed))"
   ]
  },
  {
   "cell_type": "code",
   "execution_count": null,
   "metadata": {},
   "outputs": [],
   "source": []
  }
 ],
 "metadata": {
  "kernelspec": {
   "display_name": "Python [conda env:py35]",
   "language": "python",
   "name": "conda-env-py35-py"
  },
  "language_info": {
   "codemirror_mode": {
    "name": "ipython",
    "version": 3
   },
   "file_extension": ".py",
   "mimetype": "text/x-python",
   "name": "python",
   "nbconvert_exporter": "python",
   "pygments_lexer": "ipython3",
   "version": "3.5.5"
  }
 },
 "nbformat": 4,
 "nbformat_minor": 2
}
