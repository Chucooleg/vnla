{
 "cells": [
  {
   "cell_type": "markdown",
   "metadata": {},
   "source": [
    "# Make dataset for full vertical view prediction\n",
    "\n",
    "#### Using the same scan splits as seed 42 in original current room prediction"
   ]
  },
  {
   "cell_type": "code",
   "execution_count": 1,
   "metadata": {},
   "outputs": [],
   "source": [
    "import sys\n",
    "import os\n",
    "import multiprocessing\n",
    "import random\n",
    "import numpy as np\n",
    "import math\n",
    "import torch\n",
    "from torch.utils.data import Dataset, DataLoader\n",
    "# from tensorboardX import SummaryWriter\n",
    "\n",
    "import utils"
   ]
  },
  {
   "cell_type": "code",
   "execution_count": 2,
   "metadata": {},
   "outputs": [],
   "source": [
    "try:\n",
    "    sys.path.append('/opt/MatterSim/build/')  # local docker or Philly\n",
    "    import MatterSim\n",
    "except: \n",
    "    # local conda env only\n",
    "    sys.path.append('/home/hoyeung/Documents/vnla/code/build')  \n",
    "    import MatterSim"
   ]
  },
  {
   "cell_type": "code",
   "execution_count": 17,
   "metadata": {},
   "outputs": [],
   "source": [
    "os.environ['PT_DATA_DIR'] ='/home/hoyeung/blob_matterport3d/'"
   ]
  },
  {
   "cell_type": "code",
   "execution_count": 3,
   "metadata": {},
   "outputs": [
    {
     "data": {
      "text/plain": [
       "30"
      ]
     },
     "execution_count": 3,
     "metadata": {},
     "output_type": "execute_result"
    }
   ],
   "source": [
    "with open('/home/hoyeung/blob_matterport3d/semantics/asknav_tr_room_types.txt', \"r\") as f:\n",
    "    room_types = f.read().split('\\n')[:-1]\n",
    "len(room_types)"
   ]
  },
  {
   "cell_type": "code",
   "execution_count": 4,
   "metadata": {},
   "outputs": [
    {
     "data": {
      "text/plain": [
       "56"
      ]
     },
     "execution_count": 4,
     "metadata": {},
     "output_type": "execute_result"
    }
   ],
   "source": [
    "with open('/home/hoyeung/blob_matterport3d/semantics/asknav_tr_scans.txt', \"r\") as f:\n",
    "    asknav_tr_scans = f.read().split('\\n')[:-1]\n",
    "len(asknav_tr_scans)"
   ]
  },
  {
   "cell_type": "markdown",
   "metadata": {},
   "source": [
    "## Extract semantic classifier train, val seen and val unseen scans"
   ]
  },
  {
   "cell_type": "code",
   "execution_count": 5,
   "metadata": {},
   "outputs": [],
   "source": [
    "def read_indices_and_labels(path):\n",
    "    feature_ids = []\n",
    "    labels = []\n",
    "    with open(path, 'r') as f:\n",
    "        lines = f.read().split('\\n')[:-1]\n",
    "        print (\"Number of lines = {}\".format(len(lines)))\n",
    "        for line in lines:\n",
    "            long_id, viewix, label = line.split('\\t')\n",
    "            feature_ids.append((long_id, viewix))\n",
    "            labels.append(label)\n",
    "    return feature_ids, labels"
   ]
  },
  {
   "cell_type": "code",
   "execution_count": 6,
   "metadata": {},
   "outputs": [
    {
     "name": "stdout",
     "output_type": "stream",
     "text": [
      "Number of lines = 224316\n"
     ]
    },
    {
     "data": {
      "text/plain": [
       "[('5LpN3gDmAk7_c75f71faa8b74a8eb875731b3dbe6183', '3'),\n",
       " ('5LpN3gDmAk7_c75f71faa8b74a8eb875731b3dbe6183', '4'),\n",
       " ('5LpN3gDmAk7_c75f71faa8b74a8eb875731b3dbe6183', '5'),\n",
       " ('5LpN3gDmAk7_c75f71faa8b74a8eb875731b3dbe6183', '6'),\n",
       " ('5LpN3gDmAk7_c75f71faa8b74a8eb875731b3dbe6183', '7')]"
      ]
     },
     "execution_count": 6,
     "metadata": {},
     "output_type": "execute_result"
    }
   ],
   "source": [
    "exp_dir = '/home/hoyeung/blob_experiments/output_philly/20200202_philly_debug_semantics/classifier_seed_42_batch_size_100_lr_0.001_layers_2/'\n",
    "filename = 'train_indices.txt'\n",
    "train_indices, train_curr_rm_labels = read_indices_and_labels(os.path.join(exp_dir, filename))\n",
    "train_indices[100:105]"
   ]
  },
  {
   "cell_type": "code",
   "execution_count": 7,
   "metadata": {},
   "outputs": [
    {
     "name": "stdout",
     "output_type": "stream",
     "text": [
      "Number of lines = 18540\n"
     ]
    },
    {
     "data": {
      "text/plain": [
       "[('5LpN3gDmAk7_58351a02ce7742bd9a6674db0131a534', '6'),\n",
       " ('5LpN3gDmAk7_58351a02ce7742bd9a6674db0131a534', '8'),\n",
       " ('5LpN3gDmAk7_58351a02ce7742bd9a6674db0131a534', '21'),\n",
       " ('5LpN3gDmAk7_58351a02ce7742bd9a6674db0131a534', '33'),\n",
       " ('5LpN3gDmAk7_bc48486938fb46c1b18c3a30767283c5', '4')]"
      ]
     },
     "execution_count": 7,
     "metadata": {},
     "output_type": "execute_result"
    }
   ],
   "source": [
    "exp_dir = '/home/hoyeung/blob_experiments/output_philly/20200202_philly_debug_semantics/classifier_seed_42_batch_size_100_lr_0.001_layers_2/'\n",
    "filename = 'val_seen_indices.txt'\n",
    "val_seen_indices, val_seen_curr_rm_labels = read_indices_and_labels(os.path.join(exp_dir, filename))\n",
    "val_seen_indices[100:105]"
   ]
  },
  {
   "cell_type": "code",
   "execution_count": 8,
   "metadata": {
    "scrolled": true
   },
   "outputs": [
    {
     "name": "stdout",
     "output_type": "stream",
     "text": [
      "Number of lines = 18540\n"
     ]
    },
    {
     "data": {
      "text/plain": [
       "[('rPc6DW4iMge_2d20ebd11b9d4855bac237d15181e126', '28'),\n",
       " ('rPc6DW4iMge_2d20ebd11b9d4855bac237d15181e126', '29'),\n",
       " ('rPc6DW4iMge_2d20ebd11b9d4855bac237d15181e126', '30'),\n",
       " ('rPc6DW4iMge_2d20ebd11b9d4855bac237d15181e126', '31'),\n",
       " ('rPc6DW4iMge_2d20ebd11b9d4855bac237d15181e126', '32')]"
      ]
     },
     "execution_count": 8,
     "metadata": {},
     "output_type": "execute_result"
    }
   ],
   "source": [
    "exp_dir = '/home/hoyeung/blob_experiments/output_philly/20200202_philly_debug_semantics/classifier_seed_42_batch_size_100_lr_0.001_layers_2/'\n",
    "filename = 'val_unseen_indices.txt'\n",
    "val_unseen_indices, val_unseen_curr_rm_labels = read_indices_and_labels(os.path.join(exp_dir, filename))\n",
    "val_unseen_indices[100:105]"
   ]
  },
  {
   "cell_type": "code",
   "execution_count": 11,
   "metadata": {},
   "outputs": [
    {
     "data": {
      "text/plain": [
       "{'SN83YJsR3w2', 'VVfe2KiqLaN', 'aayBHfsNo7d', 'rPc6DW4iMge'}"
      ]
     },
     "execution_count": 11,
     "metadata": {},
     "output_type": "execute_result"
    }
   ],
   "source": [
    "val_unseen_scans = [index[0].split('_')[0] for index in val_unseen_indices]\n",
    "val_unseen_scans = set(val_unseen_scans)\n",
    "val_unseen_scans"
   ]
  },
  {
   "cell_type": "code",
   "execution_count": 12,
   "metadata": {},
   "outputs": [
    {
     "data": {
      "text/plain": [
       "52"
      ]
     },
     "execution_count": 12,
     "metadata": {},
     "output_type": "execute_result"
    }
   ],
   "source": [
    "seen_scans = [scan for scan in asknav_tr_scans if scan not in val_unseen_scans]\n",
    "len(seen_scans)"
   ]
  },
  {
   "cell_type": "markdown",
   "metadata": {},
   "source": [
    "## Construct datasets"
   ]
  },
  {
   "cell_type": "code",
   "execution_count": 14,
   "metadata": {},
   "outputs": [],
   "source": [
    "def retrieve_rm_labels_and_feature_ids_full_vertical(scans, room_types):\n",
    "    rm_labels = []\n",
    "    feature_ids = []\n",
    "    for scan in scans:\n",
    "        scan_G = utils.load_nav_graphs(scan)\n",
    "        scan_panos_to_region = utils.load_panos_to_region(scan,\"\")\n",
    "        for n in scan_G.nodes:\n",
    "            room_label_str = scan_panos_to_region[n]\n",
    "            long_id = scan + '_' + n\n",
    "            for bottom_viewix in range(12):\n",
    "                rm_labels.append(room_types.index(room_label_str))\n",
    "                feature_ids.append((long_id, (bottom_viewix, bottom_viewix+12, bottom_viewix+24)))\n",
    "    return rm_labels, feature_ids"
   ]
  },
  {
   "cell_type": "code",
   "execution_count": 18,
   "metadata": {},
   "outputs": [],
   "source": [
    "seen_rm_labels, seen_feature_ids = retrieve_rm_labels_and_feature_ids_full_vertical(seen_scans, room_types)"
   ]
  },
  {
   "cell_type": "code",
   "execution_count": 21,
   "metadata": {},
   "outputs": [
    {
     "name": "stdout",
     "output_type": "stream",
     "text": [
      "seen_feature_ids len = 80952\n",
      "seen_rm_labels len = 80952\n"
     ]
    }
   ],
   "source": [
    "print ('seen_feature_ids len = {}'.format(len(seen_feature_ids)))\n",
    "print ('seen_rm_labels len = {}'.format(len(seen_rm_labels)))"
   ]
  },
  {
   "cell_type": "code",
   "execution_count": 22,
   "metadata": {},
   "outputs": [
    {
     "name": "stdout",
     "output_type": "stream",
     "text": [
      "val_unseen_feature_ids len = 6180\n",
      "val_unseen_rm_labels len = 6180\n"
     ]
    }
   ],
   "source": [
    "val_unseen_rm_labels, val_unseen_feature_ids = retrieve_rm_labels_and_feature_ids_full_vertical(val_unseen_scans, room_types)\n",
    "print ('val_unseen_feature_ids len = {}'.format(len(val_unseen_feature_ids)))\n",
    "print ('val_unseen_rm_labels len = {}'.format(len(val_unseen_rm_labels)))"
   ]
  },
  {
   "cell_type": "code",
   "execution_count": 25,
   "metadata": {},
   "outputs": [
    {
     "name": "stdout",
     "output_type": "stream",
     "text": [
      "val_seen_idx length = 6180\n"
     ]
    }
   ],
   "source": [
    "val_seen_idx = np.random.choice(len(seen_feature_ids), size=len(val_unseen_feature_ids), replace=False)\n",
    "print('val_seen_idx length = {}'.format(len(val_seen_idx)))"
   ]
  },
  {
   "cell_type": "code",
   "execution_count": 26,
   "metadata": {},
   "outputs": [
    {
     "name": "stdout",
     "output_type": "stream",
     "text": [
      "tr_seen_rm_labels length = 74772\n",
      "tr_seen_feature_ids length = 74772\n",
      "val_seen_rm_labels length = 6180\n",
      "val_seen_feature_ids length = 6180\n"
     ]
    }
   ],
   "source": [
    "# Get tr and val seen datapts\n",
    "tr_seen_rm_labels = []\n",
    "tr_seen_feature_ids = []\n",
    "val_seen_rm_labels = []\n",
    "val_seen_feature_ids = []\n",
    "for i in range(len(seen_feature_ids)):\n",
    "    if i in val_seen_idx:\n",
    "        val_seen_rm_labels.append(seen_rm_labels[i])\n",
    "        val_seen_feature_ids.append(seen_feature_ids[i])\n",
    "    else:\n",
    "        tr_seen_rm_labels.append(seen_rm_labels[i])\n",
    "        tr_seen_feature_ids.append(seen_feature_ids[i])\n",
    "        \n",
    "print('tr_seen_rm_labels length = {}'.format(len(tr_seen_rm_labels)))\n",
    "print('tr_seen_feature_ids length = {}'.format(len(tr_seen_feature_ids)))\n",
    "print('val_seen_rm_labels length = {}'.format(len(val_seen_rm_labels)))\n",
    "print('val_seen_feature_ids length = {}'.format(len(val_seen_feature_ids)))"
   ]
  },
  {
   "cell_type": "code",
   "execution_count": 29,
   "metadata": {},
   "outputs": [
    {
     "data": {
      "text/plain": [
       "[('ac26ZMwG7aT_828b8f02ffd145ac8b351cbb70682dc2', (3, 15, 27)),\n",
       " ('ac26ZMwG7aT_7804a496622640ce9d5d79ecdc992254', (7, 19, 31)),\n",
       " ('ac26ZMwG7aT_0ffa6fd0a65a4462b2023f28b14741e5', (8, 20, 32)),\n",
       " ('ac26ZMwG7aT_771f6afffb0c4e6d9fe9cca06b6a9cbb', (6, 18, 30)),\n",
       " ('ac26ZMwG7aT_4382fba86a6a4956b7007f079a990268', (8, 20, 32))]"
      ]
     },
     "execution_count": 29,
     "metadata": {},
     "output_type": "execute_result"
    }
   ],
   "source": [
    "val_seen_feature_ids[:5]"
   ]
  },
  {
   "cell_type": "code",
   "execution_count": 30,
   "metadata": {},
   "outputs": [
    {
     "data": {
      "text/plain": [
       "[29, 7, 16, 18, 8]"
      ]
     },
     "execution_count": 30,
     "metadata": {},
     "output_type": "execute_result"
    }
   ],
   "source": [
    "val_seen_rm_labels[:5]"
   ]
  },
  {
   "cell_type": "markdown",
   "metadata": {},
   "source": [
    "## Write the indices out"
   ]
  },
  {
   "cell_type": "code",
   "execution_count": 31,
   "metadata": {},
   "outputs": [],
   "source": [
    "with open('/home/hoyeung/blob_matterport3d/semantics/asknav_train_full_vertical_indices.txt', 'w') as fh:\n",
    "    for feat_id, rm_label in zip(tr_seen_feature_ids, tr_seen_rm_labels):\n",
    "        fh.write(\"{}\\t{}\\t{}\\n\".format(feat_id[0], feat_id[1], rm_label))"
   ]
  },
  {
   "cell_type": "code",
   "execution_count": 32,
   "metadata": {},
   "outputs": [],
   "source": [
    "with open('/home/hoyeung/blob_matterport3d/semantics/asknav_val_seen_full_vertical_indices.txt', 'w') as fh:\n",
    "    for feat_id, rm_label in zip(val_seen_feature_ids, val_seen_rm_labels):\n",
    "        fh.write(\"{}\\t{}\\t{}\\n\".format(feat_id[0], feat_id[1], rm_label))"
   ]
  },
  {
   "cell_type": "code",
   "execution_count": 33,
   "metadata": {},
   "outputs": [],
   "source": [
    "with open('/home/hoyeung/blob_matterport3d/semantics/asknav_val_unseen_full_vertical_indices.txt', 'w') as fh:\n",
    "    for feat_id, rm_label in zip(val_unseen_feature_ids, val_unseen_rm_labels):\n",
    "        fh.write(\"{}\\t{}\\t{}\\n\".format(feat_id[0], feat_id[1], rm_label))"
   ]
  },
  {
   "cell_type": "markdown",
   "metadata": {},
   "source": [
    "## Test parse it"
   ]
  },
  {
   "cell_type": "code",
   "execution_count": 39,
   "metadata": {},
   "outputs": [],
   "source": [
    "def read_rm_labels_and_feature_ids(idx_save_path, image_extent):\n",
    "    feature_ids = []\n",
    "    room_labels = []\n",
    "    with open(idx_save_path, 'r') as fh:\n",
    "        lines = fh.read().split('\\n')\n",
    "        lines = lines[:-1]\n",
    "        for line in lines:\n",
    "            long_id, viewix, room_label = line.split('\\t')\n",
    "            room_labels.append(int(room_label))\n",
    "            if image_extent != 'single':\n",
    "                feature_ids.append((long_id, eval(viewix)))\n",
    "            else:\n",
    "                feature_ids.append((long_id, int(viewix)))\n",
    "    return feature_ids, room_labels"
   ]
  },
  {
   "cell_type": "code",
   "execution_count": 41,
   "metadata": {},
   "outputs": [],
   "source": [
    "ids, labels = read_rm_labels_and_feature_ids('/home/hoyeung/blob_matterport3d/semantics/asknav_train_full_vertical_indices.txt', 'vertical')"
   ]
  },
  {
   "cell_type": "code",
   "execution_count": 37,
   "metadata": {},
   "outputs": [],
   "source": [
    "dum = eval('(1,2,3)')"
   ]
  },
  {
   "cell_type": "code",
   "execution_count": 38,
   "metadata": {},
   "outputs": [
    {
     "data": {
      "text/plain": [
       "(1, 2, 3)"
      ]
     },
     "execution_count": 38,
     "metadata": {},
     "output_type": "execute_result"
    }
   ],
   "source": [
    "dum"
   ]
  },
  {
   "cell_type": "code",
   "execution_count": 42,
   "metadata": {},
   "outputs": [
    {
     "data": {
      "text/plain": [
       "[('ac26ZMwG7aT_828b8f02ffd145ac8b351cbb70682dc2', (0, 12, 24)),\n",
       " ('ac26ZMwG7aT_828b8f02ffd145ac8b351cbb70682dc2', (1, 13, 25)),\n",
       " ('ac26ZMwG7aT_828b8f02ffd145ac8b351cbb70682dc2', (2, 14, 26)),\n",
       " ('ac26ZMwG7aT_828b8f02ffd145ac8b351cbb70682dc2', (4, 16, 28)),\n",
       " ('ac26ZMwG7aT_828b8f02ffd145ac8b351cbb70682dc2', (5, 17, 29))]"
      ]
     },
     "execution_count": 42,
     "metadata": {},
     "output_type": "execute_result"
    }
   ],
   "source": [
    "ids[:5]"
   ]
  },
  {
   "cell_type": "code",
   "execution_count": 43,
   "metadata": {},
   "outputs": [
    {
     "data": {
      "text/plain": [
       "True"
      ]
     },
     "execution_count": 43,
     "metadata": {},
     "output_type": "execute_result"
    }
   ],
   "source": [
    "isinstance(dum, tuple)"
   ]
  },
  {
   "cell_type": "code",
   "execution_count": 46,
   "metadata": {},
   "outputs": [
    {
     "data": {
      "text/plain": [
       "tensor([-5.4842e-08,  4.5799e-41,  1.9043e+21,  3.0873e-41])"
      ]
     },
     "execution_count": 46,
     "metadata": {},
     "output_type": "execute_result"
    }
   ],
   "source": [
    "torch.empty(4, dtype=torch.float32)"
   ]
  },
  {
   "cell_type": "code",
   "execution_count": 49,
   "metadata": {},
   "outputs": [
    {
     "data": {
      "text/plain": [
       "tensor([1., 2., 3., 1., 2., 3., 1., 2., 3.])"
      ]
     },
     "execution_count": 49,
     "metadata": {},
     "output_type": "execute_result"
    }
   ],
   "source": [
    "torch.cat([torch.tensor([1,2,3], dtype=torch.float) for _ in range(3)])"
   ]
  },
  {
   "cell_type": "code",
   "execution_count": 50,
   "metadata": {},
   "outputs": [],
   "source": [
    "a = 4\n",
    "b = a\n"
   ]
  },
  {
   "cell_type": "code",
   "execution_count": 51,
   "metadata": {},
   "outputs": [
    {
     "data": {
      "text/plain": [
       "4"
      ]
     },
     "execution_count": 51,
     "metadata": {},
     "output_type": "execute_result"
    }
   ],
   "source": [
    "a = 6\n",
    "b"
   ]
  },
  {
   "cell_type": "code",
   "execution_count": null,
   "metadata": {},
   "outputs": [],
   "source": []
  }
 ],
 "metadata": {
  "kernelspec": {
   "display_name": "Python [conda env:py35]",
   "language": "python",
   "name": "conda-env-py35-py"
  },
  "language_info": {
   "codemirror_mode": {
    "name": "ipython",
    "version": 3
   },
   "file_extension": ".py",
   "mimetype": "text/x-python",
   "name": "python",
   "nbconvert_exporter": "python",
   "pygments_lexer": "ipython3",
   "version": "3.5.5"
  }
 },
 "nbformat": 4,
 "nbformat_minor": 2
}
