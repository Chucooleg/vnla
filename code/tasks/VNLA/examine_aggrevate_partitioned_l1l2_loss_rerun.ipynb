{
 "cells": [
  {
   "cell_type": "code",
   "execution_count": 1,
   "metadata": {},
   "outputs": [],
   "source": [
    "import sys\n",
    "import os\n",
    "import json\n",
    "import numpy as np\n",
    "from collections import defaultdict, Counter\n",
    "import utils"
   ]
  },
  {
   "cell_type": "code",
   "execution_count": 2,
   "metadata": {},
   "outputs": [],
   "source": [
    "os.environ['PT_DATA_DIR'] = '/home/hoyeung/blob_matterport3d/'\n",
    "PT_DATA_DIR = '/home/hoyeung/blob_matterport3d/'\n",
    "PT_OUTPUT_DIR = '/home/hoyeung/blob_experiments/output_philly/'"
   ]
  },
  {
   "cell_type": "code",
   "execution_count": 3,
   "metadata": {},
   "outputs": [],
   "source": [
    "PT_EXP_NAME = '20200221_philly_aggrevate_costtogo_logging/'\n",
    "JOB_NAME = \"eval_best_250_512_model/\""
   ]
  },
  {
   "cell_type": "markdown",
   "metadata": {},
   "source": [
    "### Load Data"
   ]
  },
  {
   "cell_type": "code",
   "execution_count": 4,
   "metadata": {},
   "outputs": [],
   "source": [
    "# Val seen data\n",
    "with open(PT_DATA_DIR + 'asknav/asknav_val_seen.json', \"r\") as f:\n",
    "    val_seen_data = json.load(f)\n",
    "    \n",
    "# Val unseen data\n",
    "with open(PT_DATA_DIR + 'asknav/asknav_val_unseen.json', \"r\") as f:\n",
    "    val_unseen_data = json.load(f)"
   ]
  },
  {
   "cell_type": "code",
   "execution_count": 5,
   "metadata": {},
   "outputs": [],
   "source": [
    "# l1 results\n",
    "with open(PT_OUTPUT_DIR + PT_EXP_NAME + JOB_NAME + \"value_estimation_no_ask_no_recovery_val_seen_for_eval.json\", \"r\") as f:\n",
    "    val_seen_l1_results = json.load(f)\n",
    "    \n",
    "with open(PT_OUTPUT_DIR + PT_EXP_NAME + JOB_NAME + \"value_estimation_no_ask_no_recovery_val_unseen_for_eval.json\", \"r\") as f:\n",
    "    val_unseen_l1_results = json.load(f)"
   ]
  },
  {
   "cell_type": "code",
   "execution_count": 6,
   "metadata": {},
   "outputs": [],
   "source": [
    "# l2 results\n",
    "with open(PT_OUTPUT_DIR + PT_EXP_NAME + JOB_NAME + \"value_estimation_no_ask_no_recovery_val_seen_for_eval.json\", \"r\") as f:\n",
    "    val_seen_l2_results = json.load(f)\n",
    "    \n",
    "with open(PT_OUTPUT_DIR + PT_EXP_NAME + JOB_NAME + \"value_estimation_no_ask_no_recovery_val_unseen_for_eval.json\", \"r\") as f:\n",
    "    val_unseen_l2_results = json.load(f)"
   ]
  },
  {
   "cell_type": "markdown",
   "metadata": {},
   "source": [
    "### Examine"
   ]
  },
  {
   "cell_type": "code",
   "execution_count": 17,
   "metadata": {
    "scrolled": true
   },
   "outputs": [
    {
     "data": {
      "text/plain": [
       "dict_keys(['agent_q_values', 'expert_rollin_bool', 'instr_id', 'teacher_q_values', 'trajectory', 'teacher_cost_stepping', 'teacher_cost_togo', 'agent_nav', 'beta', 'scan'])"
      ]
     },
     "execution_count": 17,
     "metadata": {},
     "output_type": "execute_result"
    }
   ],
   "source": [
    "val_seen_l1_results[0].keys()"
   ]
  },
  {
   "cell_type": "code",
   "execution_count": 18,
   "metadata": {},
   "outputs": [
    {
     "data": {
      "text/plain": [
       "dict_keys(['end_regions', 'instructions', 'object_name', 'paths', 'end_region_name', 'trajectories', 'object_indices', 'scan', 'path_id', 'heading', 'start_region', 'distances', 'start_region_name'])"
      ]
     },
     "execution_count": 18,
     "metadata": {},
     "output_type": "execute_result"
    }
   ],
   "source": [
    "val_seen_data[0].keys()"
   ]
  },
  {
   "cell_type": "code",
   "execution_count": 19,
   "metadata": {},
   "outputs": [
    {
     "data": {
      "text/plain": [
       "[['6cba04f9e76f463094dd2a6ff64d1e9f',\n",
       "  '9e3bb94fbf7f4dc0a74911414ca95753',\n",
       "  '7980b9f903164d48aaee2dbeb5615796',\n",
       "  'c9ac0c98d16a4105a3214989cac149c0',\n",
       "  '48a2541fc50b4a57a609698e2375e9b1',\n",
       "  '4547d37b305e41bdad0de45ade6971ca',\n",
       "  '6ab11272308c46068c9ae583da8ff311',\n",
       "  'd2600c4cac6445a7b7f0eef51a074043'],\n",
       " ['6cba04f9e76f463094dd2a6ff64d1e9f',\n",
       "  '9096013c3596463b9c0500520d12fef1',\n",
       "  '39791f422b0244aa84b3d41d9b218f7e',\n",
       "  '3182b6eba9ce405f9e1c0af86cc6b862',\n",
       "  '97739a403b984dcd8253741a073b18dd']]"
      ]
     },
     "execution_count": 19,
     "metadata": {},
     "output_type": "execute_result"
    }
   ],
   "source": [
    "val_seen_data[0]['paths']"
   ]
  },
  {
   "cell_type": "code",
   "execution_count": 20,
   "metadata": {},
   "outputs": [
    {
     "data": {
      "text/plain": [
       "'72022_0'"
      ]
     },
     "execution_count": 20,
     "metadata": {},
     "output_type": "execute_result"
    }
   ],
   "source": [
    "val_seen_l1_results[0]['instr_id']"
   ]
  },
  {
   "cell_type": "code",
   "execution_count": 21,
   "metadata": {},
   "outputs": [
    {
     "data": {
      "text/plain": [
       "10"
      ]
     },
     "execution_count": 21,
     "metadata": {},
     "output_type": "execute_result"
    }
   ],
   "source": [
    "len(val_seen_l1_results[0]['agent_q_values'])"
   ]
  },
  {
   "cell_type": "code",
   "execution_count": 22,
   "metadata": {},
   "outputs": [
    {
     "data": {
      "text/plain": [
       "36"
      ]
     },
     "execution_count": 22,
     "metadata": {},
     "output_type": "execute_result"
    }
   ],
   "source": [
    "len(val_seen_l1_results[0]['agent_q_values'][0])"
   ]
  },
  {
   "cell_type": "code",
   "execution_count": 23,
   "metadata": {},
   "outputs": [
    {
     "data": {
      "text/plain": [
       "10"
      ]
     },
     "execution_count": 23,
     "metadata": {},
     "output_type": "execute_result"
    }
   ],
   "source": [
    "len(val_seen_l1_results[0]['teacher_q_values'])"
   ]
  },
  {
   "cell_type": "code",
   "execution_count": 24,
   "metadata": {},
   "outputs": [
    {
     "data": {
      "text/plain": [
       "36"
      ]
     },
     "execution_count": 24,
     "metadata": {},
     "output_type": "execute_result"
    }
   ],
   "source": [
    "len(val_seen_l1_results[0]['teacher_q_values'][0])"
   ]
  },
  {
   "cell_type": "code",
   "execution_count": 25,
   "metadata": {},
   "outputs": [
    {
     "data": {
      "text/plain": [
       "[['949a6c58781d4e80bff19ca32493efcd', 2.617993877991494, 0.0],\n",
       " ['949a6c58781d4e80bff19ca32493efcd', 1.5707963267948966, 0.0],\n",
       " ['f5cf1375de4d46b38328dda8ebcd6ce0', 1.5707963267948966, 0.0],\n",
       " ['f5cf1375de4d46b38328dda8ebcd6ce0', 4.71238898038469, 0.0],\n",
       " ['949a6c58781d4e80bff19ca32493efcd', 4.71238898038469, 0.0],\n",
       " ['949a6c58781d4e80bff19ca32493efcd', 1.5707963267948966, 0.0],\n",
       " ['f5cf1375de4d46b38328dda8ebcd6ce0', 1.5707963267948966, 0.0],\n",
       " ['f5cf1375de4d46b38328dda8ebcd6ce0', 5.759586531581287, 0.0],\n",
       " ['32c98b5cfe804dd185a8cb6ecb91a63f', 5.759586531581287, 0.0],\n",
       " ['32c98b5cfe804dd185a8cb6ecb91a63f', 2.617993877991494, 0.0],\n",
       " ['f5cf1375de4d46b38328dda8ebcd6ce0', 2.617993877991494, 0.0],\n",
       " ['f5cf1375de4d46b38328dda8ebcd6ce0', 4.71238898038469, 0.0],\n",
       " ['949a6c58781d4e80bff19ca32493efcd', 4.71238898038469, 0.0],\n",
       " ['949a6c58781d4e80bff19ca32493efcd', 2.0943951023931953, 0.0],\n",
       " ['860f7e4e9a944bbd856dfcc5f2d1ad2b', 2.0943951023931953, 0.0],\n",
       " ['860f7e4e9a944bbd856dfcc5f2d1ad2b', 0.5235987755982988, 0.0],\n",
       " ['f5cf1375de4d46b38328dda8ebcd6ce0', 0.5235987755982988, 0.0],\n",
       " ['f5cf1375de4d46b38328dda8ebcd6ce0', 5.759586531581287, 0.0],\n",
       " ['32c98b5cfe804dd185a8cb6ecb91a63f', 5.759586531581287, 0.0],\n",
       " ['32c98b5cfe804dd185a8cb6ecb91a63f', 2.617993877991494, 0.0],\n",
       " ['f5cf1375de4d46b38328dda8ebcd6ce0', 2.617993877991494, 0.0]]"
      ]
     },
     "execution_count": 25,
     "metadata": {},
     "output_type": "execute_result"
    }
   ],
   "source": [
    "val_seen_l1_results[0]['trajectory']"
   ]
  },
  {
   "cell_type": "code",
   "execution_count": 26,
   "metadata": {},
   "outputs": [
    {
     "data": {
      "text/plain": [
       "193069"
      ]
     },
     "execution_count": 26,
     "metadata": {},
     "output_type": "execute_result"
    }
   ],
   "source": [
    "val_seen_data[0]['path_id']"
   ]
  },
  {
   "cell_type": "markdown",
   "metadata": {},
   "source": [
    "### Partition by gold trajectory length"
   ]
  },
  {
   "cell_type": "code",
   "execution_count": 27,
   "metadata": {},
   "outputs": [
    {
     "data": {
      "text/plain": [
       "4874"
      ]
     },
     "execution_count": 27,
     "metadata": {},
     "output_type": "execute_result"
    }
   ],
   "source": [
    "len([res for res in val_seen_l1_results if '_0' in res['instr_id']])"
   ]
  },
  {
   "cell_type": "code",
   "execution_count": 28,
   "metadata": {},
   "outputs": [],
   "source": [
    "val_seen_gold_traj_lengths = {dat['path_id']: min([len(p) for p in dat['paths']]) for dat in val_seen_data}\n",
    "val_unseen_gold_traj_lengths = {dat['path_id']: min([len(p) for p in dat['paths']]) for dat in val_unseen_data}"
   ]
  },
  {
   "cell_type": "markdown",
   "metadata": {},
   "source": [
    "### Compute loss per task"
   ]
  },
  {
   "cell_type": "code",
   "execution_count": 29,
   "metadata": {},
   "outputs": [],
   "source": [
    "def l1_loss_func_per_sphere(pred, tar):\n",
    "    assert np.sum(pred == 1e9) == np.sum(tar == 1e9)\n",
    "    \n",
    "    pred = np.array(pred)\n",
    "    tar  = np.array(tar)\n",
    "    tot  = 36 - np.sum(pred == 1e9)\n",
    "    assert tot > 0\n",
    "    \n",
    "    return np.sum(np.abs(np.array(pred) - np.array(tar))) / tot"
   ]
  },
  {
   "cell_type": "code",
   "execution_count": 30,
   "metadata": {},
   "outputs": [],
   "source": [
    "def l2_loss_func_per_sphere(pred, tar):\n",
    "    assert np.sum(pred == 1e9) == np.sum(tar == 1e9)\n",
    "    \n",
    "    pred = np.array(pred)\n",
    "    tar  = np.array(tar)\n",
    "    tot  = 36 - np.sum(pred == 1e9)\n",
    "    assert tot > 0\n",
    "    \n",
    "    return np.sum((np.array(pred) - np.array(tar))**2) / tot"
   ]
  },
  {
   "cell_type": "code",
   "execution_count": 31,
   "metadata": {},
   "outputs": [],
   "source": [
    "def loss_per_task(loss_func, task):\n",
    "    time_steps = len(task['agent_q_values'])\n",
    "    task_loss = np.mean([loss_func(task['agent_q_values'][t], task['teacher_q_values'][t]) for t in range(time_steps)])\n",
    "    return task_loss, time_steps"
   ]
  },
  {
   "cell_type": "code",
   "execution_count": 11,
   "metadata": {},
   "outputs": [
    {
     "data": {
      "text/plain": [
       "3.1724950412149107"
      ]
     },
     "execution_count": 11,
     "metadata": {},
     "output_type": "execute_result"
    }
   ],
   "source": [
    "loss, steps = loss_per_task(l1_loss_func_per_sphere, val_seen_l1_results[70])\n",
    "loss"
   ]
  },
  {
   "cell_type": "code",
   "execution_count": 32,
   "metadata": {},
   "outputs": [
    {
     "data": {
      "text/plain": [
       "2.2591421717479174"
      ]
     },
     "execution_count": 32,
     "metadata": {},
     "output_type": "execute_result"
    }
   ],
   "source": [
    "loss, steps = loss_per_task(l1_loss_func_per_sphere, val_seen_l1_results[70])\n",
    "loss"
   ]
  },
  {
   "cell_type": "code",
   "execution_count": 33,
   "metadata": {
    "scrolled": true
   },
   "outputs": [
    {
     "data": {
      "text/plain": [
       "9.054625386368778"
      ]
     },
     "execution_count": 33,
     "metadata": {},
     "output_type": "execute_result"
    }
   ],
   "source": [
    "loss, steps = loss_per_task(l2_loss_func_per_sphere, val_seen_l1_results[70])\n",
    "loss"
   ]
  },
  {
   "cell_type": "code",
   "execution_count": 35,
   "metadata": {},
   "outputs": [],
   "source": [
    "def loss_per_task_by_time_steps(loss_func, task):\n",
    "    time_steps = len(task['agent_q_values'])\n",
    "    task_losses = {t: loss_func(task['agent_q_values'][t], task['teacher_q_values'][t]) for t in range(time_steps)}\n",
    "    return task_losses, time_steps"
   ]
  },
  {
   "cell_type": "code",
   "execution_count": 38,
   "metadata": {},
   "outputs": [
    {
     "data": {
      "text/plain": [
       "{0: 0.6663593237764076,\n",
       " 1: 0.5744290152669072,\n",
       " 2: 0.8699452239431661,\n",
       " 3: 2.1231598964308636,\n",
       " 4: 2.959133963839193,\n",
       " 5: 4.037565847123462,\n",
       " 6: 3.302488570467611,\n",
       " 7: 3.54005553313573}"
      ]
     },
     "execution_count": 38,
     "metadata": {},
     "output_type": "execute_result"
    }
   ],
   "source": [
    "losses, steps = loss_per_task_by_time_steps(l1_loss_func_per_sphere, val_seen_l1_results[70])\n",
    "losses"
   ]
  },
  {
   "cell_type": "code",
   "execution_count": 39,
   "metadata": {
    "scrolled": true
   },
   "outputs": [
    {
     "data": {
      "text/plain": [
       "{0: 0.5018353238162249,\n",
       " 1: 0.6496562166545202,\n",
       " 2: 0.9475862773686442,\n",
       " 3: 6.3938864204705865,\n",
       " 4: 12.916936564787779,\n",
       " 5: 21.23246938279027,\n",
       " 6: 13.85521546912272,\n",
       " 7: 15.939417435939486}"
      ]
     },
     "execution_count": 39,
     "metadata": {},
     "output_type": "execute_result"
    }
   ],
   "source": [
    "losses, steps = loss_per_task_by_time_steps(l2_loss_func_per_sphere, val_seen_l1_results[70])\n",
    "losses"
   ]
  },
  {
   "cell_type": "markdown",
   "metadata": {},
   "source": [
    "### Loop through results"
   ]
  },
  {
   "cell_type": "code",
   "execution_count": 40,
   "metadata": {},
   "outputs": [],
   "source": [
    "def make_idx_loss_map(results, gold_lengths):\n",
    "    idx_loss_map = {}\n",
    "\n",
    "    for task in results:\n",
    "        l1_loss, timesteps = loss_per_task(l1_loss_func_per_sphere, task)\n",
    "        l2_loss, _ = loss_per_task(l2_loss_func_per_sphere, task)\n",
    "        path_id = int(task['instr_id'].split(\"_\")[0])\n",
    "        \n",
    "        gold_traj_len = gold_lengths[path_id]\n",
    "\n",
    "        idx_loss_map[path_id] = {'gold_len':gold_traj_len, 'l1_loss':l1_loss, 'l2_loss':l2_loss, 'rollout_len':timesteps}\n",
    "    \n",
    "    return idx_loss_map"
   ]
  },
  {
   "cell_type": "code",
   "execution_count": 41,
   "metadata": {},
   "outputs": [],
   "source": [
    "idx_loss_map_val_seen_l1 = make_idx_loss_map(val_seen_l1_results, val_seen_gold_traj_lengths)\n",
    "idx_loss_map_val_unseen_l1 = make_idx_loss_map(val_unseen_l1_results, val_unseen_gold_traj_lengths)\n",
    "\n",
    "idx_loss_map_val_seen_l2 = make_idx_loss_map(val_seen_l2_results, val_seen_gold_traj_lengths)\n",
    "idx_loss_map_val_unseen_l2 = make_idx_loss_map(val_unseen_l2_results, val_unseen_gold_traj_lengths)"
   ]
  },
  {
   "cell_type": "code",
   "execution_count": 42,
   "metadata": {},
   "outputs": [],
   "source": [
    "def make_idx_loss_by_time_step_map(results, gold_lengths):\n",
    "    idx_losses_map = {}\n",
    "\n",
    "    for task in results:\n",
    "        l1_losses, timesteps = loss_per_task_by_time_steps(l1_loss_func_per_sphere, task)\n",
    "        l2_losses, _ = loss_per_task_by_time_steps(l2_loss_func_per_sphere, task)\n",
    "        path_id = int(task['instr_id'].split(\"_\")[0])\n",
    "        \n",
    "        gold_traj_len = gold_lengths[path_id]\n",
    "\n",
    "        idx_losses_map[path_id] = {'gold_len':gold_traj_len, 'l1_loss':l1_losses, 'l2_loss':l2_losses, 'rollout_len':timesteps}\n",
    "    \n",
    "    return idx_losses_map"
   ]
  },
  {
   "cell_type": "code",
   "execution_count": 43,
   "metadata": {},
   "outputs": [],
   "source": [
    "idx_loss_by_time_map_val_seen_l1 = make_idx_loss_by_time_step_map(val_seen_l1_results, val_seen_gold_traj_lengths)\n",
    "idx_loss_by_time_map_val_unseen_l1 = make_idx_loss_by_time_step_map(val_unseen_l1_results, val_unseen_gold_traj_lengths)\n",
    "\n",
    "idx_loss_by_time_map_val_seen_l2 = make_idx_loss_by_time_step_map(val_seen_l2_results, val_seen_gold_traj_lengths)\n",
    "idx_loss_by_time_map_val_unseen_l2 = make_idx_loss_by_time_step_map(val_unseen_l2_results, val_unseen_gold_traj_lengths)"
   ]
  },
  {
   "cell_type": "markdown",
   "metadata": {},
   "source": [
    "### Group by gold traj lengths"
   ]
  },
  {
   "cell_type": "code",
   "execution_count": 44,
   "metadata": {},
   "outputs": [],
   "source": [
    "def compute_len_group_avg(idx_loss_map, loss_str):\n",
    "\n",
    "    gold_length_to_loss = {i:[] for i in range(30)}\n",
    "\n",
    "    for idx in idx_loss_map:\n",
    "        task = idx_loss_map[idx]\n",
    "        gold_length_to_loss[task['gold_len']].append(task[loss_str])\n",
    "\n",
    "    gold_length_to_loss_avg = {i: np.mean(gold_length_to_loss[i]) for i in range(30)}\n",
    "    \n",
    "    return gold_length_to_loss_avg"
   ]
  },
  {
   "cell_type": "code",
   "execution_count": 45,
   "metadata": {},
   "outputs": [
    {
     "name": "stderr",
     "output_type": "stream",
     "text": [
      "/data/anaconda/envs/py35/lib/python3.5/site-packages/numpy/core/fromnumeric.py:2957: RuntimeWarning: Mean of empty slice.\n",
      "  out=out, **kwargs)\n",
      "/data/anaconda/envs/py35/lib/python3.5/site-packages/numpy/core/_methods.py:80: RuntimeWarning: invalid value encountered in double_scalars\n",
      "  ret = ret.dtype.type(ret / rcount)\n"
     ]
    }
   ],
   "source": [
    "len_group_avg_val_seen_l1 = compute_len_group_avg(idx_loss_map_val_seen_l1, 'l1_loss')\n",
    "len_group_avg_val_seen_l2 = compute_len_group_avg(idx_loss_map_val_seen_l2, 'l2_loss')"
   ]
  },
  {
   "cell_type": "code",
   "execution_count": 46,
   "metadata": {
    "scrolled": true
   },
   "outputs": [
    {
     "name": "stderr",
     "output_type": "stream",
     "text": [
      "/data/anaconda/envs/py35/lib/python3.5/site-packages/numpy/core/fromnumeric.py:2957: RuntimeWarning: Mean of empty slice.\n",
      "  out=out, **kwargs)\n",
      "/data/anaconda/envs/py35/lib/python3.5/site-packages/numpy/core/_methods.py:80: RuntimeWarning: invalid value encountered in double_scalars\n",
      "  ret = ret.dtype.type(ret / rcount)\n"
     ]
    }
   ],
   "source": [
    "len_group_avg_val_unseen_l1 = compute_len_group_avg(idx_loss_map_val_unseen_l1, 'l1_loss')\n",
    "len_group_avg_val_unseen_l2 = compute_len_group_avg(idx_loss_map_val_unseen_l2, 'l2_loss')"
   ]
  },
  {
   "cell_type": "markdown",
   "metadata": {},
   "source": [
    "## Set 1: Plot loss by gold trajectory lengths of task"
   ]
  },
  {
   "cell_type": "code",
   "execution_count": 47,
   "metadata": {},
   "outputs": [],
   "source": [
    "import matplotlib.pyplot as plt"
   ]
  },
  {
   "cell_type": "code",
   "execution_count": 111,
   "metadata": {},
   "outputs": [],
   "source": [
    "def plot(len_group_avg, x_label, loss_str):\n",
    "    x = np.array([gold_len for gold_len, loss_avg in len_group_avg.items()])\n",
    "    height = np.array([loss_avg for gold_len, loss_avg in len_group_avg.items()])\n",
    "    plt.figure(figsize=(20,10))\n",
    "    plt.bar(x, height, width=0.8)\n",
    "    plt.ylabel(\"Loss {}\".format(loss_str))\n",
    "    plt.xlabel(x_label)"
   ]
  },
  {
   "cell_type": "code",
   "execution_count": 112,
   "metadata": {},
   "outputs": [
    {
     "data": {
      "image/png": "[encoded data removed]",
      "text/plain": [
       "<Figure size 1440x720 with 1 Axes>"
      ]
     },
     "metadata": {
      "needs_background": "light"
     },
     "output_type": "display_data"
    }
   ],
   "source": [
    "plot(len_group_avg_val_seen_l1, \"Number of vertex hops\", \"l1\")"
   ]
  },
  {
   "cell_type": "code",
   "execution_count": 113,
   "metadata": {
    "scrolled": false
   },
   "outputs": [
    {
     "data": {
      "image/png": "[encoded data removed]",
      "text/plain": [
       "<Figure size 1440x720 with 1 Axes>"
      ]
     },
     "metadata": {
      "needs_background": "light"
     },
     "output_type": "display_data"
    }
   ],
   "source": [
    "plot(len_group_avg_val_seen_l2, \"Number of vertex hops\", 'l2')"
   ]
  },
  {
   "cell_type": "code",
   "execution_count": 114,
   "metadata": {},
   "outputs": [
    {
     "data": {
      "image/png": "[encoded data removed]",
      "text/plain": [
       "<Figure size 1440x720 with 1 Axes>"
      ]
     },
     "metadata": {
      "needs_background": "light"
     },
     "output_type": "display_data"
    }
   ],
   "source": [
    "plot(len_group_avg_val_unseen_l1, \"Number of vertex hops\", 'l1')"
   ]
  },
  {
   "cell_type": "code",
   "execution_count": 115,
   "metadata": {},
   "outputs": [
    {
     "data": {
      "image/png": "[encoded data removed]",
      "text/plain": [
       "<Figure size 1440x720 with 1 Axes>"
      ]
     },
     "metadata": {
      "needs_background": "light"
     },
     "output_type": "display_data"
    }
   ],
   "source": [
    "plot(len_group_avg_val_unseen_l2, \"Number of vertex hops\", 'l2')"
   ]
  },
  {
   "cell_type": "markdown",
   "metadata": {},
   "source": [
    "### Group by timesteps"
   ]
  },
  {
   "cell_type": "code",
   "execution_count": 116,
   "metadata": {},
   "outputs": [],
   "source": [
    "def comput_timestep_group_avg(idx_loss_by_time_map, loss_str):\n",
    "    \n",
    "    timestep_to_loss = {t:[] for t in range(30)}\n",
    "    \n",
    "    for idx in idx_loss_by_time_map:\n",
    "        task = idx_loss_by_time_map[idx]\n",
    "        for t in task[loss_str]:\n",
    "            timestep_to_loss[t].append(task[loss_str][t])\n",
    "    \n",
    "#     import pdb; pdb.set_trace()\n",
    "    timestep_to_loss_avg = {i: np.mean(timestep_to_loss[i]) for i in range(30)}\n",
    "    \n",
    "    return timestep_to_loss_avg"
   ]
  },
  {
   "cell_type": "code",
   "execution_count": 117,
   "metadata": {
    "scrolled": true
   },
   "outputs": [
    {
     "name": "stderr",
     "output_type": "stream",
     "text": [
      "/data/anaconda/envs/py35/lib/python3.5/site-packages/numpy/core/fromnumeric.py:2957: RuntimeWarning: Mean of empty slice.\n",
      "  out=out, **kwargs)\n",
      "/data/anaconda/envs/py35/lib/python3.5/site-packages/numpy/core/_methods.py:80: RuntimeWarning: invalid value encountered in double_scalars\n",
      "  ret = ret.dtype.type(ret / rcount)\n"
     ]
    }
   ],
   "source": [
    "timestep_group_avg_val_seen_l1 = comput_timestep_group_avg(idx_loss_by_time_map_val_seen_l1, 'l1_loss')\n",
    "timestep_group_avg_val_seen_l2 = comput_timestep_group_avg(idx_loss_by_time_map_val_seen_l2, 'l2_loss')\n",
    "\n",
    "timestep_group_avg_val_unseen_l1 = comput_timestep_group_avg(idx_loss_by_time_map_val_unseen_l1, 'l1_loss')\n",
    "timestep_group_avg_val_unseen_l2 = comput_timestep_group_avg(idx_loss_by_time_map_val_unseen_l2, 'l2_loss')"
   ]
  },
  {
   "cell_type": "markdown",
   "metadata": {},
   "source": [
    "## Set 2: Plot loss by Number of timesteps into episode"
   ]
  },
  {
   "cell_type": "code",
   "execution_count": 118,
   "metadata": {},
   "outputs": [
    {
     "data": {
      "image/png": "[encoded data removed]",
      "text/plain": [
       "<Figure size 1440x720 with 1 Axes>"
      ]
     },
     "metadata": {
      "needs_background": "light"
     },
     "output_type": "display_data"
    }
   ],
   "source": [
    "plot(timestep_group_avg_val_seen_l1, \"time steps into episode\", \"l1\")"
   ]
  },
  {
   "cell_type": "code",
   "execution_count": 119,
   "metadata": {},
   "outputs": [
    {
     "data": {
      "image/png": "[encoded data removed]",
      "text/plain": [
       "<Figure size 1440x720 with 1 Axes>"
      ]
     },
     "metadata": {
      "needs_background": "light"
     },
     "output_type": "display_data"
    }
   ],
   "source": [
    "plot(timestep_group_avg_val_seen_l2, \"time steps into episode\", \"l2\")"
   ]
  },
  {
   "cell_type": "code",
   "execution_count": 120,
   "metadata": {},
   "outputs": [
    {
     "data": {
      "image/png": "[encoded data removed]",
      "text/plain": [
       "<Figure size 1440x720 with 1 Axes>"
      ]
     },
     "metadata": {
      "needs_background": "light"
     },
     "output_type": "display_data"
    }
   ],
   "source": [
    "plot(timestep_group_avg_val_unseen_l1, \"time steps into episode\", \"l1\")"
   ]
  },
  {
   "cell_type": "code",
   "execution_count": 121,
   "metadata": {},
   "outputs": [
    {
     "data": {
      "image/png": "[encoded data removed]",
      "text/plain": [
       "<Figure size 1440x720 with 1 Axes>"
      ]
     },
     "metadata": {
      "needs_background": "light"
     },
     "output_type": "display_data"
    }
   ],
   "source": [
    "plot(timestep_group_avg_val_unseen_l2, \"time steps into episode\", \"l2\")"
   ]
  },
  {
   "cell_type": "markdown",
   "metadata": {},
   "source": [
    "### What are the q-value sizes?"
   ]
  },
  {
   "cell_type": "code",
   "execution_count": 62,
   "metadata": {},
   "outputs": [],
   "source": [
    "tar = []\n",
    "pred = []\n",
    "\n",
    "for res in val_seen_l1_results:\n",
    "    timesteps = len(res['agent_q_values'])\n",
    "    for t in range(timesteps):\n",
    "        tar += [val for val in res['teacher_q_values'][t] if val != 1e9]\n",
    "        pred += [val for val in res['agent_q_values'][t] if val != 1e9]"
   ]
  },
  {
   "cell_type": "code",
   "execution_count": 63,
   "metadata": {},
   "outputs": [
    {
     "data": {
      "text/plain": [
       "(56.509506174029944, 0.3287194101357572)"
      ]
     },
     "execution_count": 63,
     "metadata": {},
     "output_type": "execute_result"
    }
   ],
   "source": [
    "max(tar), min(tar)"
   ]
  },
  {
   "cell_type": "code",
   "execution_count": 64,
   "metadata": {
    "scrolled": true
   },
   "outputs": [
    {
     "data": {
      "text/plain": [
       "(51.936134338378906, 0.6108593940734863)"
      ]
     },
     "execution_count": 64,
     "metadata": {},
     "output_type": "execute_result"
    }
   ],
   "source": [
    "max(pred), min(pred)"
   ]
  },
  {
   "cell_type": "code",
   "execution_count": 65,
   "metadata": {},
   "outputs": [],
   "source": [
    "tar = []\n",
    "pred = []\n",
    "\n",
    "for res in val_seen_l2_results:\n",
    "    timesteps = len(res['agent_q_values'])\n",
    "    for t in range(timesteps):\n",
    "        tar += [val for val in res['teacher_q_values'][t] if val != 1e9]\n",
    "        pred += [val for val in res['agent_q_values'][t] if val != 1e9]"
   ]
  },
  {
   "cell_type": "code",
   "execution_count": 66,
   "metadata": {},
   "outputs": [
    {
     "data": {
      "text/plain": [
       "(56.509506174029944, 0.3287194101357572)"
      ]
     },
     "execution_count": 66,
     "metadata": {},
     "output_type": "execute_result"
    }
   ],
   "source": [
    "max(tar), min(tar)"
   ]
  },
  {
   "cell_type": "code",
   "execution_count": 67,
   "metadata": {
    "scrolled": false
   },
   "outputs": [
    {
     "data": {
      "text/plain": [
       "(51.936134338378906, 0.6108593940734863)"
      ]
     },
     "execution_count": 67,
     "metadata": {},
     "output_type": "execute_result"
    }
   ],
   "source": [
    "max(pred), min(pred)"
   ]
  },
  {
   "cell_type": "markdown",
   "metadata": {},
   "source": [
    "## Set 3: Plot loss by expert (cost-to-go + cost-stepping)"
   ]
  },
  {
   "cell_type": "code",
   "execution_count": 68,
   "metadata": {},
   "outputs": [],
   "source": [
    "def compute_loss_by_q_targets(results):\n",
    "\n",
    "    tars = []\n",
    "    preds = []\n",
    "\n",
    "    for task in results:\n",
    "\n",
    "        timesteps = len(task['agent_q_values'])\n",
    "\n",
    "        for t in range(timesteps):\n",
    "            tars += [val for val in task['teacher_q_values'][t] if val != 1e9]\n",
    "            preds += [val for val in task['agent_q_values'][t] if val != 1e9]\n",
    "\n",
    "    l1_losses = np.abs(np.array(tars) - np.array(preds))\n",
    "    l2_losses = (np.array(tars) - np.array(preds))**2\n",
    "\n",
    "    return np.array(tars), np.array(preds), l1_losses, l2_losses"
   ]
  },
  {
   "cell_type": "code",
   "execution_count": 69,
   "metadata": {},
   "outputs": [],
   "source": [
    "val_seen_l1_tars, val_seen_l1_preds, val_seen_l1_losses, _ = compute_loss_by_q_targets(val_seen_l1_results)\n",
    "val_seen_l2_tars, val_seen_l2_preds, _, val_seen_l2_losses = compute_loss_by_q_targets(val_seen_l2_results)\n",
    "\n",
    "val_unseen_l1_tars, val_unseen_l1_preds, val_unseen_l1_losses, _ = compute_loss_by_q_targets(val_unseen_l1_results)\n",
    "val_unseen_l2_tars, val_unseen_l2_preds, _, val_unseen_l2_losses = compute_loss_by_q_targets(val_unseen_l2_results)"
   ]
  },
  {
   "cell_type": "code",
   "execution_count": 130,
   "metadata": {},
   "outputs": [],
   "source": [
    "def plot_loss_grouped_by_q_target_size(results, loss_str, sample_size=5000):\n",
    "    tars, preds, l1_losses, l2_losses = compute_loss_by_q_targets(results)\n",
    "    indices = np.random.choice(len(tars), size=sample_size)\n",
    "  \n",
    "    plt.figure(figsize=(20,10))\n",
    "    if loss_str == 'l1':\n",
    "        plt.bar(tars[indices], l1_losses[indices])\n",
    "    else:\n",
    "        plt.bar(tars[indices], l2_losses[indices])\n",
    "    plt.xlabel('Expert Cost-to-go + Cost-stepping in meters')\n",
    "    plt.ylabel(loss_str)"
   ]
  },
  {
   "cell_type": "code",
   "execution_count": 131,
   "metadata": {},
   "outputs": [
    {
     "data": {
      "image/png": "[encoded data removed]",
      "text/plain": [
       "<Figure size 1440x720 with 1 Axes>"
      ]
     },
     "metadata": {
      "needs_background": "light"
     },
     "output_type": "display_data"
    }
   ],
   "source": [
    "plot_loss_grouped_by_q_target_size(val_seen_l1_results, 'l1')"
   ]
  },
  {
   "cell_type": "code",
   "execution_count": 132,
   "metadata": {},
   "outputs": [
    {
     "data": {
      "image/png": "[encoded data removed]",
      "text/plain": [
       "<Figure size 1440x720 with 1 Axes>"
      ]
     },
     "metadata": {
      "needs_background": "light"
     },
     "output_type": "display_data"
    }
   ],
   "source": [
    "plot_loss_grouped_by_q_target_size(val_seen_l2_results, 'l2')"
   ]
  },
  {
   "cell_type": "code",
   "execution_count": 133,
   "metadata": {},
   "outputs": [
    {
     "data": {
      "image/png": "[encoded data removed]",
      "text/plain": [
       "<Figure size 1440x720 with 1 Axes>"
      ]
     },
     "metadata": {
      "needs_background": "light"
     },
     "output_type": "display_data"
    }
   ],
   "source": [
    "plot_loss_grouped_by_q_target_size(val_unseen_l1_results, 'l1')"
   ]
  },
  {
   "cell_type": "code",
   "execution_count": 134,
   "metadata": {},
   "outputs": [
    {
     "data": {
      "image/png": "[encoded data removed]",
      "text/plain": [
       "<Figure size 1440x720 with 1 Axes>"
      ]
     },
     "metadata": {
      "needs_background": "light"
     },
     "output_type": "display_data"
    }
   ],
   "source": [
    "plot_loss_grouped_by_q_target_size(val_unseen_l2_results, 'l2')"
   ]
  },
  {
   "cell_type": "markdown",
   "metadata": {},
   "source": [
    "## Set 4: Plot loss by expert cost-to-go"
   ]
  },
  {
   "cell_type": "code",
   "execution_count": 127,
   "metadata": {},
   "outputs": [],
   "source": [
    "def compute_loss_by_cost_togo_targets(results):\n",
    "\n",
    "    tars = []\n",
    "    preds = []\n",
    "\n",
    "    for task in results:\n",
    "\n",
    "        timesteps = len(task['agent_q_values'])\n",
    "\n",
    "        for t in range(timesteps):\n",
    "            tars += [val for val in task['teacher_cost_togo'][t] if val != 1e9]\n",
    "            preds += [val for val in task['agent_q_values'][t] if val != 1e9]\n",
    "\n",
    "    l1_losses = np.abs(np.array(tars) - np.array(preds))\n",
    "    l2_losses = (np.array(tars) - np.array(preds))**2\n",
    "\n",
    "    return np.array(tars), np.array(preds), l1_losses, l2_losses"
   ]
  },
  {
   "cell_type": "code",
   "execution_count": 88,
   "metadata": {},
   "outputs": [],
   "source": [
    "val_seen_l1_tars, val_seen_l1_preds, val_seen_l1_losses, _ = compute_loss_by_cost_togo_targets(val_seen_l1_results)\n",
    "val_seen_l2_tars, val_seen_l2_preds, _, val_seen_l2_losses = compute_loss_by_cost_togo_targets(val_seen_l2_results)\n",
    "\n",
    "val_unseen_l1_tars, val_unseen_l1_preds, val_unseen_l1_losses, _ = compute_loss_by_cost_togo_targets(val_unseen_l1_results)\n",
    "val_unseen_l2_tars, val_unseen_l2_preds, _, val_unseen_l2_losses = compute_loss_by_cost_togo_targets(val_unseen_l2_results)"
   ]
  },
  {
   "cell_type": "code",
   "execution_count": 135,
   "metadata": {},
   "outputs": [],
   "source": [
    "def plot_loss_grouped_by_cost_togo_size(results, loss_str, sample_size=5000):\n",
    "    tars, preds, l1_losses, l2_losses = compute_loss_by_cost_togo_targets(results)\n",
    "    indices = np.random.choice(len(tars), size=sample_size)\n",
    "  \n",
    "    plt.figure(figsize=(20,10))\n",
    "    if loss_str == 'l1':\n",
    "        plt.bar(tars[indices], l1_losses[indices])\n",
    "    else:\n",
    "        plt.bar(tars[indices], l2_losses[indices])\n",
    "    plt.xlabel('Expert cost-to-go in meters')\n",
    "    plt.ylabel(loss_str)"
   ]
  },
  {
   "cell_type": "code",
   "execution_count": 136,
   "metadata": {
    "scrolled": false
   },
   "outputs": [
    {
     "data": {
      "image/png": "[encoded data removed]",
      "text/plain": [
       "<Figure size 1440x720 with 1 Axes>"
      ]
     },
     "metadata": {
      "needs_background": "light"
     },
     "output_type": "display_data"
    }
   ],
   "source": [
    "plot_loss_grouped_by_cost_togo_size(val_seen_l1_results, 'l1')"
   ]
  },
  {
   "cell_type": "code",
   "execution_count": 137,
   "metadata": {},
   "outputs": [
    {
     "data": {
      "image/png": "[encoded data removed]",
      "text/plain": [
       "<Figure size 1440x720 with 1 Axes>"
      ]
     },
     "metadata": {
      "needs_background": "light"
     },
     "output_type": "display_data"
    }
   ],
   "source": [
    "plot_loss_grouped_by_cost_togo_size(val_seen_l2_results, 'l2')"
   ]
  },
  {
   "cell_type": "code",
   "execution_count": 138,
   "metadata": {
    "scrolled": false
   },
   "outputs": [
    {
     "data": {
      "image/png": "[encoded data removed]",
      "text/plain": [
       "<Figure size 1440x720 with 1 Axes>"
      ]
     },
     "metadata": {
      "needs_background": "light"
     },
     "output_type": "display_data"
    }
   ],
   "source": [
    "plot_loss_grouped_by_cost_togo_size(val_unseen_l1_results, 'l1')"
   ]
  },
  {
   "cell_type": "code",
   "execution_count": 139,
   "metadata": {},
   "outputs": [
    {
     "data": {
      "image/png": "[encoded data removed]",
      "text/plain": [
       "<Figure size 1440x720 with 1 Axes>"
      ]
     },
     "metadata": {
      "needs_background": "light"
     },
     "output_type": "display_data"
    }
   ],
   "source": [
    "plot_loss_grouped_by_cost_togo_size(val_unseen_l2_results, 'l2')"
   ]
  },
  {
   "cell_type": "code",
   "execution_count": null,
   "metadata": {},
   "outputs": [],
   "source": []
  },
  {
   "cell_type": "markdown",
   "metadata": {},
   "source": [
    "## Set 5: Plot loss by expert cost-stepping"
   ]
  },
  {
   "cell_type": "code",
   "execution_count": 140,
   "metadata": {},
   "outputs": [],
   "source": [
    "def compute_loss_by_cost_stepping_targets(results):\n",
    "\n",
    "    tars = []\n",
    "    preds = []\n",
    "\n",
    "    for task in results:\n",
    "\n",
    "        timesteps = len(task['agent_q_values'])\n",
    "\n",
    "        for t in range(timesteps):\n",
    "            tars += [val for val in task['teacher_cost_stepping'][t] if val != 1e9]\n",
    "            preds += [val for val in task['agent_q_values'][t] if val != 1e9]\n",
    "\n",
    "    l1_losses = np.abs(np.array(tars) - np.array(preds))\n",
    "    l2_losses = (np.array(tars) - np.array(preds))**2\n",
    "\n",
    "    return np.array(tars), np.array(preds), l1_losses, l2_losses"
   ]
  },
  {
   "cell_type": "code",
   "execution_count": 141,
   "metadata": {},
   "outputs": [],
   "source": [
    "val_seen_l1_tars, val_seen_l1_preds, val_seen_l1_losses, _ = compute_loss_by_cost_stepping_targets(val_seen_l1_results)\n",
    "val_seen_l2_tars, val_seen_l2_preds, _, val_seen_l2_losses = compute_loss_by_cost_stepping_targets(val_seen_l2_results)\n",
    "\n",
    "val_unseen_l1_tars, val_unseen_l1_preds, val_unseen_l1_losses, _ = compute_loss_by_cost_stepping_targets(val_unseen_l1_results)\n",
    "val_unseen_l2_tars, val_unseen_l2_preds, _, val_unseen_l2_losses = compute_loss_by_cost_stepping_targets(val_unseen_l2_results)"
   ]
  },
  {
   "cell_type": "code",
   "execution_count": 142,
   "metadata": {},
   "outputs": [],
   "source": [
    "def plot_loss_grouped_by_cost_stepping_size(results, loss_str, sample_size=5000):\n",
    "    tars, preds, l1_losses, l2_losses = compute_loss_by_cost_stepping_targets(results)\n",
    "    indices = np.random.choice(len(tars), size=sample_size)\n",
    "  \n",
    "    plt.figure(figsize=(20,10))\n",
    "    if loss_str == 'l1':\n",
    "        plt.bar(tars[indices], l1_losses[indices])\n",
    "    else:\n",
    "        plt.bar(tars[indices], l2_losses[indices])\n",
    "    plt.ylabel(loss_str)\n",
    "    plt.xlabel('Expert cost-stepping')"
   ]
  },
  {
   "cell_type": "code",
   "execution_count": 143,
   "metadata": {},
   "outputs": [
    {
     "data": {
      "image/png": "[encoded data removed]",
      "text/plain": [
       "<Figure size 1440x720 with 1 Axes>"
      ]
     },
     "metadata": {
      "needs_background": "light"
     },
     "output_type": "display_data"
    }
   ],
   "source": [
    "plot_loss_grouped_by_cost_stepping_size(val_seen_l1_results, 'l1')"
   ]
  },
  {
   "cell_type": "code",
   "execution_count": 144,
   "metadata": {},
   "outputs": [
    {
     "data": {
      "image/png": "[encoded data removed]",
      "text/plain": [
       "<Figure size 1440x720 with 1 Axes>"
      ]
     },
     "metadata": {
      "needs_background": "light"
     },
     "output_type": "display_data"
    }
   ],
   "source": [
    "plot_loss_grouped_by_cost_stepping_size(val_seen_l2_results, 'l2')"
   ]
  },
  {
   "cell_type": "code",
   "execution_count": 145,
   "metadata": {},
   "outputs": [
    {
     "data": {
      "image/png": "[encoded data removed]",
      "text/plain": [
       "<Figure size 1440x720 with 1 Axes>"
      ]
     },
     "metadata": {
      "needs_background": "light"
     },
     "output_type": "display_data"
    }
   ],
   "source": [
    "plot_loss_grouped_by_cost_stepping_size(val_unseen_l1_results, 'l1')"
   ]
  },
  {
   "cell_type": "code",
   "execution_count": 146,
   "metadata": {},
   "outputs": [
    {
     "data": {
      "image/png": "[encoded data removed]",
      "text/plain": [
       "<Figure size 1440x720 with 1 Axes>"
      ]
     },
     "metadata": {
      "needs_background": "light"
     },
     "output_type": "display_data"
    }
   ],
   "source": [
    "plot_loss_grouped_by_cost_stepping_size(val_unseen_l2_results, 'l2')"
   ]
  },
  {
   "cell_type": "code",
   "execution_count": null,
   "metadata": {},
   "outputs": [],
   "source": []
  },
  {
   "cell_type": "markdown",
   "metadata": {},
   "source": [
    "## Does the agent go back to its previous steps?"
   ]
  },
  {
   "cell_type": "code",
   "execution_count": 21,
   "metadata": {},
   "outputs": [],
   "source": [
    "def compress_trajectory(traj_list):\n",
    "    \n",
    "    curr_v = traj_list[0][0]\n",
    "    compressed_traj = [curr_v]\n",
    "    for step in traj_list:\n",
    "        if step[0] != curr_v:\n",
    "            curr_v = step[0]\n",
    "            compressed_traj.append(curr_v)\n",
    "            \n",
    "    return compressed_traj"
   ]
  },
  {
   "cell_type": "code",
   "execution_count": 22,
   "metadata": {},
   "outputs": [],
   "source": [
    "def check_duplicates(traj_list):\n",
    "    compressed_traj = compress_trajectory(traj_list)\n",
    "    return Counter(compressed_traj).most_common()[0][1]"
   ]
  },
  {
   "cell_type": "code",
   "execution_count": 34,
   "metadata": {},
   "outputs": [],
   "source": [
    "def count_duplicates_for_results(results):\n",
    "    duplicates_count = []\n",
    "    for res in results:\n",
    "        duplicates_count.append(check_duplicates(res['trajectory']))\n",
    "\n",
    "    return duplicates_count, len([ct for ct in duplicates_count if ct > 1]) * 1.0 / len(results)"
   ]
  },
  {
   "cell_type": "code",
   "execution_count": 83,
   "metadata": {},
   "outputs": [],
   "source": [
    "def compute_graph_size_per_dup_count(results):\n",
    "    duplicates_list, duplicates_frac = count_duplicates_for_results(results)\n",
    "    \n",
    "    dup_ct_scan_list = defaultdict(list)\n",
    "    for i, dup_ct in enumerate(duplicates_list):\n",
    "        dup_ct_scan_list[dup_ct].append(results[i]['scan'])\n",
    "        \n",
    "    dup_ct_graph_size = {}\n",
    "\n",
    "    for dup_ct in dup_ct_scan_list:\n",
    "\n",
    "        scan_list = dup_ct_scan_list[dup_ct]\n",
    "        graph_sizes = []\n",
    "        for scan in scan_list:\n",
    "            G = utils.load_nav_graphs(scan)\n",
    "            graph_sizes.append(len(G))\n",
    "\n",
    "        dup_ct_graph_size[dup_ct] = np.mean(graph_sizes)\n",
    "        \n",
    "    return Counter(duplicates_list), dup_ct_graph_size"
   ]
  },
  {
   "cell_type": "code",
   "execution_count": 84,
   "metadata": {},
   "outputs": [],
   "source": [
    "counter, avg_graph_size = compute_graph_size_per_dup_count(val_seen_l2_results)"
   ]
  },
  {
   "cell_type": "code",
   "execution_count": 85,
   "metadata": {},
   "outputs": [
    {
     "data": {
      "text/plain": [
       "Counter({1: 2315,\n",
       "         2: 1491,\n",
       "         3: 576,\n",
       "         4: 292,\n",
       "         5: 171,\n",
       "         6: 24,\n",
       "         7: 2,\n",
       "         8: 1,\n",
       "         12: 1,\n",
       "         13: 1})"
      ]
     },
     "execution_count": 85,
     "metadata": {},
     "output_type": "execute_result"
    }
   ],
   "source": [
    "counter"
   ]
  },
  {
   "cell_type": "code",
   "execution_count": 86,
   "metadata": {},
   "outputs": [
    {
     "data": {
      "text/plain": [
       "{1: 134.37365010799135,\n",
       " 2: 122.79946344735077,\n",
       " 3: 129.34548611111111,\n",
       " 4: 122.57191780821918,\n",
       " 5: 140.859649122807,\n",
       " 6: 107.0,\n",
       " 7: 251.0,\n",
       " 8: 345.0,\n",
       " 12: 109.0,\n",
       " 13: 345.0}"
      ]
     },
     "execution_count": 86,
     "metadata": {},
     "output_type": "execute_result"
    }
   ],
   "source": [
    "avg_graph_size"
   ]
  },
  {
   "cell_type": "markdown",
   "metadata": {},
   "source": [
    "### Group by room types (ignore, DSVM dead)"
   ]
  },
  {
   "cell_type": "code",
   "execution_count": null,
   "metadata": {},
   "outputs": [],
   "source": []
  },
  {
   "cell_type": "code",
   "execution_count": 149,
   "metadata": {},
   "outputs": [],
   "source": [
    "all_panos_to_region = {}\n",
    "val_seen_scans = [res['scan'] for res in val_seen_l1_results]\n",
    "val_unseen_scans = [res['scan'] for res in val_unseen_l1_results]\n",
    "\n",
    "for scan in val_seen_scans:\n",
    "    if scan not in all_panos_to_region.keys():\n",
    "        all_panos_to_region[scan] = utils.load_panos_to_region(scan, '')\n",
    "        \n",
    "for scan in val_unseen_scans:\n",
    "    if scan not in all_panos_to_region.keys():\n",
    "        all_panos_to_region[scan] = utils.load_panos_to_region(scan, '')"
   ]
  },
  {
   "cell_type": "code",
   "execution_count": 150,
   "metadata": {},
   "outputs": [],
   "source": [
    "def compute_loss_by_room_types(results):\n",
    "\n",
    "    tars = []\n",
    "    preds = []\n",
    "    rms_curr = []\n",
    "    rms_next = []\n",
    "\n",
    "    for task in results:\n",
    "\n",
    "        timesteps = len(task['agent_q_values'])\n",
    "        scan = task['scan']\n",
    "        \n",
    "        for t in range(timesteps):\n",
    "            tars += [val for val in task['teacher_q_values'][t] if val != 1e9]\n",
    "            preds += [val for val in task['agent_q_values'][t] if val != 1e9]\n",
    "            vertex_curr = task['trajectory'][t][0]\n",
    "            vertex_next = task['trajectory'][t+1][0]\n",
    "#             import pdb; pdb.set_trace()\n",
    "            rm_label_curr = all_panos_to_region[scan][vertex_curr]\n",
    "            rm_label_next = all_panos_to_region[scan][vertex_next]\n",
    "            \n",
    "            rms_curr += [rm_label_curr for _ in range(len(tars))]\n",
    "            rms_next += [rm_label_next for _ in range(len(tars))]\n",
    "\n",
    "    l1_losses = np.abs(np.array(tars) - np.array(preds))\n",
    "    l2_losses = (np.array(tars) - np.array(preds))**2\n",
    "\n",
    "    return np.array(tars), np.array(preds), l1_losses, l2_losses, rms_curr, rms_next"
   ]
  },
  {
   "cell_type": "code",
   "execution_count": 151,
   "metadata": {},
   "outputs": [
    {
     "data": {
      "text/plain": [
       "dict_keys(['agent_q_values', 'expert_rollin_bool', 'instr_id', 'teacher_q_values', 'trajectory', 'teacher_cost_stepping', 'teacher_cost_togo', 'agent_nav', 'beta', 'scan'])"
      ]
     },
     "execution_count": 151,
     "metadata": {},
     "output_type": "execute_result"
    }
   ],
   "source": [
    "val_unseen_l2_results[0].keys()"
   ]
  },
  {
   "cell_type": "code",
   "execution_count": 152,
   "metadata": {
    "scrolled": true
   },
   "outputs": [],
   "source": [
    "tars, preds, l1_losses, l2_losses, rms_curr, rms_next = compute_loss_by_room_types(val_unseen_l2_results)"
   ]
  },
  {
   "cell_type": "code",
   "execution_count": 157,
   "metadata": {},
   "outputs": [
    {
     "name": "stderr",
     "output_type": "stream",
     "text": [
      "Exception ignored in: 'zmq.backend.cython.message.Frame.__dealloc__'\n",
      "Traceback (most recent call last):\n",
      "  File \"zmq/backend/cython/checkrc.pxd\", line 12, in zmq.backend.cython.checkrc._check_rc\n",
      "KeyboardInterrupt\n"
     ]
    }
   ],
   "source": [
    "def plot_loss_grouped_by_rm_types(tars, preds, l1_losses, l2_losses, rms_curr, rms_next, sample_size=5000):\n",
    "\n",
    "    indices = np.random.choice(len(tars), size=sample_size)\n",
    "  \n",
    "    plt.figure(figsize=(20,10))\n",
    "    if loss_str == 'l1':\n",
    "        if rm_str == 'curr':\n",
    "            plt.bar(rms_curr[indices], l1_losses[indices])\n",
    "        else:\n",
    "            plt.bar(rms_next[indices], l1_losses[indices])\n",
    "    else:\n",
    "        if rm_str == 'curr':\n",
    "            plt.bar(rms_curr[indices], l2_losses[indices])\n",
    "        else:\n",
    "            plt.bar(rms_next[indices], l1_losses[indices])\n",
    "    plt.ylabel(loss_str)\n",
    "    plt.xlable('Room Type')"
   ]
  },
  {
   "cell_type": "code",
   "execution_count": 158,
   "metadata": {
    "scrolled": false
   },
   "outputs": [
    {
     "ename": "TypeError",
     "evalue": "plot_loss_grouped_by_rm_types() missing 4 required positional arguments: 'l1_losses', 'l2_losses', 'rms_curr', and 'rms_next'",
     "output_type": "error",
     "traceback": [
      "\u001b[0;31m---------------------------------------------------------------------------\u001b[0m",
      "\u001b[0;31mTypeError\u001b[0m                                 Traceback (most recent call last)",
      "\u001b[0;32m<ipython-input-158-50b79cc2aaa8>\u001b[0m in \u001b[0;36m<module>\u001b[0;34m()\u001b[0m\n\u001b[0;32m----> 1\u001b[0;31m \u001b[0mplot_loss_grouped_by_rm_types\u001b[0m\u001b[0;34m(\u001b[0m\u001b[0mval_seen_l1_results\u001b[0m\u001b[0;34m,\u001b[0m \u001b[0;34m'l1'\u001b[0m\u001b[0;34m)\u001b[0m\u001b[0;34m\u001b[0m\u001b[0m\n\u001b[0m",
      "\u001b[0;31mTypeError\u001b[0m: plot_loss_grouped_by_rm_types() missing 4 required positional arguments: 'l1_losses', 'l2_losses', 'rms_curr', and 'rms_next'"
     ]
    }
   ],
   "source": [
    "plot_loss_grouped_by_rm_types(val_seen_l1_results, 'l1')\n",
    "plot_loss_grouped_by_rm_types(val_seen_l2_results, 'l2')\n",
    "plot_loss_grouped_by_rm_types(val_unseen_l1_results, 'l1')\n",
    "plot_loss_grouped_by_rm_types(val_unseen_l2_results, 'l2')"
   ]
  },
  {
   "cell_type": "code",
   "execution_count": null,
   "metadata": {},
   "outputs": [],
   "source": []
  }
 ],
 "metadata": {
  "kernelspec": {
   "display_name": "Python [conda env:py35]",
   "language": "python",
   "name": "conda-env-py35-py"
  },
  "language_info": {
   "codemirror_mode": {
    "name": "ipython",
    "version": 3
   },
   "file_extension": ".py",
   "mimetype": "text/x-python",
   "name": "python",
   "nbconvert_exporter": "python",
   "pygments_lexer": "ipython3",
   "version": "3.5.5"
  }
 },
 "nbformat": 4,
 "nbformat_minor": 2
}
