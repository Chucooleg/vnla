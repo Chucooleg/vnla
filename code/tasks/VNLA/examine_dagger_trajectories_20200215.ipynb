{
 "cells": [
  {
   "cell_type": "code",
   "execution_count": 47,
   "metadata": {},
   "outputs": [],
   "source": [
    "import json\n",
    "import numpy as np\n",
    "import pickle\n",
    "import utils\n",
    "import sys\n",
    "import os\n",
    "import math\n",
    "from collections import defaultdict\n",
    "from collections import Counter"
   ]
  },
  {
   "cell_type": "code",
   "execution_count": 4,
   "metadata": {},
   "outputs": [],
   "source": [
    "try:\n",
    "    sys.path.append('/opt/MatterSim/build/')  # local docker or Philly\n",
    "    import MatterSim\n",
    "except: \n",
    "    # local conda env only\n",
    "    sys.path.append('/home/hoyeung/Documents/vnla/code/build')  \n",
    "    import MatterSim"
   ]
  },
  {
   "cell_type": "code",
   "execution_count": 5,
   "metadata": {},
   "outputs": [],
   "source": [
    "PT_DATA_DIR = \"/home/hoyeung/blob_matterport3d/\"\n",
    "os.environ['PT_DATA_DIR'] = \"/home/hoyeung/blob_matterport3d/\"\n",
    "\n",
    "EXP_DIR = \"/home/hoyeung/blob_experiments/\""
   ]
  },
  {
   "cell_type": "raw",
   "metadata": {},
   "source": [
    "drwxrwxrwx 2 root root 4096 Feb 15 10:45 dagger_learned_ask\n",
    "drwxrwxrwx 2 root root 4096 Feb 15 10:46 dagger_learned_ask_with_semantics\n",
    "drwxrwxrwx 2 root root 4096 Feb 15 10:46 dagger_no_ask\n",
    "drwxrwxrwx 2 root root 4096 Feb 15 10:46 dagger_no_ask_with_semantics"
   ]
  },
  {
   "cell_type": "code",
   "execution_count": 6,
   "metadata": {},
   "outputs": [
    {
     "data": {
      "text/plain": [
       "4874"
      ]
     },
     "execution_count": 6,
     "metadata": {},
     "output_type": "execute_result"
    }
   ],
   "source": [
    "with open(PT_DATA_DIR + \"asknav/asknav_val_seen.json\", \"r\") as f:\n",
    "    seen_data = json.load(f)\n",
    "    \n",
    "len(seen_data)"
   ]
  },
  {
   "cell_type": "code",
   "execution_count": 7,
   "metadata": {},
   "outputs": [
    {
     "data": {
      "text/plain": [
       "94798"
      ]
     },
     "execution_count": 7,
     "metadata": {},
     "output_type": "execute_result"
    }
   ],
   "source": [
    "with open(PT_DATA_DIR + \"asknav/asknav_train.json\", \"r\") as f:\n",
    "    train_data = json.load(f)\n",
    "    \n",
    "len(train_data)"
   ]
  },
  {
   "cell_type": "code",
   "execution_count": 8,
   "metadata": {},
   "outputs": [
    {
     "data": {
      "text/plain": [
       "4874"
      ]
     },
     "execution_count": 8,
     "metadata": {},
     "output_type": "execute_result"
    }
   ],
   "source": [
    "res_dir = \"output_philly/20200207_philly_rerun_vnla/dagger_no_ask/20200207_philly_rerun_vnla_nav_sample_ask_teacher_val_seen_for_eval.json\"\n",
    "with open(EXP_DIR + res_dir, \"r\") as f:\n",
    "    seen_results = json.load(f)\n",
    "    \n",
    "len(seen_results)"
   ]
  },
  {
   "cell_type": "code",
   "execution_count": null,
   "metadata": {},
   "outputs": [],
   "source": [
    "\"/home/hoyeung/blob_experiments/output_philly/20200207_philly_rerun_vnla/dagger_no_ask/\""
   ]
  },
  {
   "cell_type": "code",
   "execution_count": 9,
   "metadata": {},
   "outputs": [
    {
     "data": {
      "text/plain": [
       "56"
      ]
     },
     "execution_count": 9,
     "metadata": {},
     "output_type": "execute_result"
    }
   ],
   "source": [
    "with open('/home/hoyeung/blob_matterport3d/semantics/asknav_tr_scans.txt', \"r\") as f:\n",
    "    asknav_tr_scans = f.read().split('\\n')[:-1]\n",
    "len(asknav_tr_scans)"
   ]
  },
  {
   "cell_type": "code",
   "execution_count": 10,
   "metadata": {},
   "outputs": [],
   "source": [
    "all_panos_to_region = {}\n",
    "for scan in asknav_tr_scans:\n",
    "    all_panos_to_region[scan] = utils.load_panos_to_region(scan,\"\")"
   ]
  },
  {
   "cell_type": "code",
   "execution_count": 11,
   "metadata": {},
   "outputs": [],
   "source": [
    "viewix_heading_elevation_map = {}\n",
    "for i in range(0,12):\n",
    "    viewix_heading_elevation_map[i] = (i*math.pi/6, -math.pi/6)\n",
    "for i in range(12,24):\n",
    "    viewix_heading_elevation_map[i] = (i*math.pi/6, 0)\n",
    "for i in range(24,36):\n",
    "    viewix_heading_elevation_map[i] = (i*math.pi/6, +math.pi/6)"
   ]
  },
  {
   "cell_type": "code",
   "execution_count": 12,
   "metadata": {},
   "outputs": [],
   "source": [
    "PT_DATA_DIR = '/home/hoyeung/blob_matterport3d/'\n",
    "sim = MatterSim.Simulator()\n",
    "sim.setRenderingEnabled(False)\n",
    "sim.setDiscretizedViewingAngles(True)\n",
    "sim.setCameraResolution(640, 480)\n",
    "sim.setCameraVFOV(math.radians(60))\n",
    "sim.setNavGraphPath(\n",
    "    os.path.join(PT_DATA_DIR, 'connectivity'))\n",
    "sim.init()"
   ]
  },
  {
   "cell_type": "markdown",
   "metadata": {},
   "source": [
    "### Analysis"
   ]
  },
  {
   "cell_type": "code",
   "execution_count": 19,
   "metadata": {
    "scrolled": true
   },
   "outputs": [
    {
     "data": {
      "text/plain": [
       "6.0"
      ]
     },
     "execution_count": 19,
     "metadata": {},
     "output_type": "execute_result"
    }
   ],
   "source": [
    "increment_30 = 2 * math.pi / 12.0\n",
    "3.141592653589793/ increment_30"
   ]
  },
  {
   "cell_type": "code",
   "execution_count": 13,
   "metadata": {},
   "outputs": [],
   "source": [
    "# Get the most common sequences\n",
    "# given each starting point image, find the most common gold sequence\n",
    "# map [(scan, viewpoint, viewix)] : [traj1, traj2, traj3]..."
   ]
  },
  {
   "cell_type": "code",
   "execution_count": 21,
   "metadata": {},
   "outputs": [
    {
     "data": {
      "text/plain": [
       "3012"
      ]
     },
     "execution_count": 21,
     "metadata": {},
     "output_type": "execute_result"
    }
   ],
   "source": [
    "full_trajectories_seen = defaultdict(list)\n",
    "\n",
    "for dat in seen_data:\n",
    "    scan = dat['scan']\n",
    "    start_viewpoint = dat['paths'][0][0]\n",
    "    viewix = dat['heading'] // 12\n",
    "    for path in dat['paths']:\n",
    "        full_trajectories_seen[(scan, start_viewpoint, viewix)].append(path)\n",
    "\n",
    "len(full_trajectories_seen)"
   ]
  },
  {
   "cell_type": "code",
   "execution_count": 23,
   "metadata": {},
   "outputs": [
    {
     "data": {
      "text/plain": [
       "6774"
      ]
     },
     "execution_count": 23,
     "metadata": {},
     "output_type": "execute_result"
    }
   ],
   "source": [
    "full_trajectories_train = defaultdict(list)\n",
    "\n",
    "for dat in train_data:\n",
    "    scan = dat['scan']\n",
    "    start_viewpoint = dat['paths'][0][0]\n",
    "    viewix = dat['heading'] // 12\n",
    "    for path in dat['paths']:\n",
    "        full_trajectories_train[(scan, start_viewpoint, viewix)].append(path)\n",
    "        \n",
    "len(full_trajectories_train)"
   ]
  },
  {
   "cell_type": "code",
   "execution_count": 30,
   "metadata": {},
   "outputs": [
    {
     "data": {
      "text/plain": [
       "3012"
      ]
     },
     "execution_count": 30,
     "metadata": {},
     "output_type": "execute_result"
    }
   ],
   "source": [
    "full_trajectories_seen_res = defaultdict(list)\n",
    "\n",
    "for res in seen_results:\n",
    "    scan = res['scan']\n",
    "    start_viewpoint = res['trajectory'][0][0]\n",
    "    viewix = res['trajectory'][0][1] // 12\n",
    "    \n",
    "    dup_path = [step[0] for step in res['trajectory']]\n",
    "    step = dup_path[0]\n",
    "    path = [step]\n",
    "    for next_step in dup_path:\n",
    "        if next_step != step:\n",
    "            step = next_step\n",
    "            path.append(step)\n",
    "    \n",
    "    full_trajectories_seen_res[(scan, start_viewpoint, viewix)].append(path)\n",
    "    \n",
    "len(full_trajectories_seen_res)"
   ]
  },
  {
   "cell_type": "code",
   "execution_count": 32,
   "metadata": {},
   "outputs": [],
   "source": [
    "seen_results_keys = []\n",
    "for key in full_trajectories_seen_res:\n",
    "    seen_results_keys.append(key)"
   ]
  },
  {
   "cell_type": "markdown",
   "metadata": {},
   "source": [
    "### trimmed at step 5"
   ]
  },
  {
   "cell_type": "code",
   "execution_count": 74,
   "metadata": {},
   "outputs": [],
   "source": [
    "def trim_trajectories(traj_set, length):\n",
    "    trimmed_traj_set = {}\n",
    "    for key in traj_set:\n",
    "        new_paths = [tuple(p[:length]) for p in traj_set[key]]\n",
    "        trimmed_traj_set[key] = Counter(new_paths).most_common()\n",
    "    return  trimmed_traj_set"
   ]
  },
  {
   "cell_type": "code",
   "execution_count": 56,
   "metadata": {},
   "outputs": [],
   "source": [
    "full_trajectories_seen_trimmed_5 = trim_trajectories(full_trajectories_seen, length=5)\n",
    "full_trajectories_train_trimmed_5 = trim_trajectories(full_trajectories_train, length=5)\n",
    "full_trajectories_seen_res_trimmed_5 = trim_trajectories(full_trajectories_seen_res, length=5)"
   ]
  },
  {
   "cell_type": "code",
   "execution_count": 75,
   "metadata": {},
   "outputs": [],
   "source": [
    "full_trajectories_seen_trimmed_8 = trim_trajectories(full_trajectories_seen, length=8)\n",
    "full_trajectories_train_trimmed_8 = trim_trajectories(full_trajectories_train, length=8)\n",
    "full_trajectories_seen_res_trimmed_8 = trim_trajectories(full_trajectories_seen_res, length=8)"
   ]
  },
  {
   "cell_type": "code",
   "execution_count": 86,
   "metadata": {},
   "outputs": [],
   "source": [
    "full_trajectories_seen_trimmed_10 = trim_trajectories(full_trajectories_seen, length=10)\n",
    "full_trajectories_train_trimmed_10 = trim_trajectories(full_trajectories_train, length=10)\n",
    "full_trajectories_seen_res_trimmed_10 = trim_trajectories(full_trajectories_seen_res, length=10)"
   ]
  },
  {
   "cell_type": "code",
   "execution_count": 79,
   "metadata": {},
   "outputs": [],
   "source": [
    "key = seen_results_keys[25]"
   ]
  },
  {
   "cell_type": "code",
   "execution_count": 66,
   "metadata": {},
   "outputs": [
    {
     "data": {
      "text/plain": [
       "[(('c2dcba0e507748e0b4eb18690058666e',\n",
       "   '3e51eeaac8404b31ad8a950bb2bb953d',\n",
       "   '3f432ddd169d4433979e004d1237d029',\n",
       "   '5bc41a6e3b7748149e0e8592c5b4d142',\n",
       "   'aa4cfd0126dd4c6a9c533ca9cb4a033d'),\n",
       "  2)]"
      ]
     },
     "execution_count": 66,
     "metadata": {},
     "output_type": "execute_result"
    }
   ],
   "source": [
    "full_trajectories_seen_trimmed_5[key]"
   ]
  },
  {
   "cell_type": "code",
   "execution_count": 67,
   "metadata": {},
   "outputs": [
    {
     "data": {
      "text/plain": [
       "[(('c2dcba0e507748e0b4eb18690058666e',\n",
       "   '3e51eeaac8404b31ad8a950bb2bb953d',\n",
       "   '3f432ddd169d4433979e004d1237d029',\n",
       "   '5bc41a6e3b7748149e0e8592c5b4d142',\n",
       "   'aa4cfd0126dd4c6a9c533ca9cb4a033d'),\n",
       "  1)]"
      ]
     },
     "execution_count": 67,
     "metadata": {},
     "output_type": "execute_result"
    }
   ],
   "source": [
    "full_trajectories_seen_res_trimmed_5[key]"
   ]
  },
  {
   "cell_type": "code",
   "execution_count": 68,
   "metadata": {
    "scrolled": false
   },
   "outputs": [
    {
     "data": {
      "text/plain": [
       "[(('c2dcba0e507748e0b4eb18690058666e',\n",
       "   '3e51eeaac8404b31ad8a950bb2bb953d',\n",
       "   '3f432ddd169d4433979e004d1237d029',\n",
       "   '5bc41a6e3b7748149e0e8592c5b4d142',\n",
       "   'aa4cfd0126dd4c6a9c533ca9cb4a033d'),\n",
       "  56),\n",
       " (('c2dcba0e507748e0b4eb18690058666e',\n",
       "   '3e51eeaac8404b31ad8a950bb2bb953d',\n",
       "   '3f432ddd169d4433979e004d1237d029',\n",
       "   '1a6418a306b8448a8529ffc6cb508d8a'),\n",
       "  3),\n",
       " (('c2dcba0e507748e0b4eb18690058666e',\n",
       "   '3e51eeaac8404b31ad8a950bb2bb953d',\n",
       "   '3f432ddd169d4433979e004d1237d029',\n",
       "   '5bc41a6e3b7748149e0e8592c5b4d142'),\n",
       "  2),\n",
       " (('c2dcba0e507748e0b4eb18690058666e',\n",
       "   '3e51eeaac8404b31ad8a950bb2bb953d',\n",
       "   '3f432ddd169d4433979e004d1237d029',\n",
       "   '5bc41a6e3b7748149e0e8592c5b4d142',\n",
       "   'acfc7a38863c412bbde815478879ed54'),\n",
       "  2),\n",
       " (('c2dcba0e507748e0b4eb18690058666e',\n",
       "   '3e51eeaac8404b31ad8a950bb2bb953d',\n",
       "   '3f432ddd169d4433979e004d1237d029'),\n",
       "  1)]"
      ]
     },
     "execution_count": 68,
     "metadata": {},
     "output_type": "execute_result"
    }
   ],
   "source": [
    "full_trajectories_train_trimmed_5[key]"
   ]
  },
  {
   "cell_type": "code",
   "execution_count": 80,
   "metadata": {},
   "outputs": [
    {
     "data": {
      "text/plain": [
       "[(('883d1b6540764d2f989271cf0ca56167',\n",
       "   'a7843f11f41a475792035f544feafaa8',\n",
       "   '521886391b7849c9b1e458e8e65760de',\n",
       "   '2fdd7ac33e4e4e5ab38353ba6ab6cc7d',\n",
       "   '69fad7dd177847dbabf69e8fb7c00ddf',\n",
       "   '55e4436f528c4bf09e4550079c572f7b',\n",
       "   '3c6a35e15ada4b649990d6568cce8bd9',\n",
       "   '397403366d784caf804d741f32fd68b9'),\n",
       "  1)]"
      ]
     },
     "execution_count": 80,
     "metadata": {},
     "output_type": "execute_result"
    }
   ],
   "source": [
    "full_trajectories_seen_trimmed_8[key]"
   ]
  },
  {
   "cell_type": "code",
   "execution_count": 81,
   "metadata": {},
   "outputs": [
    {
     "data": {
      "text/plain": [
       "[(('883d1b6540764d2f989271cf0ca56167',\n",
       "   'a7843f11f41a475792035f544feafaa8',\n",
       "   '521886391b7849c9b1e458e8e65760de',\n",
       "   '2fdd7ac33e4e4e5ab38353ba6ab6cc7d',\n",
       "   '69fad7dd177847dbabf69e8fb7c00ddf',\n",
       "   '55e4436f528c4bf09e4550079c572f7b',\n",
       "   '3c6a35e15ada4b649990d6568cce8bd9',\n",
       "   '397403366d784caf804d741f32fd68b9'),\n",
       "  1)]"
      ]
     },
     "execution_count": 81,
     "metadata": {},
     "output_type": "execute_result"
    }
   ],
   "source": [
    "full_trajectories_seen_res_trimmed_8[key]"
   ]
  },
  {
   "cell_type": "code",
   "execution_count": 82,
   "metadata": {
    "scrolled": false
   },
   "outputs": [
    {
     "data": {
      "text/plain": [
       "[(('883d1b6540764d2f989271cf0ca56167',\n",
       "   'a7843f11f41a475792035f544feafaa8',\n",
       "   '521886391b7849c9b1e458e8e65760de',\n",
       "   '2fdd7ac33e4e4e5ab38353ba6ab6cc7d',\n",
       "   '69fad7dd177847dbabf69e8fb7c00ddf',\n",
       "   'c629c7f1cf6f47a78c45a8ae9ff82247',\n",
       "   'a7f591c0bf5443a8989e6adf9968cf90',\n",
       "   'a0a40af004954a90b2b24a0cc6655881'),\n",
       "  9),\n",
       " (('883d1b6540764d2f989271cf0ca56167',\n",
       "   'a7843f11f41a475792035f544feafaa8',\n",
       "   '521886391b7849c9b1e458e8e65760de',\n",
       "   '2fdd7ac33e4e4e5ab38353ba6ab6cc7d',\n",
       "   '69fad7dd177847dbabf69e8fb7c00ddf',\n",
       "   '55e4436f528c4bf09e4550079c572f7b',\n",
       "   '3c6a35e15ada4b649990d6568cce8bd9',\n",
       "   '397403366d784caf804d741f32fd68b9'),\n",
       "  7),\n",
       " (('883d1b6540764d2f989271cf0ca56167',\n",
       "   'a7843f11f41a475792035f544feafaa8',\n",
       "   '521886391b7849c9b1e458e8e65760de',\n",
       "   '2fdd7ac33e4e4e5ab38353ba6ab6cc7d',\n",
       "   '69fad7dd177847dbabf69e8fb7c00ddf',\n",
       "   'c629c7f1cf6f47a78c45a8ae9ff82247',\n",
       "   '21fca0d6192940e580587fe317440f56',\n",
       "   '4b85d61dd3a94e8a812affe78f3a322d'),\n",
       "  2)]"
      ]
     },
     "execution_count": 82,
     "metadata": {},
     "output_type": "execute_result"
    }
   ],
   "source": [
    "full_trajectories_train_trimmed_8[key]"
   ]
  },
  {
   "cell_type": "code",
   "execution_count": 87,
   "metadata": {},
   "outputs": [
    {
     "data": {
      "text/plain": [
       "[(('883d1b6540764d2f989271cf0ca56167',\n",
       "   'a7843f11f41a475792035f544feafaa8',\n",
       "   '521886391b7849c9b1e458e8e65760de',\n",
       "   '2fdd7ac33e4e4e5ab38353ba6ab6cc7d',\n",
       "   '69fad7dd177847dbabf69e8fb7c00ddf',\n",
       "   '55e4436f528c4bf09e4550079c572f7b',\n",
       "   '3c6a35e15ada4b649990d6568cce8bd9',\n",
       "   '397403366d784caf804d741f32fd68b9',\n",
       "   'c23f26401359426982d11ca494ee739b',\n",
       "   '29fb3c58b29348558d36a9f9440a1379'),\n",
       "  1)]"
      ]
     },
     "execution_count": 87,
     "metadata": {},
     "output_type": "execute_result"
    }
   ],
   "source": [
    "full_trajectories_seen_trimmed_10[key]"
   ]
  },
  {
   "cell_type": "code",
   "execution_count": 88,
   "metadata": {},
   "outputs": [
    {
     "data": {
      "text/plain": [
       "[(('883d1b6540764d2f989271cf0ca56167',\n",
       "   'a7843f11f41a475792035f544feafaa8',\n",
       "   '521886391b7849c9b1e458e8e65760de',\n",
       "   '2fdd7ac33e4e4e5ab38353ba6ab6cc7d',\n",
       "   '69fad7dd177847dbabf69e8fb7c00ddf',\n",
       "   '55e4436f528c4bf09e4550079c572f7b',\n",
       "   '3c6a35e15ada4b649990d6568cce8bd9',\n",
       "   '397403366d784caf804d741f32fd68b9',\n",
       "   'c23f26401359426982d11ca494ee739b',\n",
       "   '29fb3c58b29348558d36a9f9440a1379'),\n",
       "  1)]"
      ]
     },
     "execution_count": 88,
     "metadata": {},
     "output_type": "execute_result"
    }
   ],
   "source": [
    "full_trajectories_seen_res_trimmed_10[key]"
   ]
  },
  {
   "cell_type": "code",
   "execution_count": 89,
   "metadata": {
    "scrolled": false
   },
   "outputs": [
    {
     "data": {
      "text/plain": [
       "[(('883d1b6540764d2f989271cf0ca56167',\n",
       "   'a7843f11f41a475792035f544feafaa8',\n",
       "   '521886391b7849c9b1e458e8e65760de',\n",
       "   '2fdd7ac33e4e4e5ab38353ba6ab6cc7d',\n",
       "   '69fad7dd177847dbabf69e8fb7c00ddf',\n",
       "   'c629c7f1cf6f47a78c45a8ae9ff82247',\n",
       "   'a7f591c0bf5443a8989e6adf9968cf90',\n",
       "   'a0a40af004954a90b2b24a0cc6655881',\n",
       "   '24e8ebf554d742069e81afd7eb3369c7',\n",
       "   '4214a9b1607e4cbea8dcdb42a4952796'),\n",
       "  9),\n",
       " (('883d1b6540764d2f989271cf0ca56167',\n",
       "   'a7843f11f41a475792035f544feafaa8',\n",
       "   '521886391b7849c9b1e458e8e65760de',\n",
       "   '2fdd7ac33e4e4e5ab38353ba6ab6cc7d',\n",
       "   '69fad7dd177847dbabf69e8fb7c00ddf',\n",
       "   '55e4436f528c4bf09e4550079c572f7b',\n",
       "   '3c6a35e15ada4b649990d6568cce8bd9',\n",
       "   '397403366d784caf804d741f32fd68b9',\n",
       "   'c23f26401359426982d11ca494ee739b',\n",
       "   'a9722e0b87a94efcb5c7adbbdb003241'),\n",
       "  4),\n",
       " (('883d1b6540764d2f989271cf0ca56167',\n",
       "   'a7843f11f41a475792035f544feafaa8',\n",
       "   '521886391b7849c9b1e458e8e65760de',\n",
       "   '2fdd7ac33e4e4e5ab38353ba6ab6cc7d',\n",
       "   '69fad7dd177847dbabf69e8fb7c00ddf',\n",
       "   '55e4436f528c4bf09e4550079c572f7b',\n",
       "   '3c6a35e15ada4b649990d6568cce8bd9',\n",
       "   '397403366d784caf804d741f32fd68b9',\n",
       "   'c23f26401359426982d11ca494ee739b',\n",
       "   '29fb3c58b29348558d36a9f9440a1379'),\n",
       "  3),\n",
       " (('883d1b6540764d2f989271cf0ca56167',\n",
       "   'a7843f11f41a475792035f544feafaa8',\n",
       "   '521886391b7849c9b1e458e8e65760de',\n",
       "   '2fdd7ac33e4e4e5ab38353ba6ab6cc7d',\n",
       "   '69fad7dd177847dbabf69e8fb7c00ddf',\n",
       "   'c629c7f1cf6f47a78c45a8ae9ff82247',\n",
       "   '21fca0d6192940e580587fe317440f56',\n",
       "   '4b85d61dd3a94e8a812affe78f3a322d',\n",
       "   '3c025b8e3d2040969cd00dd0e9f29b09'),\n",
       "  2)]"
      ]
     },
     "execution_count": 89,
     "metadata": {},
     "output_type": "execute_result"
    }
   ],
   "source": [
    "full_trajectories_train_trimmed_10[key]"
   ]
  },
  {
   "cell_type": "code",
   "execution_count": null,
   "metadata": {},
   "outputs": [],
   "source": []
  }
 ],
 "metadata": {
  "kernelspec": {
   "display_name": "Python [conda env:py35]",
   "language": "python",
   "name": "conda-env-py35-py"
  },
  "language_info": {
   "codemirror_mode": {
    "name": "ipython",
    "version": 3
   },
   "file_extension": ".py",
   "mimetype": "text/x-python",
   "name": "python",
   "nbconvert_exporter": "python",
   "pygments_lexer": "ipython3",
   "version": "3.5.5"
  }
 },
 "nbformat": 4,
 "nbformat_minor": 2
}
