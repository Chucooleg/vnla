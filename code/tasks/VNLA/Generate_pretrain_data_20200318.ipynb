{
 "cells": [
  {
   "cell_type": "code",
   "execution_count": 1,
   "metadata": {},
   "outputs": [],
   "source": [
    "import json\n",
    "import numpy as np\n",
    "import utils\n",
    "import os"
   ]
  },
  {
   "cell_type": "code",
   "execution_count": 2,
   "metadata": {},
   "outputs": [],
   "source": [
    "os.environ['PT_DATA_DIR'] = '/home/hoyeung/blob_matterport3d/'"
   ]
  },
  {
   "cell_type": "code",
   "execution_count": 3,
   "metadata": {},
   "outputs": [],
   "source": [
    "with open('/home/hoyeung/blob_matterport3d/pretrain/asknav_pretrain_lookup.json', 'r') as f:\n",
    "    pretrain_data = json.load(f)"
   ]
  },
  {
   "cell_type": "code",
   "execution_count": 43,
   "metadata": {},
   "outputs": [
    {
     "data": {
      "text/plain": [
       "139757"
      ]
     },
     "execution_count": 43,
     "metadata": {},
     "output_type": "execute_result"
    }
   ],
   "source": [
    "len(pretrain_data)"
   ]
  },
  {
   "cell_type": "code",
   "execution_count": 21,
   "metadata": {},
   "outputs": [
    {
     "data": {
      "text/plain": [
       "{'agent_path': [['50ffb35ba8654fd1a6a3cbdd4e5a29b7', 13],\n",
       "  ['50ffb35ba8654fd1a6a3cbdd4e5a29b7', 14],\n",
       "  ['7e78414b83ee4a378dfdcc91c052be65', 14],\n",
       "  ['ee34e33014c94bf79cda5892e2ec6b24', 14],\n",
       "  ['bc28e77e30a94f76aee87ac07949ecc4', 14],\n",
       "  ['bc28e77e30a94f76aee87ac07949ecc4', 14]],\n",
       " 'instr_id': '193593_0',\n",
       " 'instruction': 'find pillows in one of the living rooms .',\n",
       " 'scan': 'kEZ7cmS4wCh',\n",
       " 'trajectory': [[0, 0, 0],\n",
       "  [0, 1, 0],\n",
       "  [1, 0, 0],\n",
       "  [1, 0, 0],\n",
       "  [2, 0, 0],\n",
       "  [0, 0, 0]]}"
      ]
     },
     "execution_count": 21,
     "metadata": {},
     "output_type": "execute_result"
    }
   ],
   "source": [
    "pretrain_data[0]"
   ]
  },
  {
   "cell_type": "code",
   "execution_count": 6,
   "metadata": {},
   "outputs": [
    {
     "data": {
      "text/plain": [
       "56"
      ]
     },
     "execution_count": 6,
     "metadata": {},
     "output_type": "execute_result"
    }
   ],
   "source": [
    "scans = set([d['scan'] for d in pretrain_data])\n",
    "len(scans)"
   ]
  },
  {
   "cell_type": "code",
   "execution_count": 7,
   "metadata": {},
   "outputs": [],
   "source": [
    "scan_list = list(scans)"
   ]
  },
  {
   "cell_type": "code",
   "execution_count": 8,
   "metadata": {},
   "outputs": [
    {
     "data": {
      "text/plain": [
       "[('GdvgFV5R1Z5', 12),\n",
       " ('Pm6F8kyY3z2', 34),\n",
       " ('HxpKQynjfin', 34),\n",
       " ('17DRP5sb8fy', 44),\n",
       " ('jh4fc5c5qoQ', 48),\n",
       " ('JF19kD82Mey', 49),\n",
       " ('s8pcmisQ38h', 50),\n",
       " ('i5noydFURQK', 56),\n",
       " ('759xd9YjKW5', 61),\n",
       " ('VVfe2KiqLaN', 61),\n",
       " ('r47D5H71a5s', 61),\n",
       " ('EDJbREhghzL', 70),\n",
       " ('aayBHfsNo7d', 71),\n",
       " ('ZMojNkEp431', 77),\n",
       " ('JmbYfDe2QKZ', 79),\n",
       " ('sT4fr6TAbpF', 81),\n",
       " ('JeFG25nYj2p', 84),\n",
       " ('e9zR4mvMWw7', 87),\n",
       " ('5q7pvUzZiYa', 89),\n",
       " ('cV4RVeZvu5T', 90),\n",
       " ('1pXnuDYAj8r', 95),\n",
       " ('8WUmhLawc2A', 95),\n",
       " ('ULsKaCPVFJR', 101),\n",
       " ('29hnd4uzFmX', 102),\n",
       " ('7y3sRwLe3Va', 106),\n",
       " ('XcA2TqTSSAj', 109),\n",
       " ('S9hNv5qa7GM', 110),\n",
       " ('r1Q1Z4BcV1o', 113),\n",
       " ('b8cTxDM8gDG', 114),\n",
       " ('ur6pFq6Qu1A', 118),\n",
       " ('rPc6DW4iMge', 118),\n",
       " ('VLzqgDo317F', 123),\n",
       " ('pRbA3pwrgk9', 123),\n",
       " ('sKLMLpTHeUy', 127),\n",
       " ('1LXtFkjw3qL', 131),\n",
       " ('qoiz87JEwZ2', 131),\n",
       " ('82sE5b5pLXE', 135),\n",
       " ('Uxmj2M2itWa', 137),\n",
       " ('5LpN3gDmAk7', 140),\n",
       " ('Vvot9Ly1tCj', 141),\n",
       " ('p5wJjkQkbXX', 152),\n",
       " ('V2XKFyX4ASd', 157),\n",
       " ('ac26ZMwG7aT', 165),\n",
       " ('VFuaQ6m2Qom', 167),\n",
       " ('2n8kARJN3HM', 186),\n",
       " ('mJXqzFtmKg4', 189),\n",
       " ('kEZ7cmS4wCh', 199),\n",
       " ('uNb9QFRL6hY', 213),\n",
       " ('E9uDoFAP3SH', 217),\n",
       " ('gTV8FGcVJC9', 231),\n",
       " ('D7N2EKCX4Sj', 260),\n",
       " ('SN83YJsR3w2', 265),\n",
       " ('PX4nDJXEHrG', 282),\n",
       " ('VzqfbhrpDEA', 289),\n",
       " ('vyrNrziPKCB', 337),\n",
       " ('B6ByNegPMKs', 345)]"
      ]
     },
     "execution_count": 8,
     "metadata": {},
     "output_type": "execute_result"
    }
   ],
   "source": [
    "# Pick environment of 3 sizes\n",
    "scan_size_map = {}\n",
    "for scan in scans:\n",
    "    scan_size_map[scan] = len(utils.load_nav_graphs(scan))\n",
    "\n",
    "scan_size_map_items = scan_size_map.items()\n",
    "sorted(scan_size_map_items, key=lambda x: x[1])"
   ]
  },
  {
   "cell_type": "markdown",
   "metadata": {},
   "source": [
    "## pick unseen scans"
   ]
  },
  {
   "cell_type": "code",
   "execution_count": 28,
   "metadata": {},
   "outputs": [
    {
     "data": {
      "text/plain": [
       "array([ 6, 27,  7, 37, 50,  1])"
      ]
     },
     "execution_count": 28,
     "metadata": {},
     "output_type": "execute_result"
    }
   ],
   "source": [
    "np.random.seed(40)\n",
    "random_indices = np.random.choice(56, size=6)\n",
    "random_indices\n",
    "# array([ 6, 27,  7, 37, 50,  1])"
   ]
  },
  {
   "cell_type": "code",
   "execution_count": 26,
   "metadata": {},
   "outputs": [
    {
     "data": {
      "text/plain": [
       "\"\\n['S9hNv5qa7GM',\\n 'vyrNrziPKCB',\\n 's8pcmisQ38h',\\n '5q7pvUzZiYa',\\n '1pXnuDYAj8r',\\n '1pXnuDYAj8r']\\n\""
      ]
     },
     "execution_count": 26,
     "metadata": {},
     "output_type": "execute_result"
    }
   ],
   "source": [
    "unseen_scan_list = [scan_list[i] for i in random_indices]\n",
    "unseen_scan_list\n",
    "\n",
    "# \"\\n['S9hNv5qa7GM',\\n 'vyrNrziPKCB',\\n 's8pcmisQ38h',\\n '5q7pvUzZiYa',\\n '1pXnuDYAj8r',\\n '1pXnuDYAj8r']\\n\""
   ]
  },
  {
   "cell_type": "code",
   "execution_count": 29,
   "metadata": {},
   "outputs": [
    {
     "data": {
      "text/plain": [
       "[77, 289, 56, 141, 106, 131]"
      ]
     },
     "execution_count": 29,
     "metadata": {},
     "output_type": "execute_result"
    }
   ],
   "source": [
    "[scan_size_map[unseen_scan] for unseen_scan in unseen_scan_list]\n",
    "# [77, 289, 56, 141, 106, 131]"
   ]
  },
  {
   "cell_type": "markdown",
   "metadata": {},
   "source": [
    "## split instructions (unseen, seen_val, seen_train)"
   ]
  },
  {
   "cell_type": "code",
   "execution_count": 70,
   "metadata": {},
   "outputs": [
    {
     "name": "stdout",
     "output_type": "stream",
     "text": [
      "139757\n",
      "119757\n",
      "20000\n"
     ]
    }
   ],
   "source": [
    "seen_data = [d for d in pretrain_data if not (d['scan'] in unseen_scan_list)]\n",
    "unseen_data = [d for d in pretrain_data if d['scan'] in unseen_scan_list]\n",
    "print(len(pretrain_data))\n",
    "print(len(seen_data))\n",
    "print(len(unseen_data))\n",
    "\n",
    "#139757\n",
    "#119757\n",
    "#20000"
   ]
  },
  {
   "cell_type": "code",
   "execution_count": 80,
   "metadata": {},
   "outputs": [
    {
     "data": {
      "text/plain": [
       "array([ 98552,  40760,  28296, ...,  23304, 102090,   1267])"
      ]
     },
     "execution_count": 80,
     "metadata": {},
     "output_type": "execute_result"
    }
   ],
   "source": [
    "np.random.seed(40)\n",
    "seen_val_indices = np.random.choice(len(seen_data), len(unseen_data), replace=False)\n",
    "seen_val_indices\n",
    "# array([ 98552,  40760,  28296, ...,  23304, 102090,   1267])"
   ]
  },
  {
   "cell_type": "code",
   "execution_count": 81,
   "metadata": {},
   "outputs": [
    {
     "data": {
      "text/plain": [
       "{'agent_path': [['d5363662598b42b5b72a401065028040', 12],\n",
       "  ['d5363662598b42b5b72a401065028040', 13],\n",
       "  ['d5363662598b42b5b72a401065028040', 14],\n",
       "  ['468e68b506364540972f4c718ca8c752', 14],\n",
       "  ['468e68b506364540972f4c718ca8c752', 15],\n",
       "  ['a73871837379498eb16527c6b9c9aa20', 15],\n",
       "  ['b5145233e4ab457ba0c31f9eb20307bf', 15],\n",
       "  ['b5145233e4ab457ba0c31f9eb20307bf', 16],\n",
       "  ['35fbae92aa284ba19652ccb31f4cff9c', 16],\n",
       "  ['6f5e70ae957d4a95af44068aa4946744', 16],\n",
       "  ['3b1e1e0fc3de4418b73673c25ca83431', 16],\n",
       "  ['3b1e1e0fc3de4418b73673c25ca83431', 15],\n",
       "  ['3fe15c0ca3734249b98f3465e612b8db', 15],\n",
       "  ['d7e72b80531c417095989e69398cf1d8', 15],\n",
       "  ['e06ec7ada8304843a634f6aa91c9165d', 15],\n",
       "  ['527864a208f246dbb52fb55adcb4751f', 15],\n",
       "  ['b6169f1b5e0a42489ed145131e9ae486', 15],\n",
       "  ['77fa4b2db2cf45a0abff5833de1bc079', 15],\n",
       "  ['3e1701bd29544e47b96d79d370933af5', 15],\n",
       "  ['3e1701bd29544e47b96d79d370933af5', 14],\n",
       "  ['9785829df8fc43df823f9a74557b1e64', 14],\n",
       "  ['9785829df8fc43df823f9a74557b1e64', 14]],\n",
       " 'instr_id': '252702_0',\n",
       " 'instruction': 'find a curtain in one of the bathrooms .',\n",
       " 'scan': 'vyrNrziPKCB',\n",
       " 'trajectory': [[0, 0, 0],\n",
       "  [0, 1, 0],\n",
       "  [0, 1, 0],\n",
       "  [1, 0, 0],\n",
       "  [0, 1, 0],\n",
       "  [2, 0, 0],\n",
       "  [1, 0, 0],\n",
       "  [0, 1, 0],\n",
       "  [2, 0, 0],\n",
       "  [1, 0, 0],\n",
       "  [2, 0, 0],\n",
       "  [0, -1, 0],\n",
       "  [1, 0, 0],\n",
       "  [1, 0, 0],\n",
       "  [1, 0, 0],\n",
       "  [1, 0, 0],\n",
       "  [2, 0, 0],\n",
       "  [1, 0, 0],\n",
       "  [2, 0, 0],\n",
       "  [0, -1, 0],\n",
       "  [1, 0, 0],\n",
       "  [0, 0, 0]]}"
      ]
     },
     "execution_count": 81,
     "metadata": {},
     "output_type": "execute_result"
    }
   ],
   "source": [
    "seen_val_data = [seen_data[i] for i in seen_val_indices]\n",
    "seen_val_data[0]"
   ]
  },
  {
   "cell_type": "code",
   "execution_count": 82,
   "metadata": {},
   "outputs": [
    {
     "data": {
      "text/plain": [
       "20000"
      ]
     },
     "execution_count": 82,
     "metadata": {},
     "output_type": "execute_result"
    }
   ],
   "source": [
    "len(seen_val_data)"
   ]
  },
  {
   "cell_type": "code",
   "execution_count": 84,
   "metadata": {},
   "outputs": [
    {
     "data": {
      "text/plain": [
       "{'agent_path': [['50ffb35ba8654fd1a6a3cbdd4e5a29b7', 13],\n",
       "  ['50ffb35ba8654fd1a6a3cbdd4e5a29b7', 14],\n",
       "  ['7e78414b83ee4a378dfdcc91c052be65', 14],\n",
       "  ['ee34e33014c94bf79cda5892e2ec6b24', 14],\n",
       "  ['bc28e77e30a94f76aee87ac07949ecc4', 14],\n",
       "  ['bc28e77e30a94f76aee87ac07949ecc4', 14]],\n",
       " 'instr_id': '193593_0',\n",
       " 'instruction': 'find pillows in one of the living rooms .',\n",
       " 'scan': 'kEZ7cmS4wCh',\n",
       " 'trajectory': [[0, 0, 0],\n",
       "  [0, 1, 0],\n",
       "  [1, 0, 0],\n",
       "  [1, 0, 0],\n",
       "  [2, 0, 0],\n",
       "  [0, 0, 0]]}"
      ]
     },
     "execution_count": 84,
     "metadata": {},
     "output_type": "execute_result"
    }
   ],
   "source": [
    "seen_tr_data = [seen_data[i] for i in range(len(seen_data)) if not (i in seen_val_indices)]\n",
    "seen_tr_data[0]"
   ]
  },
  {
   "cell_type": "code",
   "execution_count": 85,
   "metadata": {},
   "outputs": [
    {
     "data": {
      "text/plain": [
       "99757"
      ]
     },
     "execution_count": 85,
     "metadata": {},
     "output_type": "execute_result"
    }
   ],
   "source": [
    "len(seen_tr_data)"
   ]
  },
  {
   "cell_type": "markdown",
   "metadata": {},
   "source": [
    "## generate windows and split pos for validation sets"
   ]
  },
  {
   "cell_type": "code",
   "execution_count": 86,
   "metadata": {},
   "outputs": [
    {
     "data": {
      "text/plain": [
       "[(15, 1255),\n",
       " (17, 1250),\n",
       " (14, 1210),\n",
       " (13, 1179),\n",
       " (12, 1159),\n",
       " (16, 1150),\n",
       " (18, 1142),\n",
       " (19, 1120),\n",
       " (20, 1055),\n",
       " (11, 1024),\n",
       " (21, 989),\n",
       " (22, 966),\n",
       " (23, 961),\n",
       " (10, 920),\n",
       " (24, 917),\n",
       " (25, 857),\n",
       " (9, 850),\n",
       " (26, 716),\n",
       " (8, 616),\n",
       " (7, 393),\n",
       " (6, 271)]"
      ]
     },
     "execution_count": 86,
     "metadata": {},
     "output_type": "execute_result"
    }
   ],
   "source": [
    "# take a look at unseen trajectory lengths\n",
    "total_lens_unseen = [len(d['trajectory']) for d in unseen_data]\n",
    "Counter(total_lens_unseen).most_common()"
   ]
  },
  {
   "cell_type": "code",
   "execution_count": 87,
   "metadata": {
    "scrolled": true
   },
   "outputs": [
    {
     "data": {
      "text/plain": [
       "[(15, 7204),\n",
       " (16, 7143),\n",
       " (17, 7086),\n",
       " (18, 7018),\n",
       " (14, 6879),\n",
       " (13, 6802),\n",
       " (19, 6801),\n",
       " (20, 6684),\n",
       " (12, 6489),\n",
       " (21, 6453),\n",
       " (22, 6108),\n",
       " (11, 6058),\n",
       " (23, 5756),\n",
       " (10, 5480),\n",
       " (24, 5365),\n",
       " (25, 4961),\n",
       " (9, 4849),\n",
       " (26, 4373),\n",
       " (8, 3792),\n",
       " (7, 2677),\n",
       " (6, 1779)]"
      ]
     },
     "execution_count": 87,
     "metadata": {},
     "output_type": "execute_result"
    }
   ],
   "source": [
    "# take a look at seen trajectory lengths\n",
    "total_lens_seen = [len(d['trajectory']) for d in seen_data]\n",
    "Counter(total_lens_seen).most_common()"
   ]
  },
  {
   "cell_type": "code",
   "execution_count": 103,
   "metadata": {},
   "outputs": [],
   "source": [
    "# Set window size as 8\n",
    "\n",
    "# sample swap pos\n",
    "def sample_swap_pos(d):\n",
    "    traj_len = len(d['trajectory'])\n",
    "    swap_pos = np.random.choice(min(traj_len-1, 8-1))\n",
    "    return swap_pos\n",
    "\n",
    "def sample_window_pos(d):\n",
    "    traj_len = len(d['trajectory'])\n",
    "    if traj_len <= 8:\n",
    "        return (0, traj_len-1)\n",
    "    else:\n",
    "        start_pos = np.random.choice(traj_len-8+1)\n",
    "        end_pos = start_pos + 8 - 1\n",
    "        return (start_pos, end_pos)\n",
    "    \n",
    "def sample_frame(split_data):\n",
    "    for (i,d) in enumerate(split_data):\n",
    "        split_data[i]['win_start_pos'], split_data[i]['win_end_pos'] = sample_window_pos(d)\n",
    "        swap_bool = np.random.binomial(1, 0.5)\n",
    "        if swap_bool:\n",
    "            split_data[i]['swap_pos'] = sample_swap_pos(d)\n",
    "        else:\n",
    "            split_data[i]['swap_pos'] = None\n",
    "    return split_data"
   ]
  },
  {
   "cell_type": "code",
   "execution_count": 107,
   "metadata": {},
   "outputs": [],
   "source": [
    "# only do this for validation datasets\n",
    "unseen_data_windowed = sample_frame(unseen_data)\n",
    "seen_val_data_windowed = sample_frame(seen_val_data)"
   ]
  },
  {
   "cell_type": "code",
   "execution_count": 108,
   "metadata": {},
   "outputs": [
    {
     "data": {
      "text/plain": [
       "{'agent_path': [['27b26e3f29384e60944fc6151074b172', 12],\n",
       "  ['27b26e3f29384e60944fc6151074b172', 13],\n",
       "  ['dd9fb6ab085d4d558d5d023bb2dc90ff', 13],\n",
       "  ['dd9fb6ab085d4d558d5d023bb2dc90ff', 14],\n",
       "  ['1d5c1b5e0a164fd8860723b2069f9b6a', 14],\n",
       "  ['1d5c1b5e0a164fd8860723b2069f9b6a', 14]],\n",
       " 'instr_id': '36151_0',\n",
       " 'instruction': 'find a picture in the entryway or foyer or lobby .',\n",
       " 'scan': '7y3sRwLe3Va',\n",
       " 'swap_pos': 3,\n",
       " 'trajectory': [[0, 0, 0],\n",
       "  [0, 1, 0],\n",
       "  [1, 0, 0],\n",
       "  [0, 1, 0],\n",
       "  [2, 0, 0],\n",
       "  [0, 0, 0]],\n",
       " 'win_end_pos': 5,\n",
       " 'win_start_pos': 0}"
      ]
     },
     "execution_count": 108,
     "metadata": {},
     "output_type": "execute_result"
    }
   ],
   "source": [
    "unseen_data_windowed[0]"
   ]
  },
  {
   "cell_type": "code",
   "execution_count": 110,
   "metadata": {},
   "outputs": [
    {
     "data": {
      "text/plain": [
       "{'agent_path': [['d5363662598b42b5b72a401065028040', 12],\n",
       "  ['d5363662598b42b5b72a401065028040', 13],\n",
       "  ['d5363662598b42b5b72a401065028040', 14],\n",
       "  ['468e68b506364540972f4c718ca8c752', 14],\n",
       "  ['468e68b506364540972f4c718ca8c752', 15],\n",
       "  ['a73871837379498eb16527c6b9c9aa20', 15],\n",
       "  ['b5145233e4ab457ba0c31f9eb20307bf', 15],\n",
       "  ['b5145233e4ab457ba0c31f9eb20307bf', 16],\n",
       "  ['35fbae92aa284ba19652ccb31f4cff9c', 16],\n",
       "  ['6f5e70ae957d4a95af44068aa4946744', 16],\n",
       "  ['3b1e1e0fc3de4418b73673c25ca83431', 16],\n",
       "  ['3b1e1e0fc3de4418b73673c25ca83431', 15],\n",
       "  ['3fe15c0ca3734249b98f3465e612b8db', 15],\n",
       "  ['d7e72b80531c417095989e69398cf1d8', 15],\n",
       "  ['e06ec7ada8304843a634f6aa91c9165d', 15],\n",
       "  ['527864a208f246dbb52fb55adcb4751f', 15],\n",
       "  ['b6169f1b5e0a42489ed145131e9ae486', 15],\n",
       "  ['77fa4b2db2cf45a0abff5833de1bc079', 15],\n",
       "  ['3e1701bd29544e47b96d79d370933af5', 15],\n",
       "  ['3e1701bd29544e47b96d79d370933af5', 14],\n",
       "  ['9785829df8fc43df823f9a74557b1e64', 14],\n",
       "  ['9785829df8fc43df823f9a74557b1e64', 14]],\n",
       " 'instr_id': '252702_0',\n",
       " 'instruction': 'find a curtain in one of the bathrooms .',\n",
       " 'scan': 'vyrNrziPKCB',\n",
       " 'swap_pos': 2,\n",
       " 'trajectory': [[0, 0, 0],\n",
       "  [0, 1, 0],\n",
       "  [0, 1, 0],\n",
       "  [1, 0, 0],\n",
       "  [0, 1, 0],\n",
       "  [2, 0, 0],\n",
       "  [1, 0, 0],\n",
       "  [0, 1, 0],\n",
       "  [2, 0, 0],\n",
       "  [1, 0, 0],\n",
       "  [2, 0, 0],\n",
       "  [0, -1, 0],\n",
       "  [1, 0, 0],\n",
       "  [1, 0, 0],\n",
       "  [1, 0, 0],\n",
       "  [1, 0, 0],\n",
       "  [2, 0, 0],\n",
       "  [1, 0, 0],\n",
       "  [2, 0, 0],\n",
       "  [0, -1, 0],\n",
       "  [1, 0, 0],\n",
       "  [0, 0, 0]],\n",
       " 'win_end_pos': 20,\n",
       " 'win_start_pos': 13}"
      ]
     },
     "execution_count": 110,
     "metadata": {},
     "output_type": "execute_result"
    }
   ],
   "source": [
    "seen_val_data_windowed[0]"
   ]
  },
  {
   "cell_type": "code",
   "execution_count": 111,
   "metadata": {},
   "outputs": [
    {
     "data": {
      "text/plain": [
       "{'agent_path': [['895dc1e515e6491abd794cfdda27edd3', 13],\n",
       "  ['d470265ca129400bb48754d16a157f9e', 13],\n",
       "  ['e6040538e6ec43a7b73be5b9614ebd68', 13],\n",
       "  ['9940d688fe8f4fb784cd7d64908fdf4d', 13],\n",
       "  ['fa065de5315940abb64684e68f6d686a', 13],\n",
       "  ['fa065de5315940abb64684e68f6d686a', 12],\n",
       "  ['fa065de5315940abb64684e68f6d686a', 23],\n",
       "  ['fa065de5315940abb64684e68f6d686a', 22],\n",
       "  ['02253cded39e4f26a34c483d645ebcb7', 22],\n",
       "  ['02253cded39e4f26a34c483d645ebcb7', 21],\n",
       "  ['ec0421cc61c64f6f8692d327d6838fd5', 21],\n",
       "  ['3510eb416b7d4d779881abc5b5cf2cec', 21],\n",
       "  ['e3b1895ff0cb41b19be7fb13aa4e8d9a', 21],\n",
       "  ['e3b1895ff0cb41b19be7fb13aa4e8d9a', 21]],\n",
       " 'instr_id': '143331_1',\n",
       " 'instruction': 'find a bed in one of the bedrooms .',\n",
       " 'scan': 'XcA2TqTSSAj',\n",
       " 'swap_pos': None,\n",
       " 'trajectory': [[0, 0, 0],\n",
       "  [1, 0, 0],\n",
       "  [1, 0, 0],\n",
       "  [1, 0, 0],\n",
       "  [2, 0, 0],\n",
       "  [0, -1, 0],\n",
       "  [0, -1, 0],\n",
       "  [0, -1, 0],\n",
       "  [1, 0, 0],\n",
       "  [0, -1, 0],\n",
       "  [1, 0, 0],\n",
       "  [1, 0, 0],\n",
       "  [3, 0, 0],\n",
       "  [0, 0, 0]],\n",
       " 'win_end_pos': 12,\n",
       " 'win_start_pos': 5}"
      ]
     },
     "execution_count": 111,
     "metadata": {},
     "output_type": "execute_result"
    }
   ],
   "source": [
    "seen_val_data_windowed[1]"
   ]
  },
  {
   "cell_type": "code",
   "execution_count": 112,
   "metadata": {},
   "outputs": [
    {
     "data": {
      "text/plain": [
       "{'agent_path': [['50ffb35ba8654fd1a6a3cbdd4e5a29b7', 13],\n",
       "  ['50ffb35ba8654fd1a6a3cbdd4e5a29b7', 14],\n",
       "  ['7e78414b83ee4a378dfdcc91c052be65', 14],\n",
       "  ['ee34e33014c94bf79cda5892e2ec6b24', 14],\n",
       "  ['bc28e77e30a94f76aee87ac07949ecc4', 14],\n",
       "  ['bc28e77e30a94f76aee87ac07949ecc4', 14]],\n",
       " 'instr_id': '193593_0',\n",
       " 'instruction': 'find pillows in one of the living rooms .',\n",
       " 'scan': 'kEZ7cmS4wCh',\n",
       " 'trajectory': [[0, 0, 0],\n",
       "  [0, 1, 0],\n",
       "  [1, 0, 0],\n",
       "  [1, 0, 0],\n",
       "  [2, 0, 0],\n",
       "  [0, 0, 0]]}"
      ]
     },
     "execution_count": 112,
     "metadata": {},
     "output_type": "execute_result"
    }
   ],
   "source": [
    "seen_tr_data[0]"
   ]
  },
  {
   "cell_type": "markdown",
   "metadata": {},
   "source": [
    "## Save the datasets"
   ]
  },
  {
   "cell_type": "code",
   "execution_count": 113,
   "metadata": {},
   "outputs": [],
   "source": [
    "with open('/home/hoyeung/blob_matterport3d/pretrain/asknav_pretrain_lookup_train.json', 'w') as f:\n",
    "    json.dump(seen_tr_data, f)"
   ]
  },
  {
   "cell_type": "code",
   "execution_count": 114,
   "metadata": {},
   "outputs": [],
   "source": [
    "with open('/home/hoyeung/blob_matterport3d/pretrain/asknav_pretrain_lookup_val_seen.json', 'w') as f:\n",
    "    json.dump(seen_val_data, f)"
   ]
  },
  {
   "cell_type": "code",
   "execution_count": 115,
   "metadata": {},
   "outputs": [],
   "source": [
    "with open('/home/hoyeung/blob_matterport3d/pretrain/asknav_pretrain_lookup_val_unseen.json', 'w') as f:\n",
    "    json.dump(unseen_data, f)"
   ]
  },
  {
   "cell_type": "code",
   "execution_count": 117,
   "metadata": {},
   "outputs": [
    {
     "data": {
      "text/plain": [
       "[(1, 2, 3), (1, 2, 3), (4, 5, 6), (7, 8, 9)]"
      ]
     },
     "execution_count": 117,
     "metadata": {},
     "output_type": "execute_result"
    }
   ],
   "source": [
    "lis = [(1,2,3),(4,5,6),(7,8,9)]\n",
    "lis.insert(0, lis[0])\n",
    "lis"
   ]
  },
  {
   "cell_type": "code",
   "execution_count": 118,
   "metadata": {},
   "outputs": [
    {
     "data": {
      "text/plain": [
       "[(1, 2, 3), (1, 2, 3), (4, 5, 6), (7, 8, 9), (7, 8, 9)]"
      ]
     },
     "execution_count": 118,
     "metadata": {},
     "output_type": "execute_result"
    }
   ],
   "source": [
    "lis.insert(-1, lis[-1])\n",
    "lis"
   ]
  },
  {
   "cell_type": "code",
   "execution_count": 119,
   "metadata": {},
   "outputs": [
    {
     "data": {
      "text/plain": [
       "0"
      ]
     },
     "execution_count": 119,
     "metadata": {},
     "output_type": "execute_result"
    }
   ],
   "source": [
    "0 % 2"
   ]
  },
  {
   "cell_type": "code",
   "execution_count": 120,
   "metadata": {},
   "outputs": [
    {
     "data": {
      "text/plain": [
       "1"
      ]
     },
     "execution_count": 120,
     "metadata": {},
     "output_type": "execute_result"
    }
   ],
   "source": [
    "1 % 2"
   ]
  },
  {
   "cell_type": "code",
   "execution_count": 121,
   "metadata": {},
   "outputs": [
    {
     "data": {
      "text/plain": [
       "1"
      ]
     },
     "execution_count": 121,
     "metadata": {},
     "output_type": "execute_result"
    }
   ],
   "source": [
    "3 % 2"
   ]
  },
  {
   "cell_type": "code",
   "execution_count": 122,
   "metadata": {},
   "outputs": [
    {
     "data": {
      "text/plain": [
       "0"
      ]
     },
     "execution_count": 122,
     "metadata": {},
     "output_type": "execute_result"
    }
   ],
   "source": [
    "2 % 1"
   ]
  },
  {
   "cell_type": "code",
   "execution_count": null,
   "metadata": {},
   "outputs": [],
   "source": []
  }
 ],
 "metadata": {
  "kernelspec": {
   "display_name": "Python [conda env:py35]",
   "language": "python",
   "name": "conda-env-py35-py"
  },
  "language_info": {
   "codemirror_mode": {
    "name": "ipython",
    "version": 3
   },
   "file_extension": ".py",
   "mimetype": "text/x-python",
   "name": "python",
   "nbconvert_exporter": "python",
   "pygments_lexer": "ipython3",
   "version": "3.5.5"
  }
 },
 "nbformat": 4,
 "nbformat_minor": 2
}
