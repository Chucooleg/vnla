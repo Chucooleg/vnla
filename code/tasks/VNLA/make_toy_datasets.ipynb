{
 "cells": [
  {
   "cell_type": "code",
   "execution_count": 4,
   "metadata": {},
   "outputs": [],
   "source": [
    "import json\n",
    "import numpy as np\n",
    "from functools import partial\n",
    "from collections import Counter"
   ]
  },
  {
   "cell_type": "code",
   "execution_count": 5,
   "metadata": {},
   "outputs": [],
   "source": [
    "with open(\"/home/hoyeung/blob_matterport3d/asknav/asknav_train_original.json\") as f:\n",
    "    data = json.load(f)"
   ]
  },
  {
   "cell_type": "code",
   "execution_count": 6,
   "metadata": {},
   "outputs": [
    {
     "data": {
      "text/plain": [
       "94798"
      ]
     },
     "execution_count": 6,
     "metadata": {},
     "output_type": "execute_result"
    }
   ],
   "source": [
    "len(data)"
   ]
  },
  {
   "cell_type": "code",
   "execution_count": 7,
   "metadata": {},
   "outputs": [
    {
     "data": {
      "text/plain": [
       "dict_keys(['object_indices', 'scan', 'object_name', 'path_id', 'trajectories', 'end_regions', 'paths', 'instructions', 'start_region_name', 'heading', 'end_region_name', 'start_region', 'distances'])"
      ]
     },
     "execution_count": 7,
     "metadata": {},
     "output_type": "execute_result"
    }
   ],
   "source": [
    "data[0].keys()"
   ]
  },
  {
   "cell_type": "code",
   "execution_count": 8,
   "metadata": {},
   "outputs": [
    {
     "data": {
      "text/plain": [
       "1444"
      ]
     },
     "execution_count": 8,
     "metadata": {},
     "output_type": "execute_result"
    }
   ],
   "source": [
    "# most common of all\n",
    "instr_set = set()\n",
    "instr_list = []\n",
    "for d in data:\n",
    "    instr_set.add(d['instructions'][0])\n",
    "    instr_list.append(d['instructions'][0])\n",
    "\n",
    "len(instr_set)"
   ]
  },
  {
   "cell_type": "code",
   "execution_count": 9,
   "metadata": {},
   "outputs": [
    {
     "data": {
      "text/plain": [
       "[('find a sink in the kitchen .', 650),\n",
       " ('find a refrigerator in the kitchen .', 626),\n",
       " ('find a couch in the living room .', 614),\n",
       " ('find a mirror in one of the bedrooms .', 589),\n",
       " ('find a picture in the living room .', 586),\n",
       " ('find a table in the living room .', 579),\n",
       " ('find a chair in one of the bedrooms .', 566),\n",
       " ('find a nightstand in one of the bedrooms .', 560),\n",
       " ('find a kitchen counter in the kitchen .', 533),\n",
       " ('find a lamp in one of the bedrooms .', 513)]"
      ]
     },
     "execution_count": 9,
     "metadata": {},
     "output_type": "execute_result"
    }
   ],
   "source": [
    "Counter(instr_list).most_common(10)"
   ]
  },
  {
   "cell_type": "code",
   "execution_count": 10,
   "metadata": {
    "scrolled": true
   },
   "outputs": [],
   "source": [
    "# Figure 9 number of actions 5-9\n",
    "def filter_action_lens(low, high, d):\n",
    "    mean_path_len = np.mean([len(path) for path in d['paths']])\n",
    "    if low <= mean_path_len and high >= mean_path_len:\n",
    "        return True\n",
    "    else:\n",
    "        return False\n",
    "\n",
    "filter_5_9 = partial(filter_action_lens, 5, 9)\n",
    "\n",
    "# -------------------------------------------------------\n",
    "# Figure 5 start rooms\n",
    "def filter_start_room(start_rm_list, d):\n",
    "    if d['start_region_name'] in start_rm_list:\n",
    "        return True\n",
    "    else:\n",
    "        return False\n",
    "    \n",
    "filter_start_hallway = partial(filter_start_room, ['hallway'])\n",
    "\n",
    "# -------------------------------------------------------\n",
    "# Figure 5 goal rooms\n",
    "def filter_goal_room(goal_rm_list, d):\n",
    "    if d['end_region_name'] in goal_rm_list:\n",
    "        return True\n",
    "    else:\n",
    "        return False\n",
    "    \n",
    "filter_end_bedroom = partial(filter_goal_room, ['bedroom'])\n",
    "filter_end_bathroom = partial(filter_goal_room, ['bathroom'])\n",
    "filter_end_common = partial(filter_goal_room, ['bedroom', 'bathroom'])\n",
    "# -------------------------------------------------------\n",
    "# Figure 4 objects\n",
    "def filter_object(object_list, d):\n",
    "    if d['object_name'] in object_list:\n",
    "        return True\n",
    "    else:\n",
    "        return False\n",
    "    \n",
    "filter_picture = partial(filter_object, ['picture'])\n",
    "filter_mirror = partial(filter_object, ['mirror'])\n",
    "filter_pillow = partial(filter_object, ['pillow'])\n",
    "filter_picture_mirror_pillow = partial(filter_object, ['mirror', 'picture', 'pillow'])\n",
    "# -------------------------------------------------------\n",
    "# Language instruction\n",
    "def filter_instruction(instr_str_list, d):\n",
    "    for instr_str in instr_str_list:\n",
    "        if instr_str in d['instructions'][0]:\n",
    "            return True\n",
    "    return False\n",
    "\n",
    "filter_instruction_most_common =  partial(filter_instruction, ['find a sink in the kitchen '])\n",
    "# -------------------------------------------------------\n",
    "def filter_simple_case(d):\n",
    "    if filter_pillow(d) and filter_5_9(d) and filter_start_hallway(d) and filter_end_bedroom(d):\n",
    "        return True\n",
    "    else:\n",
    "        return False\n",
    "    \n",
    "def filter_simple_case2(d):\n",
    "    if filter_mirror(d) and filter_5_9(d) and filter_start_hallway(d) and filter_end_bathroom(d):\n",
    "        return True\n",
    "    else:\n",
    "        return False\n",
    "\n",
    "def filter_common1(d):\n",
    "    if filter_picture_mirror_pillow(d) and filter_5_9(d) and filter_start_hallway(d) and filter_end_bathroom(d):\n",
    "        return True\n",
    "    else:\n",
    "        return False\n",
    "    \n",
    "def filter_common2(d):\n",
    "    if filter_picture_mirror_pillow(d) and filter_5_9(d) and filter_start_hallway(d) and filter_end_common(d):\n",
    "        return True\n",
    "    else:\n",
    "        return False\n",
    "    \n",
    "def filter_common3(d):\n",
    "    if filter_instruction_most_common(d) and filter_5_9(d):\n",
    "        return True\n",
    "    else:\n",
    "        return False"
   ]
  },
  {
   "cell_type": "code",
   "execution_count": 11,
   "metadata": {
    "scrolled": true
   },
   "outputs": [
    {
     "data": {
      "text/plain": [
       "26"
      ]
     },
     "execution_count": 11,
     "metadata": {},
     "output_type": "execute_result"
    }
   ],
   "source": [
    "# 5-9, start hallway, end bedroom, pillow\n",
    "len(list(filter(filter_simple_case, data)))"
   ]
  },
  {
   "cell_type": "code",
   "execution_count": 12,
   "metadata": {
    "scrolled": true
   },
   "outputs": [
    {
     "data": {
      "text/plain": [
       "34"
      ]
     },
     "execution_count": 12,
     "metadata": {},
     "output_type": "execute_result"
    }
   ],
   "source": [
    "# 5-9, start hallway, end bathroom, mirror\n",
    "len(list(filter(filter_simple_case2, data)))"
   ]
  },
  {
   "cell_type": "code",
   "execution_count": 13,
   "metadata": {
    "scrolled": true
   },
   "outputs": [
    {
     "data": {
      "text/plain": [
       "70"
      ]
     },
     "execution_count": 13,
     "metadata": {},
     "output_type": "execute_result"
    }
   ],
   "source": [
    "# 5-9, start hallway, end bathroom, mirror/picture/pillow\n",
    "len(list(filter(filter_common1, data)))"
   ]
  },
  {
   "cell_type": "code",
   "execution_count": 14,
   "metadata": {
    "scrolled": true
   },
   "outputs": [
    {
     "data": {
      "text/plain": [
       "173"
      ]
     },
     "execution_count": 14,
     "metadata": {},
     "output_type": "execute_result"
    }
   ],
   "source": [
    "# 5-9, start hallway, end bathroom, mirror/picture/pillow\n",
    "len(list(filter(filter_common2, data)))"
   ]
  },
  {
   "cell_type": "code",
   "execution_count": 15,
   "metadata": {
    "scrolled": true
   },
   "outputs": [
    {
     "data": {
      "text/plain": [
       "372"
      ]
     },
     "execution_count": 15,
     "metadata": {},
     "output_type": "execute_result"
    }
   ],
   "source": [
    "# 5-9, 'find a sink in the kitchen '\n",
    "len(list(filter(filter_common3, data)))"
   ]
  },
  {
   "cell_type": "code",
   "execution_count": 16,
   "metadata": {
    "scrolled": true
   },
   "outputs": [
    {
     "data": {
      "text/plain": [
       "650"
      ]
     },
     "execution_count": 16,
     "metadata": {},
     "output_type": "execute_result"
    }
   ],
   "source": [
    "# any length, 'find a sink in the kitchen '\n",
    "len(list(filter(filter_instruction_most_common, data)))"
   ]
  },
  {
   "cell_type": "markdown",
   "metadata": {},
   "source": [
    "# extract by indices"
   ]
  },
  {
   "cell_type": "code",
   "execution_count": 17,
   "metadata": {},
   "outputs": [],
   "source": [
    "# 5-9, 'find a sink in the kitchen '\n",
    "data_common3 = [data[idx] for idx in range(len(data)) if filter_common3(data[idx])]\n",
    "data_common3_idx = [idx for idx in range(len(data)) if filter_common3(data[idx])]"
   ]
  },
  {
   "cell_type": "code",
   "execution_count": 76,
   "metadata": {
    "scrolled": true
   },
   "outputs": [
    {
     "data": {
      "text/plain": [
       "[('ac26ZMwG7aT', 38),\n",
       " ('8WUmhLawc2A', 37),\n",
       " ('cV4RVeZvu5T', 26),\n",
       " ('JmbYfDe2QKZ', 26),\n",
       " ('mJXqzFtmKg4', 23),\n",
       " ('VzqfbhrpDEA', 23),\n",
       " ('EDJbREhghzL', 22),\n",
       " ('82sE5b5pLXE', 22),\n",
       " ('gTV8FGcVJC9', 21),\n",
       " ('e9zR4mvMWw7', 21)]"
      ]
     },
     "execution_count": 76,
     "metadata": {},
     "output_type": "execute_result"
    }
   ],
   "source": [
    "scans_common3 = [d['scan'] for d in data_common3]\n",
    "Counter(scans_common3).most_common(10)"
   ]
  },
  {
   "cell_type": "code",
   "execution_count": 78,
   "metadata": {},
   "outputs": [],
   "source": [
    "examine_d = [d for d in data_common3 if d['scan'] == 'ac26ZMwG7aT']"
   ]
  },
  {
   "cell_type": "code",
   "execution_count": 81,
   "metadata": {},
   "outputs": [
    {
     "name": "stdout",
     "output_type": "stream",
     "text": [
      "ac26ZMwG7aT\n",
      "ac26ZMwG7aT\n"
     ]
    }
   ],
   "source": [
    "print (examine_d[0]['scan'])\n",
    "print (examine_d[37]['scan'])"
   ]
  },
  {
   "cell_type": "code",
   "execution_count": 114,
   "metadata": {},
   "outputs": [],
   "source": [
    "# [d['path_id'] for d in examine_d]"
   ]
  },
  {
   "cell_type": "code",
   "execution_count": 112,
   "metadata": {},
   "outputs": [
    {
     "data": {
      "text/plain": [
       "{'distances': [17.83902011259488],\n",
       " 'end_region_name': 'kitchen',\n",
       " 'end_regions': [7],\n",
       " 'heading': 5.235987755982989,\n",
       " 'instructions': ['find a sink in the kitchen .'],\n",
       " 'object_indices': [[348, 355]],\n",
       " 'object_name': 'sink',\n",
       " 'path_id': 156477,\n",
       " 'paths': [['13faa4c86406405ba802f5bdcba744ee',\n",
       "   '11fae969386e4e4fa6ed73ac9f20cd1d',\n",
       "   '735cc8eae07743a1aa5d41ba878b0eb4',\n",
       "   '057625814959401f8e969f5bfbf6cca0',\n",
       "   '91b29545634c4754bfe914564d6c950f',\n",
       "   'effea130a5984e53bd2bef2bbe4ba4c1',\n",
       "   '57b84179a9a24ff49697d9349a21bc60']],\n",
       " 'scan': 'ac26ZMwG7aT',\n",
       " 'start_region': 25,\n",
       " 'start_region_name': 'bedroom',\n",
       " 'trajectories': [[[0, 1, 0],\n",
       "   [0, 1, 0],\n",
       "   [0, 1, 0],\n",
       "   [0, 1, 0],\n",
       "   [0, 1, 0],\n",
       "   [1, 0, 0],\n",
       "   [1, 0, 0],\n",
       "   [0, -1, 0],\n",
       "   [0, -1, 0],\n",
       "   [1, 0, 0],\n",
       "   [0, -1, 0],\n",
       "   [1, 0, 0],\n",
       "   [1, 0, 0],\n",
       "   [0, 1, 0],\n",
       "   [0, 1, 0],\n",
       "   [2, 0, 0],\n",
       "   [0, 0, 0]]]}"
      ]
     },
     "execution_count": 112,
     "metadata": {},
     "output_type": "execute_result"
    }
   ],
   "source": [
    "examine_d[0]"
   ]
  },
  {
   "cell_type": "code",
   "execution_count": 88,
   "metadata": {},
   "outputs": [
    {
     "data": {
      "text/plain": [
       "['57b84179a9a24ff49697d9349a21bc60',\n",
       " '57b84179a9a24ff49697d9349a21bc60',\n",
       " '57b84179a9a24ff49697d9349a21bc60',\n",
       " '57b84179a9a24ff49697d9349a21bc60',\n",
       " '57b84179a9a24ff49697d9349a21bc60',\n",
       " '57b84179a9a24ff49697d9349a21bc60',\n",
       " '57b84179a9a24ff49697d9349a21bc60',\n",
       " '57b84179a9a24ff49697d9349a21bc60',\n",
       " '57b84179a9a24ff49697d9349a21bc60',\n",
       " '57b84179a9a24ff49697d9349a21bc60',\n",
       " '57b84179a9a24ff49697d9349a21bc60',\n",
       " '57b84179a9a24ff49697d9349a21bc60',\n",
       " '57b84179a9a24ff49697d9349a21bc60',\n",
       " '57b84179a9a24ff49697d9349a21bc60',\n",
       " '57b84179a9a24ff49697d9349a21bc60',\n",
       " '57b84179a9a24ff49697d9349a21bc60',\n",
       " '57b84179a9a24ff49697d9349a21bc60',\n",
       " '57b84179a9a24ff49697d9349a21bc60',\n",
       " '57b84179a9a24ff49697d9349a21bc60',\n",
       " '57b84179a9a24ff49697d9349a21bc60',\n",
       " '57b84179a9a24ff49697d9349a21bc60',\n",
       " '57b84179a9a24ff49697d9349a21bc60',\n",
       " '57b84179a9a24ff49697d9349a21bc60',\n",
       " '57b84179a9a24ff49697d9349a21bc60',\n",
       " '57b84179a9a24ff49697d9349a21bc60',\n",
       " '57b84179a9a24ff49697d9349a21bc60',\n",
       " '57b84179a9a24ff49697d9349a21bc60',\n",
       " '57b84179a9a24ff49697d9349a21bc60',\n",
       " '57b84179a9a24ff49697d9349a21bc60',\n",
       " '57b84179a9a24ff49697d9349a21bc60',\n",
       " '57b84179a9a24ff49697d9349a21bc60',\n",
       " '57b84179a9a24ff49697d9349a21bc60',\n",
       " '57b84179a9a24ff49697d9349a21bc60',\n",
       " '57b84179a9a24ff49697d9349a21bc60',\n",
       " '57b84179a9a24ff49697d9349a21bc60',\n",
       " '57b84179a9a24ff49697d9349a21bc60',\n",
       " '57b84179a9a24ff49697d9349a21bc60',\n",
       " '57b84179a9a24ff49697d9349a21bc60']"
      ]
     },
     "execution_count": 88,
     "metadata": {},
     "output_type": "execute_result"
    }
   ],
   "source": [
    "[d['paths'][0][-1] for d in examine_d]"
   ]
  },
  {
   "cell_type": "code",
   "execution_count": 92,
   "metadata": {
    "scrolled": true
   },
   "outputs": [
    {
     "data": {
      "text/plain": [
       "[7,\n",
       " 9,\n",
       " 9,\n",
       " 5,\n",
       " 7,\n",
       " 9,\n",
       " 5,\n",
       " 9,\n",
       " 7,\n",
       " 8,\n",
       " 5,\n",
       " 7,\n",
       " 6,\n",
       " 5,\n",
       " 6,\n",
       " 6,\n",
       " 7,\n",
       " 6,\n",
       " 6,\n",
       " 5,\n",
       " 8,\n",
       " 9,\n",
       " 5,\n",
       " 7,\n",
       " 6,\n",
       " 6,\n",
       " 8,\n",
       " 6,\n",
       " 6,\n",
       " 9,\n",
       " 9,\n",
       " 7,\n",
       " 6,\n",
       " 9,\n",
       " 8,\n",
       " 5,\n",
       " 9,\n",
       " 5]"
      ]
     },
     "execution_count": 92,
     "metadata": {},
     "output_type": "execute_result"
    }
   ],
   "source": [
    "[len(d['paths'][0]) for d in examine_d]"
   ]
  },
  {
   "cell_type": "markdown",
   "metadata": {},
   "source": [
    "## Single example dataset"
   ]
  },
  {
   "cell_type": "code",
   "execution_count": 99,
   "metadata": {},
   "outputs": [
    {
     "data": {
      "text/plain": [
       "list"
      ]
     },
     "execution_count": 99,
     "metadata": {},
     "output_type": "execute_result"
    }
   ],
   "source": [
    "type(data)"
   ]
  },
  {
   "cell_type": "code",
   "execution_count": 106,
   "metadata": {},
   "outputs": [
    {
     "data": {
      "text/plain": [
       "{'distances': [11.124175652960771],\n",
       " 'end_region_name': 'kitchen',\n",
       " 'end_regions': [7],\n",
       " 'heading': 5.235987755982989,\n",
       " 'instructions': ['find a sink in the kitchen .'],\n",
       " 'object_indices': [[348, 355]],\n",
       " 'object_name': 'sink',\n",
       " 'path_id': 156482,\n",
       " 'paths': [['828b8f02ffd145ac8b351cbb70682dc2',\n",
       "   '7fb0cc6c0754461ca29084c1d793b600',\n",
       "   '96b25d845ff447cc989dfd87c88ff8b8',\n",
       "   'fbc5ba2686d24a2d86cc1ac0575325ae',\n",
       "   '57b84179a9a24ff49697d9349a21bc60']],\n",
       " 'scan': 'ac26ZMwG7aT',\n",
       " 'start_region': 0,\n",
       " 'start_region_name': 'other room',\n",
       " 'trajectories': [[[0, 1, 0],\n",
       "   [0, 1, 0],\n",
       "   [0, 1, 0],\n",
       "   [0, 1, 0],\n",
       "   [0, 1, 0],\n",
       "   [1, 0, 0],\n",
       "   [1, 0, 0],\n",
       "   [0, 1, 0],\n",
       "   [1, 0, 0],\n",
       "   [1, 0, 0],\n",
       "   [0, 0, 0]]]}"
      ]
     },
     "execution_count": 106,
     "metadata": {},
     "output_type": "execute_result"
    }
   ],
   "source": [
    "# scan 'ac26ZMwG7aT', length 5, 'find a sink in the kitchen '\n",
    "examine_d[-1]"
   ]
  },
  {
   "cell_type": "code",
   "execution_count": 107,
   "metadata": {},
   "outputs": [],
   "source": [
    "with open(\"/home/hoyeung/blob_matterport3d/asknav/asknav_train_small_single_example.json\", \"w\") as f:\n",
    "    json.dump([examine_d[-1]]*100, f)"
   ]
  },
  {
   "cell_type": "markdown",
   "metadata": {},
   "source": [
    "## Single house, short, same goal example dataset"
   ]
  },
  {
   "cell_type": "code",
   "execution_count": 94,
   "metadata": {},
   "outputs": [
    {
     "data": {
      "text/plain": [
       "38"
      ]
     },
     "execution_count": 94,
     "metadata": {},
     "output_type": "execute_result"
    }
   ],
   "source": [
    "# scan 'ac26ZMwG7aT', 5-9, 'find a sink in the kitchen '\n",
    "len(examine_d)"
   ]
  },
  {
   "cell_type": "code",
   "execution_count": 104,
   "metadata": {},
   "outputs": [
    {
     "data": {
      "text/plain": [
       "list"
      ]
     },
     "execution_count": 104,
     "metadata": {},
     "output_type": "execute_result"
    }
   ],
   "source": [
    "type(examine_d)"
   ]
  },
  {
   "cell_type": "code",
   "execution_count": 105,
   "metadata": {},
   "outputs": [],
   "source": [
    "with open(\"/home/hoyeung/blob_matterport3d/asknav/asknav_train_small_single_house_single_goal_short.json\", \"w\") as f:\n",
    "    json.dump(examine_d, f)"
   ]
  },
  {
   "cell_type": "markdown",
   "metadata": {},
   "source": [
    "## Single house, any length, same goal example dataset"
   ]
  },
  {
   "cell_type": "code",
   "execution_count": 95,
   "metadata": {},
   "outputs": [],
   "source": [
    "# any length, 'find a sink in the kitchen '\n",
    "data_common4 = [data[idx] for idx in range(len(data)) if filter_instruction_most_common(data[idx])]\n",
    "data_common4_idx = [idx for idx in range(len(data)) if filter_instruction_most_common(data[idx])]"
   ]
  },
  {
   "cell_type": "code",
   "execution_count": 97,
   "metadata": {},
   "outputs": [
    {
     "data": {
      "text/plain": [
       "59"
      ]
     },
     "execution_count": 97,
     "metadata": {},
     "output_type": "execute_result"
    }
   ],
   "source": [
    "# scan 'ac26ZMwG7aT', any length, 'find a sink in the kitchen '\n",
    "examine_e = [d for d in data_common4 if d['scan'] == 'ac26ZMwG7aT']\n",
    "len(examine_e)"
   ]
  },
  {
   "cell_type": "markdown",
   "metadata": {},
   "source": [
    "## Three houses, short, same goal example dataset"
   ]
  },
  {
   "cell_type": "code",
   "execution_count": 95,
   "metadata": {},
   "outputs": [],
   "source": [
    "# any length, 'find a sink in the kitchen '\n",
    "data_common5 = [data[idx] for idx in range(len(data)) if filter_instruction_most_common(data[idx])]\n",
    "data_common5_idx = [idx for idx in range(len(data)) if filter_instruction_most_common(data[idx])]"
   ]
  },
  {
   "cell_type": "code",
   "execution_count": 19,
   "metadata": {},
   "outputs": [
    {
     "data": {
      "text/plain": [
       "101"
      ]
     },
     "execution_count": 19,
     "metadata": {},
     "output_type": "execute_result"
    }
   ],
   "source": [
    "#  ('ac26ZMwG7aT', 38),\n",
    "#  ('8WUmhLawc2A', 37),\n",
    "#  ('cV4RVeZvu5T', 26)\n",
    "#  3 houses, 5-9, 'find a sink in the kitchen '\n",
    "examine_f = [d for d in data_common3 if d['scan'] in ['ac26ZMwG7aT', '8WUmhLawc2A', 'cV4RVeZvu5T']]\n",
    "len(examine_f)"
   ]
  },
  {
   "cell_type": "code",
   "execution_count": 29,
   "metadata": {},
   "outputs": [
    {
     "data": {
      "text/plain": [
       "9"
      ]
     },
     "execution_count": 29,
     "metadata": {},
     "output_type": "execute_result"
    }
   ],
   "source": [
    "# short path length by vertex ID\n",
    "len(examine_f[91]['paths'][0])"
   ]
  },
  {
   "cell_type": "code",
   "execution_count": 23,
   "metadata": {},
   "outputs": [
    {
     "data": {
      "text/plain": [
       "20"
      ]
     },
     "execution_count": 23,
     "metadata": {},
     "output_type": "execute_result"
    }
   ],
   "source": [
    "# long trajectory length by tota=l number of gold actions\n",
    "len(examine_f[91]['trajectories'][0])"
   ]
  },
  {
   "cell_type": "code",
   "execution_count": 26,
   "metadata": {},
   "outputs": [
    {
     "data": {
      "text/plain": [
       "13"
      ]
     },
     "execution_count": 26,
     "metadata": {},
     "output_type": "execute_result"
    }
   ],
   "source": [
    "len(examine_f[90]['trajectories'][0])"
   ]
  },
  {
   "cell_type": "code",
   "execution_count": 24,
   "metadata": {},
   "outputs": [
    {
     "ename": "IndexError",
     "evalue": "list index out of range",
     "output_type": "error",
     "traceback": [
      "\u001b[0;31m---------------------------------------------------------------------------\u001b[0m",
      "\u001b[0;31mIndexError\u001b[0m                                Traceback (most recent call last)",
      "\u001b[0;32m<ipython-input-24-6f9a3ec55e7b>\u001b[0m in \u001b[0;36m<module>\u001b[0;34m()\u001b[0m\n\u001b[0;32m----> 1\u001b[0;31m \u001b[0mlen\u001b[0m\u001b[0;34m(\u001b[0m\u001b[0mexamine_f\u001b[0m\u001b[0;34m[\u001b[0m\u001b[0;36m91\u001b[0m\u001b[0;34m]\u001b[0m\u001b[0;34m[\u001b[0m\u001b[0;34m'trajectories'\u001b[0m\u001b[0;34m]\u001b[0m\u001b[0;34m[\u001b[0m\u001b[0;36m1\u001b[0m\u001b[0;34m]\u001b[0m\u001b[0;34m)\u001b[0m\u001b[0;34m\u001b[0m\u001b[0m\n\u001b[0m",
      "\u001b[0;31mIndexError\u001b[0m: list index out of range"
     ]
    }
   ],
   "source": [
    "len(examine_f[91]['trajectories'][1])"
   ]
  },
  {
   "cell_type": "code",
   "execution_count": 118,
   "metadata": {},
   "outputs": [],
   "source": [
    "with open(\"/home/hoyeung/blob_matterport3d/asknav/asknav_train_small_three_houses_single_goal_short.json\", \"w\") as f:\n",
    "    json.dump(examine_f, f)"
   ]
  },
  {
   "cell_type": "markdown",
   "metadata": {},
   "source": [
    "## Multiple houses, any length, same goal example dataset"
   ]
  },
  {
   "cell_type": "code",
   "execution_count": 98,
   "metadata": {},
   "outputs": [
    {
     "data": {
      "text/plain": [
       "650"
      ]
     },
     "execution_count": 98,
     "metadata": {},
     "output_type": "execute_result"
    }
   ],
   "source": [
    "# any scans, any length, 'find a sink in the kitchen '\n",
    "len(data_common4)"
   ]
  },
  {
   "cell_type": "code",
   "execution_count": 119,
   "metadata": {},
   "outputs": [
    {
     "name": "stdout",
     "output_type": "stream",
     "text": [
      "ok\n",
      "ok\n",
      "ok\n",
      "ok\n",
      "ok\n",
      "ok\n",
      "ok\n",
      "ok\n",
      "ok\n",
      "ok\n",
      "ok\n"
     ]
    }
   ],
   "source": [
    "for _ in range(11): print(\"ok\")"
   ]
  },
  {
   "cell_type": "code",
   "execution_count": 120,
   "metadata": {},
   "outputs": [
    {
     "data": {
      "text/plain": [
       "[[None],\n",
       " [None],\n",
       " [None],\n",
       " [None],\n",
       " [None],\n",
       " [None],\n",
       " [None],\n",
       " [None],\n",
       " [None],\n",
       " [None]]"
      ]
     },
     "execution_count": 120,
     "metadata": {},
     "output_type": "execute_result"
    }
   ],
   "source": [
    "l = [[None]] * 10\n",
    "l"
   ]
  },
  {
   "cell_type": "code",
   "execution_count": 121,
   "metadata": {},
   "outputs": [
    {
     "data": {
      "text/plain": [
       "[[None, 1],\n",
       " [None, 1],\n",
       " [None, 1],\n",
       " [None, 1],\n",
       " [None, 1],\n",
       " [None, 1],\n",
       " [None, 1],\n",
       " [None, 1],\n",
       " [None, 1],\n",
       " [None, 1]]"
      ]
     },
     "execution_count": 121,
     "metadata": {},
     "output_type": "execute_result"
    }
   ],
   "source": [
    "l[0].append(1)\n",
    "l"
   ]
  },
  {
   "cell_type": "code",
   "execution_count": 122,
   "metadata": {},
   "outputs": [
    {
     "data": {
      "text/plain": [
       "[[None, None, None],\n",
       " [None, None, None],\n",
       " [None, None, None],\n",
       " [None, None, None],\n",
       " [None, None, None],\n",
       " [None, None, None],\n",
       " [None, None, None],\n",
       " [None, None, None],\n",
       " [None, None, None],\n",
       " [None, None, None]]"
      ]
     },
     "execution_count": 122,
     "metadata": {},
     "output_type": "execute_result"
    }
   ],
   "source": [
    "l = [[None]*3] * 10\n",
    "l"
   ]
  },
  {
   "cell_type": "code",
   "execution_count": 123,
   "metadata": {},
   "outputs": [
    {
     "data": {
      "text/plain": [
       "[[None, None, None, 1],\n",
       " [None, None, None, 1],\n",
       " [None, None, None, 1],\n",
       " [None, None, None, 1],\n",
       " [None, None, None, 1],\n",
       " [None, None, None, 1],\n",
       " [None, None, None, 1],\n",
       " [None, None, None, 1],\n",
       " [None, None, None, 1],\n",
       " [None, None, None, 1]]"
      ]
     },
     "execution_count": 123,
     "metadata": {},
     "output_type": "execute_result"
    }
   ],
   "source": [
    "l[0].append(1)\n",
    "l"
   ]
  },
  {
   "cell_type": "code",
   "execution_count": 124,
   "metadata": {},
   "outputs": [
    {
     "ename": "SyntaxError",
     "evalue": "invalid syntax (<ipython-input-124-cbdf10b85b89>, line 1)",
     "output_type": "error",
     "traceback": [
      "\u001b[0;36m  File \u001b[0;32m\"<ipython-input-124-cbdf10b85b89>\"\u001b[0;36m, line \u001b[0;32m1\u001b[0m\n\u001b[0;31m    l = [[None]*3.copy()] * 10\u001b[0m\n\u001b[0m                     ^\u001b[0m\n\u001b[0;31mSyntaxError\u001b[0m\u001b[0;31m:\u001b[0m invalid syntax\n"
     ]
    }
   ],
   "source": []
  },
  {
   "cell_type": "code",
   "execution_count": 125,
   "metadata": {},
   "outputs": [],
   "source": [
    "l = [None] * 10"
   ]
  },
  {
   "cell_type": "code",
   "execution_count": 126,
   "metadata": {},
   "outputs": [
    {
     "data": {
      "text/plain": [
       "[None, None, None, None, None, None, None, None, None, None]"
      ]
     },
     "execution_count": 126,
     "metadata": {},
     "output_type": "execute_result"
    }
   ],
   "source": [
    "l"
   ]
  },
  {
   "cell_type": "code",
   "execution_count": 127,
   "metadata": {},
   "outputs": [
    {
     "data": {
      "text/plain": [
       "[1, None, None, None, None, None, None, None, None, None]"
      ]
     },
     "execution_count": 127,
     "metadata": {},
     "output_type": "execute_result"
    }
   ],
   "source": [
    "l[0] = 1\n",
    "l"
   ]
  },
  {
   "cell_type": "code",
   "execution_count": 129,
   "metadata": {},
   "outputs": [],
   "source": [
    "l = [[].copy()] * 10"
   ]
  },
  {
   "cell_type": "code",
   "execution_count": 130,
   "metadata": {},
   "outputs": [
    {
     "data": {
      "text/plain": [
       "[[], [], [], [], [], [], [], [], [], []]"
      ]
     },
     "execution_count": 130,
     "metadata": {},
     "output_type": "execute_result"
    }
   ],
   "source": [
    "l"
   ]
  },
  {
   "cell_type": "code",
   "execution_count": 131,
   "metadata": {},
   "outputs": [
    {
     "data": {
      "text/plain": [
       "[[1], [1], [1], [1], [1], [1], [1], [1], [1], [1]]"
      ]
     },
     "execution_count": 131,
     "metadata": {},
     "output_type": "execute_result"
    }
   ],
   "source": [
    "l[0].append(1)\n",
    "l"
   ]
  },
  {
   "cell_type": "code",
   "execution_count": 133,
   "metadata": {},
   "outputs": [
    {
     "data": {
      "text/plain": [
       "[[], [], [], [], [], [], [], [], [], []]"
      ]
     },
     "execution_count": 133,
     "metadata": {},
     "output_type": "execute_result"
    }
   ],
   "source": [
    "l = [[] for _ in range(10)]\n",
    "l"
   ]
  },
  {
   "cell_type": "code",
   "execution_count": 134,
   "metadata": {},
   "outputs": [],
   "source": [
    "l[0] = 1"
   ]
  },
  {
   "cell_type": "code",
   "execution_count": 135,
   "metadata": {},
   "outputs": [
    {
     "data": {
      "text/plain": [
       "[1, [], [], [], [], [], [], [], [], []]"
      ]
     },
     "execution_count": 135,
     "metadata": {},
     "output_type": "execute_result"
    }
   ],
   "source": [
    "l"
   ]
  },
  {
   "cell_type": "code",
   "execution_count": 139,
   "metadata": {},
   "outputs": [
    {
     "data": {
      "text/plain": [
       "[[None, None, None],\n",
       " [None, None, None],\n",
       " [None, None, None],\n",
       " [None, None, None],\n",
       " [None, None, None],\n",
       " [None, None, None],\n",
       " [None, None, None],\n",
       " [None, None, None],\n",
       " [None, None, None],\n",
       " [None, None, None]]"
      ]
     },
     "execution_count": 139,
     "metadata": {},
     "output_type": "execute_result"
    }
   ],
   "source": [
    "d = [[None for s in range(3)] for _ in range(10)]\n",
    "d"
   ]
  },
  {
   "cell_type": "code",
   "execution_count": 140,
   "metadata": {},
   "outputs": [
    {
     "data": {
      "text/plain": [
       "[[None, [1, 1, 1], None],\n",
       " [None, None, None],\n",
       " [None, None, None],\n",
       " [None, None, None],\n",
       " [None, None, None],\n",
       " [None, None, None],\n",
       " [None, None, None],\n",
       " [None, None, None],\n",
       " [None, None, None],\n",
       " [None, None, None]]"
      ]
     },
     "execution_count": 140,
     "metadata": {},
     "output_type": "execute_result"
    }
   ],
   "source": [
    "d[0][1] = [1,1,1]\n",
    "d"
   ]
  },
  {
   "cell_type": "code",
   "execution_count": null,
   "metadata": {},
   "outputs": [],
   "source": [
    "np.ones(len(obs), len(viewix_next_vertex_map[0])) * 1e9"
   ]
  }
 ],
 "metadata": {
  "kernelspec": {
   "display_name": "Python [conda env:py35]",
   "language": "python",
   "name": "conda-env-py35-py"
  },
  "language_info": {
   "codemirror_mode": {
    "name": "ipython",
    "version": 3
   },
   "file_extension": ".py",
   "mimetype": "text/x-python",
   "name": "python",
   "nbconvert_exporter": "python",
   "pygments_lexer": "ipython3",
   "version": "3.5.5"
  }
 },
 "nbformat": 4,
 "nbformat_minor": 2
}
