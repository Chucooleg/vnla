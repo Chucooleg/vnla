{
 "cells": [
  {
   "cell_type": "code",
   "execution_count": 9,
   "metadata": {},
   "outputs": [],
   "source": [
    "from importlib import reload\n",
    "import json\n",
    "import numpy as np\n",
    "import time\n",
    "from env import VNLAExplorationBatch\n",
    "import os\n",
    "from collections import defaultdict\n",
    "import utils\n",
    "import math\n",
    "import sys\n",
    "from sys import getsizeof\n",
    "from memory_profiler import profile"
   ]
  },
  {
   "cell_type": "code",
   "execution_count": 7,
   "metadata": {},
   "outputs": [],
   "source": [
    "os.environ['PT_DATA_DIR']='/home/hoyeung/blob_matterport3d/'\n",
    "\n",
    "nav_actions = ['left', 'right', 'up', 'down', 'forward', '<end>', '<start>', '<ignore>']\n",
    "env_actions = [\n",
    "        (0,-1, 0), # left   30 deg\n",
    "        (0, 1, 0), # right  30 deg\n",
    "        (0, 0, 1), # up     30 deg\n",
    "        (0, 0,-1), # down   30 deg\n",
    "        (1, 0, 0), # forward to navigable location at ix 1\n",
    "        (0, 0, 0), # <end>\n",
    "        (0, 0, 0), # <start>\n",
    "        (0, 0, 0)  # <ignore>\n",
    "    ]\n",
    "\n",
    "env = VNLAExplorationBatch(nav_actions, env_actions, obs=None, batch_size=len(all_tr_scans))"
   ]
  },
  {
   "cell_type": "code",
   "execution_count": 8,
   "metadata": {},
   "outputs": [],
   "source": [
    "scan_viewpt_map_all_tr_data = defaultdict(list)\n",
    "\n",
    "for scan in all_tr_scans:\n",
    "    scan_G = utils.load_nav_graphs(scan)\n",
    "    for n in scan_G.nodes:\n",
    "        scan_viewpt_map_all_tr_data[scan].append(n)"
   ]
  },
  {
   "cell_type": "code",
   "execution_count": 47,
   "metadata": {},
   "outputs": [],
   "source": [
    "from memory_profiler import profile"
   ]
  },
  {
   "cell_type": "code",
   "execution_count": 49,
   "metadata": {},
   "outputs": [],
   "source": [
    "size_list = []\n",
    "deep_size_list = []\n",
    "\n",
    "for (i, scan) in enumerate(all_tr_scans):\n",
    "    n = np.random.choice(scan_viewpt_map_all_tr_data[scan])\n",
    "    heading = (np.random.random() * 2 - 1) * 2 * math.pi\n",
    "    elevation = (np.random.random() * 2 - 1) * 2 * math.pi\n",
    "    env.sims[i].newEpisode(scan, n, heading, elevation) \n",
    "    size_list.append(getsizeof(env.sims[i]))\n",
    "    deep_size_list.append(get_size(env.sims[i], set()))"
   ]
  },
  {
   "cell_type": "code",
   "execution_count": 12,
   "metadata": {},
   "outputs": [],
   "source": [
    "@profile\n",
    "def monitor_size(scan_list):\n",
    "    for (i, scan) in enumerate(all_tr_scans):    \n",
    "        n = np.random.choice(scan_viewpt_map_all_tr_data[scan])\n",
    "        heading = (np.random.random() * 2 - 1) * 2 * math.pi\n",
    "        elevation = (np.random.random() * 2 - 1) * 2 * math.pi\n",
    "        env.sims[i].newEpisode(scan, n, heading, elevation) "
   ]
  },
  {
   "cell_type": "code",
   "execution_count": 13,
   "metadata": {},
   "outputs": [
    {
     "name": "stdout",
     "output_type": "stream",
     "text": [
      "ERROR: Could not find file <ipython-input-12-8cf510c630e5>\n",
      "NOTE: %mprun can only be used on functions defined in physical files, and not in the IPython environment.\n"
     ]
    }
   ],
   "source": [
    "monitor_size(all_tr_scans)"
   ]
  },
  {
   "cell_type": "code",
   "execution_count": 6,
   "metadata": {},
   "outputs": [],
   "source": [
    "# 1 sim 1 scan\n",
    "# 56s for 56 scans\n",
    "all_tr_scans = ['ac26ZMwG7aT',\n",
    "            'VzqfbhrpDEA',\n",
    "            'vyrNrziPKCB',\n",
    "            'mJXqzFtmKg4',\n",
    "            'Vvot9Ly1tCj',\n",
    "            'gTV8FGcVJC9',\n",
    "            '1pXnuDYAj8r',\n",
    "            'cV4RVeZvu5T',\n",
    "            'p5wJjkQkbXX',\n",
    "            '2n8kARJN3HM',\n",
    "            'EDJbREhghzL',\n",
    "            '8WUmhLawc2A',\n",
    "            'SN83YJsR3w2',\n",
    "            'JmbYfDe2QKZ',\n",
    "            '759xd9YjKW5',\n",
    "            'uNb9QFRL6hY',\n",
    "            'JeFG25nYj2p',\n",
    "            'qoiz87JEwZ2',\n",
    "            'PX4nDJXEHrG',\n",
    "            'D7N2EKCX4Sj',\n",
    "            'aayBHfsNo7d',\n",
    "            'b8cTxDM8gDG',\n",
    "            '82sE5b5pLXE',\n",
    "            '5LpN3gDmAk7',\n",
    "            '1LXtFkjw3qL',\n",
    "            'kEZ7cmS4wCh',\n",
    "            'ULsKaCPVFJR',\n",
    "            'ZMojNkEp431',\n",
    "            'e9zR4mvMWw7',\n",
    "            'VFuaQ6m2Qom',\n",
    "            'rPc6DW4iMge',\n",
    "            'S9hNv5qa7GM',\n",
    "            '5q7pvUzZiYa',\n",
    "            'pRbA3pwrgk9',\n",
    "            'E9uDoFAP3SH',\n",
    "            '17DRP5sb8fy',\n",
    "            'XcA2TqTSSAj',\n",
    "            'i5noydFURQK',\n",
    "            '7y3sRwLe3Va',\n",
    "            'sT4fr6TAbpF',\n",
    "            'r47D5H71a5s',\n",
    "            'jh4fc5c5qoQ',\n",
    "            'r1Q1Z4BcV1o',\n",
    "            'Uxmj2M2itWa',\n",
    "            'VVfe2KiqLaN',\n",
    "            'ur6pFq6Qu1A',\n",
    "            'B6ByNegPMKs',\n",
    "            'JF19kD82Mey',\n",
    "            'sKLMLpTHeUy',\n",
    "            '29hnd4uzFmX',\n",
    "            'HxpKQynjfin',\n",
    "            'V2XKFyX4ASd',\n",
    "            'VLzqgDo317F',\n",
    "            's8pcmisQ38h',\n",
    "            'GdvgFV5R1Z5',\n",
    "            'Pm6F8kyY3z2']"
   ]
  },
  {
   "cell_type": "code",
   "execution_count": 4,
   "metadata": {},
   "outputs": [],
   "source": [
    "import sys\n",
    "\n",
    "def get_size(obj, seen=None):\n",
    "    \"\"\"Recursively finds size of objects\"\"\"\n",
    "    size = sys.getsizeof(obj)\n",
    "    if seen is None:\n",
    "        seen = set()\n",
    "    obj_id = id(obj)\n",
    "    if obj_id in seen:\n",
    "        return 0\n",
    "    # Important mark as seen *before* entering recursion to gracefully handle\n",
    "    # self-referential objects\n",
    "    seen.add(obj_id)\n",
    "    if isinstance(obj, dict):\n",
    "        size += sum([get_size(v, seen) for v in obj.values()])\n",
    "        size += sum([get_size(k, seen) for k in obj.keys()])\n",
    "    elif hasattr(obj, '__dict__'):\n",
    "        size += get_size(obj.__dict__, seen)\n",
    "    elif hasattr(obj, '__iter__') and not isinstance(obj, (str, bytes, bytearray)):\n",
    "        size += sum([get_size(i, seen) for i in obj])\n",
    "    return size"
   ]
  },
  {
   "cell_type": "code",
   "execution_count": null,
   "metadata": {},
   "outputs": [],
   "source": []
  }
 ],
 "metadata": {
  "kernelspec": {
   "display_name": "Python [conda env:py35]",
   "language": "python",
   "name": "conda-env-py35-py"
  },
  "language_info": {
   "codemirror_mode": {
    "name": "ipython",
    "version": 3
   },
   "file_extension": ".py",
   "mimetype": "text/x-python",
   "name": "python",
   "nbconvert_exporter": "python",
   "pygments_lexer": "ipython3",
   "version": "3.5.5"
  }
 },
 "nbformat": 4,
 "nbformat_minor": 2
}
