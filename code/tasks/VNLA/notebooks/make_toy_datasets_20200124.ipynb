{
 "cells": [
  {
   "cell_type": "code",
   "execution_count": 1,
   "metadata": {},
   "outputs": [],
   "source": [
    "import json\n",
    "import numpy as np\n",
    "from functools import partial\n",
    "from collections import Counter"
   ]
  },
  {
   "cell_type": "code",
   "execution_count": 35,
   "metadata": {},
   "outputs": [
    {
     "data": {
      "text/plain": [
       "94798"
      ]
     },
     "execution_count": 35,
     "metadata": {},
     "output_type": "execute_result"
    }
   ],
   "source": [
    "with open(\"/home/hoyeung/blob_matterport3d/asknav/asknav_train_original.json\") as f:\n",
    "    full_tr_data = json.load(f)\n",
    "len(full_tr_data)"
   ]
  },
  {
   "cell_type": "code",
   "execution_count": 37,
   "metadata": {},
   "outputs": [
    {
     "data": {
      "text/plain": [
       "4874"
      ]
     },
     "execution_count": 37,
     "metadata": {},
     "output_type": "execute_result"
    }
   ],
   "source": [
    "with open(\"/home/hoyeung/blob_matterport3d/asknav/asknav_val_seen_original.json\") as f:\n",
    "    full_val_seen_data = json.load(f)\n",
    "len(full_val_seen_data)"
   ]
  },
  {
   "cell_type": "code",
   "execution_count": 38,
   "metadata": {},
   "outputs": [
    {
     "data": {
      "text/plain": [
       "5005"
      ]
     },
     "execution_count": 38,
     "metadata": {},
     "output_type": "execute_result"
    }
   ],
   "source": [
    "with open(\"/home/hoyeung/blob_matterport3d/asknav/asknav_val_unseen_original.json\") as f:\n",
    "    full_val_unseen_data = json.load(f)\n",
    "len(full_val_unseen_data)   "
   ]
  },
  {
   "cell_type": "code",
   "execution_count": 103,
   "metadata": {},
   "outputs": [],
   "source": [
    "# Figure 9 number of actions 5-9\n",
    "def filter_action_lens(low, high, d):\n",
    "    mean_path_len = np.mean([len(path) for path in d['paths']])\n",
    "    if low <= mean_path_len and high >= mean_path_len:\n",
    "        return True\n",
    "    else:\n",
    "        return False\n",
    "\n",
    "filter_5_9 = partial(filter_action_lens, 5, 9)\n",
    "\n",
    "# -------------------------------------------------------\n",
    "# Figure 5 start rooms\n",
    "def filter_start_room(start_rm_list, d):\n",
    "    if d['start_region_name'] in start_rm_list:\n",
    "        return True\n",
    "    else:\n",
    "        return False\n",
    "    \n",
    "filter_start_hallway = partial(filter_start_room, ['hallway'])\n",
    "\n",
    "# -------------------------------------------------------\n",
    "# Figure 5 goal rooms\n",
    "def filter_goal_room(goal_rm_list, d):\n",
    "    if d['end_region_name'] in goal_rm_list:\n",
    "        return True\n",
    "    else:\n",
    "        return False\n",
    "    \n",
    "filter_end_bedroom = partial(filter_goal_room, ['bedroom'])\n",
    "filter_end_bathroom = partial(filter_goal_room, ['bathroom'])\n",
    "filter_end_common = partial(filter_goal_room, ['bedroom', 'bathroom'])\n",
    "# -------------------------------------------------------\n",
    "# Figure 4 objects\n",
    "def filter_object(object_list, d):\n",
    "    if d['object_name'] in object_list:\n",
    "        return True\n",
    "    else:\n",
    "        return False\n",
    "    \n",
    "filter_picture = partial(filter_object, ['picture'])\n",
    "filter_mirror = partial(filter_object, ['mirror'])\n",
    "filter_pillow = partial(filter_object, ['pillow'])\n",
    "filter_picture_mirror_pillow = partial(filter_object, ['mirror', 'picture', 'pillow'])\n",
    "# -------------------------------------------------------\n",
    "# Language instruction\n",
    "def filter_instruction(instr_str_list, d):\n",
    "    for instr_str in instr_str_list:\n",
    "        if instr_str in d['instructions'][0]:\n",
    "            return True\n",
    "    return False\n",
    "\n",
    "filter_instruction_most_common =  partial(filter_instruction, ['find a sink in the kitchen'])\n",
    "\n",
    "filter_instruction_most_common_sets =  partial(filter_instruction, ['find a sink in the kitchen', \n",
    "                                                                    'find a refrigerator in the kitchen', \n",
    "                                                                    'find a picture in the living room' ])\n",
    "\n",
    "# top 10 most common instructions with traj length between 5-9 steps\n",
    "filter_instruction_most_common_sets_top_10 =  partial(filter_instruction, ['find a sink in the kitchen', \n",
    "                                                                      'find a refrigerator in the kitchen', \n",
    "                                                                      'find a picture in the living room',\n",
    "                                                                      'find a couch in the living room',\n",
    "                                                                      'find a table in the living room',\n",
    "                                                                      'find a mirror in one of the bedrooms',\n",
    "                                                                      'find a nightstand in one of the bedrooms',\n",
    "                                                                      'find a stove in the kitchen',\n",
    "                                                                      'find a chair in one of the bedrooms',\n",
    "                                                                      'find a kitchen counter in the kitchen'\n",
    "                                                                     ])\n",
    "\n",
    "# top 30 most common instructions with traj length between 5-9 steps\n",
    "filter_instruction_most_common_sets_top_30 =  partial(filter_instruction, [ 'find a sink in the kitchen .',\n",
    "                                                                            'find a refrigerator in the kitchen .',\n",
    "                                                                            'find a picture in the living room .',\n",
    "                                                                            'find a couch in the living room .',\n",
    "                                                                            'find a table in the living room .',\n",
    "                                                                            'find a mirror in one of the bedrooms .',\n",
    "                                                                            'find a nightstand in one of the bedrooms .',\n",
    "                                                                            'find a stove in the kitchen .',\n",
    "                                                                            'find a chair in one of the bedrooms .',\n",
    "                                                                            'find a kitchen counter in the kitchen .',\n",
    "                                                                            'find a plant in the living room .',\n",
    "                                                                            'find a pillow in the living room .',\n",
    "                                                                            'find a picture in one of the bedrooms .',\n",
    "                                                                            'find a coffee table in the living room .',\n",
    "                                                                            'find a lamp in one of the bedrooms .',\n",
    "                                                                            'find an oven in the kitchen .',\n",
    "                                                                            'find a toilet in one of the bathrooms .',\n",
    "                                                                            'find a picture in the office .',\n",
    "                                                                            'find a sink in one of the bathrooms .',\n",
    "                                                                            'find a washing machine in the laundryroom or mudroom .',\n",
    "                                                                            'find a chair in the office .',\n",
    "                                                                            'find a bathtub in one of the bathrooms .',\n",
    "                                                                            'find a table in one of the hallways .',\n",
    "                                                                            'find a chair in the kitchen .',\n",
    "                                                                            'find a curtain in the living room .',\n",
    "                                                                            'find a trash can in one of the bathrooms .',\n",
    "                                                                            'find a wash basin in one of the bathrooms .',\n",
    "                                                                            'find a tv in the familyroom .',\n",
    "                                                                            'find a fireplace in the living room .',\n",
    "                                                                            'find a table in the dining room .'])\n",
    "# -------------------------------------------------------"
   ]
  },
  {
   "cell_type": "markdown",
   "metadata": {},
   "source": [
    "## What are the instructions for short trajectories?"
   ]
  },
  {
   "cell_type": "code",
   "execution_count": 85,
   "metadata": {},
   "outputs": [
    {
     "name": "stdout",
     "output_type": "stream",
     "text": [
      "49503\n",
      "1435\n"
     ]
    },
    {
     "data": {
      "text/plain": [
       "[('find a sink in the kitchen .', 372),\n",
       " ('find a refrigerator in the kitchen .', 369),\n",
       " ('find a picture in the living room .', 337),\n",
       " ('find a couch in the living room .', 324),\n",
       " ('find a table in the living room .', 317),\n",
       " ('find a mirror in one of the bedrooms .', 310),\n",
       " ('find a nightstand in one of the bedrooms .', 293),\n",
       " ('find a stove in the kitchen .', 281),\n",
       " ('find a chair in one of the bedrooms .', 279),\n",
       " ('find a kitchen counter in the kitchen .', 278),\n",
       " ('find a plant in the living room .', 276),\n",
       " ('find a pillow in the living room .', 270),\n",
       " ('find a picture in one of the bedrooms .', 267),\n",
       " ('find a coffee table in the living room .', 266),\n",
       " ('find a lamp in one of the bedrooms .', 265),\n",
       " ('find an oven in the kitchen .', 263),\n",
       " ('find a toilet in one of the bathrooms .', 258),\n",
       " ('find a picture in the office .', 251),\n",
       " ('find a sink in one of the bathrooms .', 239),\n",
       " ('find a washing machine in the laundryroom or mudroom .', 239),\n",
       " ('find a chair in the office .', 235),\n",
       " ('find a bathtub in one of the bathrooms .', 233),\n",
       " ('find a table in one of the hallways .', 229),\n",
       " ('find a chair in the kitchen .', 226),\n",
       " ('find a curtain in the living room .', 218),\n",
       " ('find a trash can in one of the bathrooms .', 214),\n",
       " ('find a wash basin in one of the bathrooms .', 214),\n",
       " ('find a tv in the familyroom .', 212),\n",
       " ('find a fireplace in the living room .', 211),\n",
       " ('find a table in the dining room .', 208)]"
      ]
     },
     "execution_count": 85,
     "metadata": {},
     "output_type": "execute_result"
    }
   ],
   "source": [
    "# 5-9\n",
    "data_short = list(filter(filter_5_9, full_tr_data))\n",
    "\n",
    "print (len(data_short))\n",
    "\n",
    "instr_set_short = set()\n",
    "instr_list_short = []\n",
    "for d in data_short:\n",
    "    instr_set_short.add(d['instructions'][0])\n",
    "    instr_list_short.append(d['instructions'][0])\n",
    "\n",
    "print (len(instr_set_short))\n",
    "\n",
    "counter = Counter(instr_list_short).most_common(30)\n",
    "counter"
   ]
  },
  {
   "cell_type": "code",
   "execution_count": 87,
   "metadata": {},
   "outputs": [
    {
     "data": {
      "text/plain": [
       "7954"
      ]
     },
     "execution_count": 87,
     "metadata": {},
     "output_type": "execute_result"
    }
   ],
   "source": [
    "sum([t[1] for t in counter])"
   ]
  },
  {
   "cell_type": "markdown",
   "metadata": {},
   "source": [
    "## data 100 - small_three_houses_single_goal_short (training same as val)"
   ]
  },
  {
   "cell_type": "code",
   "execution_count": 21,
   "metadata": {},
   "outputs": [],
   "source": [
    "def filter_data_100(d):\n",
    "    if filter_instruction_most_common(d) and filter_5_9(d):\n",
    "        return True\n",
    "    else:\n",
    "        return False "
   ]
  },
  {
   "cell_type": "code",
   "execution_count": 28,
   "metadata": {},
   "outputs": [
    {
     "data": {
      "text/plain": [
       "372"
      ]
     },
     "execution_count": 28,
     "metadata": {},
     "output_type": "execute_result"
    }
   ],
   "source": [
    "# 5-9, 'find a sink in the kitchen '\n",
    "data_100 = [full_tr_data[idx] for idx in range(len(full_tr_data)) if filter_data_100(full_tr_data[idx])]\n",
    "len(data_100)"
   ]
  },
  {
   "cell_type": "code",
   "execution_count": 29,
   "metadata": {},
   "outputs": [
    {
     "data": {
      "text/plain": [
       "101"
      ]
     },
     "execution_count": 29,
     "metadata": {},
     "output_type": "execute_result"
    }
   ],
   "source": [
    "#  ('ac26ZMwG7aT', 38),\n",
    "#  ('8WUmhLawc2A', 37),\n",
    "#  ('cV4RVeZvu5T', 26)\n",
    "#  3 houses, 5-9, 'find a sink in the kitchen '\n",
    "data_100 = [d for d in data_100 if d['scan'] in ['ac26ZMwG7aT', '8WUmhLawc2A', 'cV4RVeZvu5T']]\n",
    "len(data_100)"
   ]
  },
  {
   "cell_type": "code",
   "execution_count": 30,
   "metadata": {},
   "outputs": [
    {
     "data": {
      "text/plain": [
       "100"
      ]
     },
     "execution_count": 30,
     "metadata": {},
     "output_type": "execute_result"
    }
   ],
   "source": [
    "data_100 = [d for d in data_100 if 156450 != d['path_id']]\n",
    "len(data_100)"
   ]
  },
  {
   "cell_type": "code",
   "execution_count": 51,
   "metadata": {},
   "outputs": [
    {
     "data": {
      "text/plain": [
       "3"
      ]
     },
     "execution_count": 51,
     "metadata": {},
     "output_type": "execute_result"
    }
   ],
   "source": [
    "data_100_scans = [d['scan'] for d in data_100]\n",
    "len(set(data_100_scans))"
   ]
  },
  {
   "cell_type": "code",
   "execution_count": null,
   "metadata": {},
   "outputs": [],
   "source": [
    "with open(\"/home/hoyeung/blob_matterport3d/asknav/asknav_train_small_three_houses_single_goal_short.json\", \"w\") as f:\n",
    "    json.dump(data_100, f)"
   ]
  },
  {
   "cell_type": "markdown",
   "metadata": {},
   "source": [
    "## data 1078 - small_three_goals_short -- training"
   ]
  },
  {
   "cell_type": "code",
   "execution_count": 31,
   "metadata": {},
   "outputs": [],
   "source": [
    "def filter_data_1078(d):\n",
    "    if filter_instruction_most_common_sets(d) and filter_5_9(d):\n",
    "        return True\n",
    "    else:\n",
    "        return False  "
   ]
  },
  {
   "cell_type": "code",
   "execution_count": 59,
   "metadata": {},
   "outputs": [
    {
     "name": "stdout",
     "output_type": "stream",
     "text": [
      "Data length =  1078\n",
      "Number of unique houses =  31\n"
     ]
    }
   ],
   "source": [
    "# any scans, length 5-9, \n",
    "# 'find a sink in the kitchen', 'find a refrigerator in the kitchen', 'find a picture in the living room'\n",
    "data_1078 = [full_tr_data[idx] for idx in range(len(full_tr_data)) if filter_data_1078(full_tr_data[idx])]\n",
    "print (\"Data length = \", len(data_1078))\n",
    "\n",
    "data_1078_scans = [d['scan'] for d in data_1078]\n",
    "print (\"Number of unique houses = \", len(set(data_1078_scans)))"
   ]
  },
  {
   "cell_type": "code",
   "execution_count": 156,
   "metadata": {},
   "outputs": [],
   "source": [
    "with open(\"/home/hoyeung/blob_matterport3d/asknav/asknav_train_small_three_goals_short.json\", \"w\") as f:\n",
    "    json.dump(data_1078, f)"
   ]
  },
  {
   "cell_type": "code",
   "execution_count": 157,
   "metadata": {},
   "outputs": [],
   "source": [
    "with open(\"/home/hoyeung/blob_matterport3d/asknav/asknav_val_seen_small_three_goals_short.json\", \"w\") as f:\n",
    "    json.dump(data_1078, f)"
   ]
  },
  {
   "cell_type": "code",
   "execution_count": 158,
   "metadata": {},
   "outputs": [],
   "source": [
    "with open(\"/home/hoyeung/blob_matterport3d/asknav/asknav_val_unseen_small_three_goals_short.json\", \"w\") as f:\n",
    "    json.dump(data_1078, f)"
   ]
  },
  {
   "cell_type": "markdown",
   "metadata": {},
   "source": [
    "## data 1078 - small_three_goals_short -- val (less than 1078)"
   ]
  },
  {
   "cell_type": "code",
   "execution_count": 115,
   "metadata": {},
   "outputs": [],
   "source": [
    "def filter_data_1078_val(d, scans):\n",
    "    if filter_instruction_most_common_sets(d) and filter_5_9(d) and (d['scan'] in scans):\n",
    "        return True\n",
    "    else:\n",
    "        return False  "
   ]
  },
  {
   "cell_type": "code",
   "execution_count": 73,
   "metadata": {},
   "outputs": [
    {
     "name": "stdout",
     "output_type": "stream",
     "text": [
      "Data length =  42\n",
      "Number of unique houses =  7\n"
     ]
    }
   ],
   "source": [
    "data_1078_val_seen = [full_val_seen_data[idx] for idx in range(len(full_val_seen_data)) if filter_data_1078_val(full_val_seen_data[idx], data_1078_scans)]\n",
    "print (\"Data length = \", len(data_1078_val_seen))\n",
    "\n",
    "data_1078_val_seen_scans = [d['scan'] for d in data_1078_val_seen]\n",
    "print (\"Number of unique houses = \", len(set(data_1078_val_seen_scans)))"
   ]
  },
  {
   "cell_type": "code",
   "execution_count": 76,
   "metadata": {},
   "outputs": [
    {
     "name": "stdout",
     "output_type": "stream",
     "text": [
      "Data length =  60\n",
      "Number of unique houses =  5\n"
     ]
    }
   ],
   "source": [
    "data_1078_val_unseen = [full_val_unseen_data[idx] for idx in range(len(full_val_unseen_data)) if filter_data_1078(full_val_unseen_data[idx])]\n",
    "print (\"Data length = \", len(data_1078_val_unseen))\n",
    "\n",
    "data_1078_val_unseen_scans = [d['scan'] for d in data_1078_val_unseen]\n",
    "print (\"Number of unique houses = \", len(set(data_1078_val_unseen_scans)))"
   ]
  },
  {
   "cell_type": "markdown",
   "metadata": {},
   "source": [
    "## data 1862 - small_three_goals_anylength -- training"
   ]
  },
  {
   "cell_type": "code",
   "execution_count": 114,
   "metadata": {},
   "outputs": [
    {
     "name": "stdout",
     "output_type": "stream",
     "text": [
      "Data length =  1862\n",
      "Number of unique houses =  31\n"
     ]
    }
   ],
   "source": [
    "# any length\n",
    "# 'find a sink in the kitchen', 'find a refrigerator in the kitchen', 'find a picture in the living room'\n",
    "data_1862 = [full_tr_data[idx] for idx in range(len(full_tr_data)) if filter_instruction_most_common_sets(full_tr_data[idx])]\n",
    "print (\"Data length = \", len(data_1862))\n",
    "\n",
    "data_1862_scans = [d['scan'] for d in data_1862]\n",
    "print (\"Number of unique houses = \", len(set(data_1862_scans)))"
   ]
  },
  {
   "cell_type": "code",
   "execution_count": 132,
   "metadata": {},
   "outputs": [],
   "source": [
    "with open(\"/home/hoyeung/blob_matterport3d/asknav/asknav_train_small_three_goals_anylength.json\", \"w\") as f:\n",
    "    json.dump(data_1862, f)"
   ]
  },
  {
   "cell_type": "markdown",
   "metadata": {},
   "source": [
    "## data 1862 - small_three_goals_anylength -- val (less than 1078)"
   ]
  },
  {
   "cell_type": "code",
   "execution_count": 119,
   "metadata": {},
   "outputs": [],
   "source": [
    "def filter_data_1862_val(d, scans):\n",
    "    if filter_instruction_most_common_sets(d) and (d['scan'] in scans):\n",
    "        return True\n",
    "    else:\n",
    "        return False  "
   ]
  },
  {
   "cell_type": "code",
   "execution_count": 120,
   "metadata": {},
   "outputs": [
    {
     "name": "stdout",
     "output_type": "stream",
     "text": [
      "Data length =  70\n",
      "Number of unique houses =  7\n"
     ]
    }
   ],
   "source": [
    "data_1862_val_seen = [full_val_seen_data[idx] for idx in range(len(full_val_seen_data)) if filter_data_1862_val(full_val_seen_data[idx], data_1862_scans)]\n",
    "print (\"Data length = \", len(data_1862_val_seen))\n",
    "\n",
    "data_1862_val_seen_scans = [d['scan'] for d in data_1862_val_seen]\n",
    "print (\"Number of unique houses = \", len(set(data_1862_val_seen_scans)))"
   ]
  },
  {
   "cell_type": "code",
   "execution_count": 133,
   "metadata": {},
   "outputs": [],
   "source": [
    "with open(\"/home/hoyeung/blob_matterport3d/asknav/asknav_val_seen_small_three_goals_anylength.json\", \"w\") as f:\n",
    "    json.dump(data_1862_val_seen, f)"
   ]
  },
  {
   "cell_type": "code",
   "execution_count": 121,
   "metadata": {},
   "outputs": [
    {
     "name": "stdout",
     "output_type": "stream",
     "text": [
      "Data length =  90\n",
      "Number of unique houses =  5\n"
     ]
    }
   ],
   "source": [
    "data_1862_val_unseen = [full_val_unseen_data[idx] for idx in range(len(full_val_unseen_data)) if filter_instruction_most_common_sets(full_val_unseen_data[idx])]\n",
    "print (\"Data length = \", len(data_1862_val_unseen))\n",
    "\n",
    "data_1862_val_unseen_scans = [d['scan'] for d in data_1862_val_unseen]\n",
    "print (\"Number of unique houses = \", len(set(data_1862_val_unseen_scans)))"
   ]
  },
  {
   "cell_type": "code",
   "execution_count": 134,
   "metadata": {},
   "outputs": [],
   "source": [
    "with open(\"/home/hoyeung/blob_matterport3d/asknav/asknav_val_unseen_small_three_goals_anylength.json\", \"w\") as f:\n",
    "    json.dump(data_1862_val_unseen, f)"
   ]
  },
  {
   "cell_type": "markdown",
   "metadata": {},
   "source": [
    "## data 3160 - small_ten_goals_short -- training"
   ]
  },
  {
   "cell_type": "code",
   "execution_count": 64,
   "metadata": {},
   "outputs": [],
   "source": [
    "def filter_data_3160(d):\n",
    "    if filter_instruction_most_common_sets_top_10(d) and filter_5_9(d):\n",
    "        return True\n",
    "    else:\n",
    "        return False  "
   ]
  },
  {
   "cell_type": "code",
   "execution_count": 65,
   "metadata": {},
   "outputs": [
    {
     "name": "stdout",
     "output_type": "stream",
     "text": [
      "Data length =  3160\n",
      "Number of unique houses =  47\n"
     ]
    }
   ],
   "source": [
    "# any scans, length 5-9, \n",
    "# top 10 language instructions\n",
    "data_3160 = [full_tr_data[idx] for idx in range(len(full_tr_data)) if filter_data_3160(full_tr_data[idx])]\n",
    "print (\"Data length = \", len(data_3160))\n",
    "\n",
    "data_3160_scans = [d['scan'] for d in data_3160]\n",
    "print (\"Number of unique houses = \", len(set(data_3160_scans)))"
   ]
  },
  {
   "cell_type": "code",
   "execution_count": 135,
   "metadata": {},
   "outputs": [],
   "source": [
    "with open(\"/home/hoyeung/blob_matterport3d/asknav/asknav_train_small_ten_goals_short.json\", \"w\") as f:\n",
    "    json.dump(data_3160, f)"
   ]
  },
  {
   "cell_type": "markdown",
   "metadata": {},
   "source": [
    "## data 3160 - small_ten_goals_short -- val (less than 3160)"
   ]
  },
  {
   "cell_type": "code",
   "execution_count": 66,
   "metadata": {},
   "outputs": [],
   "source": [
    "def filter_data_3160_val(d, scans):\n",
    "    if filter_instruction_most_common_sets_top_10(d) and filter_5_9(d) and (d['scan'] in scans):\n",
    "        return True\n",
    "    else:\n",
    "        return False  "
   ]
  },
  {
   "cell_type": "code",
   "execution_count": 78,
   "metadata": {},
   "outputs": [
    {
     "name": "stdout",
     "output_type": "stream",
     "text": [
      "Data length =  149\n",
      "Number of unique houses =  20\n"
     ]
    }
   ],
   "source": [
    "data_3160_val_seen = [full_val_seen_data[idx] for idx in range(len(full_val_seen_data)) if filter_data_3160_val(full_val_seen_data[idx], data_3160_scans)]\n",
    "print (\"Data length = \", len(data_3160_val_seen))\n",
    "\n",
    "data_3160_val_seen_scans = [d['scan'] for d in data_3160_val_seen]\n",
    "print (\"Number of unique houses = \", len(set(data_3160_val_seen_scans)))"
   ]
  },
  {
   "cell_type": "code",
   "execution_count": 136,
   "metadata": {},
   "outputs": [],
   "source": [
    "with open(\"/home/hoyeung/blob_matterport3d/asknav/asknav_val_seen_small_ten_goals_short.json\", \"w\") as f:\n",
    "    json.dump(data_3160_val_seen, f)"
   ]
  },
  {
   "cell_type": "code",
   "execution_count": 80,
   "metadata": {},
   "outputs": [
    {
     "name": "stdout",
     "output_type": "stream",
     "text": [
      "Data length =  137\n",
      "Number of unique houses =  8\n"
     ]
    }
   ],
   "source": [
    "data_3160_val_unseen = [full_val_unseen_data[idx] for idx in range(len(full_val_unseen_data)) if filter_data_3160(full_val_unseen_data[idx])]\n",
    "print (\"Data length = \", len(data_3160_val_unseen))\n",
    "\n",
    "data_3160_val_unseen_scans = [d['scan'] for d in data_3160_val_unseen]\n",
    "print (\"Number of unique houses = \", len(set(data_3160_val_unseen_scans)))"
   ]
  },
  {
   "cell_type": "code",
   "execution_count": 137,
   "metadata": {},
   "outputs": [],
   "source": [
    "with open(\"/home/hoyeung/blob_matterport3d/asknav/asknav_val_unseen_small_ten_goals_short.json\", \"w\") as f:\n",
    "    json.dump(data_3160_val_unseen, f)"
   ]
  },
  {
   "cell_type": "markdown",
   "metadata": {},
   "source": [
    "## data 5775 - small_ten_goals_anylength -- training"
   ]
  },
  {
   "cell_type": "code",
   "execution_count": 123,
   "metadata": {},
   "outputs": [
    {
     "name": "stdout",
     "output_type": "stream",
     "text": [
      "Data length =  5775\n",
      "Number of unique houses =  48\n"
     ]
    }
   ],
   "source": [
    "# anylength\n",
    "# top 10 language instructions\n",
    "data_5775 = [full_tr_data[idx] for idx in range(len(full_tr_data)) if filter_instruction_most_common_sets_top_10(full_tr_data[idx])]\n",
    "print (\"Data length = \", len(data_5775))\n",
    "\n",
    "data_5775_scans = [d['scan'] for d in data_5775]\n",
    "print (\"Number of unique houses = \", len(set(data_5775_scans)))"
   ]
  },
  {
   "cell_type": "code",
   "execution_count": 138,
   "metadata": {},
   "outputs": [],
   "source": [
    "with open(\"/home/hoyeung/blob_matterport3d/asknav/asknav_train_small_ten_goals_anylength.json\", \"w\") as f:\n",
    "    json.dump(data_5775, f)"
   ]
  },
  {
   "cell_type": "markdown",
   "metadata": {},
   "source": [
    "## data 5775 - small_ten_goals_anylength -- val (less than 5775)"
   ]
  },
  {
   "cell_type": "code",
   "execution_count": 124,
   "metadata": {},
   "outputs": [],
   "source": [
    "def filter_data_5775_val(d, scans):\n",
    "    if filter_instruction_most_common_sets_top_10(d) and (d['scan'] in scans):\n",
    "        return True\n",
    "    else:\n",
    "        return False  "
   ]
  },
  {
   "cell_type": "code",
   "execution_count": 125,
   "metadata": {},
   "outputs": [
    {
     "name": "stdout",
     "output_type": "stream",
     "text": [
      "Data length =  258\n",
      "Number of unique houses =  21\n"
     ]
    }
   ],
   "source": [
    "data_5775_val_seen = [full_val_seen_data[idx] for idx in range(len(full_val_seen_data)) if filter_data_5775_val(full_val_seen_data[idx], data_5775_scans)]\n",
    "print (\"Data length = \", len(data_5775_val_seen))\n",
    "\n",
    "data_5775_val_seen_scans = [d['scan'] for d in data_5775_val_seen]\n",
    "print (\"Number of unique houses = \", len(set(data_5775_val_seen_scans)))"
   ]
  },
  {
   "cell_type": "code",
   "execution_count": 139,
   "metadata": {},
   "outputs": [],
   "source": [
    "with open(\"/home/hoyeung/blob_matterport3d/asknav/asknav_val_seen_small_ten_goals_anylength.json\", \"w\") as f:\n",
    "    json.dump(data_5775_val_seen, f)"
   ]
  },
  {
   "cell_type": "code",
   "execution_count": 126,
   "metadata": {},
   "outputs": [
    {
     "name": "stdout",
     "output_type": "stream",
     "text": [
      "Data length =  244\n",
      "Number of unique houses =  8\n"
     ]
    }
   ],
   "source": [
    "data_5775_val_unseen = [full_val_unseen_data[idx] for idx in range(len(full_val_unseen_data)) if filter_instruction_most_common_sets_top_10(full_val_unseen_data[idx])]\n",
    "print (\"Data length = \", len(data_5775_val_unseen))\n",
    "\n",
    "data_5775_val_unseen_scans = [d['scan'] for d in data_5775_val_unseen]\n",
    "print (\"Number of unique houses = \", len(set(data_5775_val_unseen_scans)))"
   ]
  },
  {
   "cell_type": "code",
   "execution_count": 140,
   "metadata": {},
   "outputs": [],
   "source": [
    "with open(\"/home/hoyeung/blob_matterport3d/asknav/asknav_val_unseen_small_ten_goals_anylength.json\", \"w\") as f:\n",
    "    json.dump(data_5775_val_unseen, f)"
   ]
  },
  {
   "cell_type": "markdown",
   "metadata": {},
   "source": [
    "## data 7954 - small_thirty_goals_short -- training"
   ]
  },
  {
   "cell_type": "code",
   "execution_count": 106,
   "metadata": {},
   "outputs": [],
   "source": [
    "def filter_data_7954(d):\n",
    "    if filter_instruction_most_common_sets_top_30(d) and filter_5_9(d):\n",
    "        return True\n",
    "    else:\n",
    "        return False   "
   ]
  },
  {
   "cell_type": "code",
   "execution_count": 107,
   "metadata": {},
   "outputs": [
    {
     "name": "stdout",
     "output_type": "stream",
     "text": [
      "Data length =  7954\n",
      "Number of unique houses =  53\n"
     ]
    }
   ],
   "source": [
    "# any scans, length 5-9, \n",
    "# 'find a sink in the kitchen', 'find a refrigerator in the kitchen', 'find a picture in the living room'\n",
    "data_7954 = [full_tr_data[idx] for idx in range(len(full_tr_data)) if filter_data_dummy(full_tr_data[idx])]\n",
    "print (\"Data length = \", len(data_7954))\n",
    "\n",
    "data_7954_scans = [d['scan'] for d in data_7954]\n",
    "print (\"Number of unique houses = \", len(set(data_7954_scans)))"
   ]
  },
  {
   "cell_type": "code",
   "execution_count": 141,
   "metadata": {},
   "outputs": [],
   "source": [
    "with open(\"/home/hoyeung/blob_matterport3d/asknav/asknav_train_small_thirty_goals_short.json\", \"w\") as f:\n",
    "    json.dump(data_7954, f)"
   ]
  },
  {
   "cell_type": "markdown",
   "metadata": {},
   "source": [
    "## data 7954 - small_thirty_goals_short -- val (less than 7954)"
   ]
  },
  {
   "cell_type": "code",
   "execution_count": 109,
   "metadata": {},
   "outputs": [],
   "source": [
    "def filter_data_7954_val(d, scans):\n",
    "    if filter_instruction_most_common_sets_top_30(d) and filter_5_9(d) and (d['scan'] in scans):\n",
    "        return True\n",
    "    else:\n",
    "        return False  "
   ]
  },
  {
   "cell_type": "code",
   "execution_count": 110,
   "metadata": {},
   "outputs": [
    {
     "name": "stdout",
     "output_type": "stream",
     "text": [
      "Data length =  380\n",
      "Number of unique houses =  36\n"
     ]
    }
   ],
   "source": [
    "data_7954_val_seen = [full_val_seen_data[idx] for idx in range(len(full_val_seen_data)) if filter_data_7954_val(full_val_seen_data[idx], data_7954_scans)]\n",
    "print (\"Data length = \", len(data_7954_val_seen))\n",
    "\n",
    "data_7954_val_seen_scans = [d['scan'] for d in data_7954_val_seen]\n",
    "print (\"Number of unique houses = \", len(set(data_7954_val_seen_scans)))"
   ]
  },
  {
   "cell_type": "code",
   "execution_count": 142,
   "metadata": {},
   "outputs": [],
   "source": [
    "with open(\"/home/hoyeung/blob_matterport3d/asknav/asknav_val_seen_small_thirty_goals_short.json\", \"w\") as f:\n",
    "    json.dump(data_7954_val_seen, f)"
   ]
  },
  {
   "cell_type": "code",
   "execution_count": 111,
   "metadata": {},
   "outputs": [
    {
     "name": "stdout",
     "output_type": "stream",
     "text": [
      "Data length =  365\n",
      "Number of unique houses =  9\n"
     ]
    }
   ],
   "source": [
    "data_7954_val_unseen = [full_val_unseen_data[idx] for idx in range(len(full_val_unseen_data)) if filter_data_7954(full_val_unseen_data[idx])]\n",
    "print (\"Data length = \", len(data_7954_val_unseen))\n",
    "\n",
    "data_7954_val_unseen_scans = [d['scan'] for d in data_7954_val_unseen]\n",
    "print (\"Number of unique houses = \", len(set(data_7954_val_unseen_scans)))"
   ]
  },
  {
   "cell_type": "code",
   "execution_count": 143,
   "metadata": {},
   "outputs": [],
   "source": [
    "with open(\"/home/hoyeung/blob_matterport3d/asknav/asknav_val_unseen_small_thirty_goals_short.json\", \"w\") as f:\n",
    "    json.dump(data_7954_val_unseen, f)"
   ]
  },
  {
   "cell_type": "markdown",
   "metadata": {},
   "source": [
    "## data 14413 - small_thirty_goals_anylength -- training"
   ]
  },
  {
   "cell_type": "code",
   "execution_count": 128,
   "metadata": {
    "scrolled": true
   },
   "outputs": [
    {
     "name": "stdout",
     "output_type": "stream",
     "text": [
      "Data length =  14413\n",
      "Number of unique houses =  53\n"
     ]
    }
   ],
   "source": [
    "# anylength\n",
    "# top 30 language instructions\n",
    "data_14413 = [full_tr_data[idx] for idx in range(len(full_tr_data)) if filter_instruction_most_common_sets_top_30(full_tr_data[idx])]\n",
    "print (\"Data length = \", len(data_14413))\n",
    "\n",
    "data_14413_scans = [d['scan'] for d in data_14413]\n",
    "print (\"Number of unique houses = \", len(set(data_14413_scans)))"
   ]
  },
  {
   "cell_type": "code",
   "execution_count": 144,
   "metadata": {},
   "outputs": [],
   "source": [
    "with open(\"/home/hoyeung/blob_matterport3d/asknav/asknav_train_small_thirty_goals_anylength.json\", \"w\") as f:\n",
    "    json.dump(data_14413, f)"
   ]
  },
  {
   "cell_type": "markdown",
   "metadata": {},
   "source": [
    "## data 14413 - small_thirty_goals_anylength -- val (less than 14413)"
   ]
  },
  {
   "cell_type": "code",
   "execution_count": 129,
   "metadata": {},
   "outputs": [],
   "source": [
    "def filter_data_14413_val(d, scans):\n",
    "    if filter_instruction_most_common_sets_top_30(d) and (d['scan'] in scans):\n",
    "        return True\n",
    "    else:\n",
    "        return False  "
   ]
  },
  {
   "cell_type": "code",
   "execution_count": 130,
   "metadata": {},
   "outputs": [
    {
     "name": "stdout",
     "output_type": "stream",
     "text": [
      "Data length =  688\n",
      "Number of unique houses =  36\n"
     ]
    }
   ],
   "source": [
    "data_14413_val_seen = [full_val_seen_data[idx] for idx in range(len(full_val_seen_data)) if filter_data_14413_val(full_val_seen_data[idx], data_14413_scans)]\n",
    "print (\"Data length = \", len(data_14413_val_seen))\n",
    "\n",
    "data_14413_val_seen_scans = [d['scan'] for d in data_14413_val_seen]\n",
    "print (\"Number of unique houses = \", len(set(data_14413_val_seen_scans)))"
   ]
  },
  {
   "cell_type": "code",
   "execution_count": 145,
   "metadata": {},
   "outputs": [],
   "source": [
    "with open(\"/home/hoyeung/blob_matterport3d/asknav/asknav_val_seen_small_thirty_goals_anylength.json\", \"w\") as f:\n",
    "    json.dump(data_14413_val_seen, f)"
   ]
  },
  {
   "cell_type": "code",
   "execution_count": 131,
   "metadata": {},
   "outputs": [
    {
     "name": "stdout",
     "output_type": "stream",
     "text": [
      "Data length =  631\n",
      "Number of unique houses =  9\n"
     ]
    }
   ],
   "source": [
    "data_14413_val_unseen = [full_val_unseen_data[idx] for idx in range(len(full_val_unseen_data)) if filter_instruction_most_common_sets_top_30(full_val_unseen_data[idx])]\n",
    "print (\"Data length = \", len(data_14413_val_unseen))\n",
    "\n",
    "data_14413_val_unseen_scans = [d['scan'] for d in data_14413_val_unseen]\n",
    "print (\"Number of unique houses = \", len(set(data_14413_val_unseen_scans)))"
   ]
  },
  {
   "cell_type": "code",
   "execution_count": 146,
   "metadata": {},
   "outputs": [],
   "source": [
    "with open(\"/home/hoyeung/blob_matterport3d/asknav/asknav_val_unseen_small_thirty_goals_anylength.json\", \"w\") as f:\n",
    "    json.dump(data_14413_val_unseen, f)"
   ]
  },
  {
   "cell_type": "markdown",
   "metadata": {},
   "source": [
    "## Philly run yaml template"
   ]
  },
  {
   "cell_type": "code",
   "execution_count": 155,
   "metadata": {},
   "outputs": [
    {
     "name": "stdout",
     "output_type": "stream",
     "text": [
      "\n",
      "- name: data_1078_seed_42\n",
      "  sku: G1\n",
      "  command:\n",
      "  - cd tasks/VNLA/scripts/ && bash train_experiments.sh \"20200126_philly_aggrevate_seeds\" \"data_1078_seed_42\" \"configs/experiment.json\" -batch_size 100 -start_beta_decay 100 -decay_beta_every 100 -min_history_to_learn 1000 -save_every 1000 -log_every 1000 -plot_to_philly 0 -data_suffix small_three_goals_short -dropout_ratio 0.5 -agent_end_criteria 2.5 -n_iters 50000 -seed 42\n",
      "  \n",
      "\n",
      "- name: data_1078_seed_677\n",
      "  sku: G1\n",
      "  command:\n",
      "  - cd tasks/VNLA/scripts/ && bash train_experiments.sh \"20200126_philly_aggrevate_seeds\" \"data_1078_seed_677\" \"configs/experiment.json\" -batch_size 100 -start_beta_decay 100 -decay_beta_every 100 -min_history_to_learn 1000 -save_every 1000 -log_every 1000 -plot_to_philly 0 -data_suffix small_three_goals_short -dropout_ratio 0.5 -agent_end_criteria 2.5 -n_iters 50000 -seed 677\n",
      "  \n",
      "\n",
      "- name: data_1078_seed_848\n",
      "  sku: G1\n",
      "  command:\n",
      "  - cd tasks/VNLA/scripts/ && bash train_experiments.sh \"20200126_philly_aggrevate_seeds\" \"data_1078_seed_848\" \"configs/experiment.json\" -batch_size 100 -start_beta_decay 100 -decay_beta_every 100 -min_history_to_learn 1000 -save_every 1000 -log_every 1000 -plot_to_philly 0 -data_suffix small_three_goals_short -dropout_ratio 0.5 -agent_end_criteria 2.5 -n_iters 50000 -seed 848\n",
      "  \n",
      "\n",
      "- name: data_1078_seed_163\n",
      "  sku: G1\n",
      "  command:\n",
      "  - cd tasks/VNLA/scripts/ && bash train_experiments.sh \"20200126_philly_aggrevate_seeds\" \"data_1078_seed_163\" \"configs/experiment.json\" -batch_size 100 -start_beta_decay 100 -decay_beta_every 100 -min_history_to_learn 1000 -save_every 1000 -log_every 1000 -plot_to_philly 0 -data_suffix small_three_goals_short -dropout_ratio 0.5 -agent_end_criteria 2.5 -n_iters 50000 -seed 163\n",
      "  \n",
      "\n",
      "- name: data_1078_seed_620\n",
      "  sku: G1\n",
      "  command:\n",
      "  - cd tasks/VNLA/scripts/ && bash train_experiments.sh \"20200126_philly_aggrevate_seeds\" \"data_1078_seed_620\" \"configs/experiment.json\" -batch_size 100 -start_beta_decay 100 -decay_beta_every 100 -min_history_to_learn 1000 -save_every 1000 -log_every 1000 -plot_to_philly 0 -data_suffix small_three_goals_short -dropout_ratio 0.5 -agent_end_criteria 2.5 -n_iters 50000 -seed 620\n",
      "  \n",
      "\n",
      "- name: data_1078_seed_511\n",
      "  sku: G1\n",
      "  command:\n",
      "  - cd tasks/VNLA/scripts/ && bash train_experiments.sh \"20200126_philly_aggrevate_seeds\" \"data_1078_seed_511\" \"configs/experiment.json\" -batch_size 100 -start_beta_decay 100 -decay_beta_every 100 -min_history_to_learn 1000 -save_every 1000 -log_every 1000 -plot_to_philly 0 -data_suffix small_three_goals_short -dropout_ratio 0.5 -agent_end_criteria 2.5 -n_iters 50000 -seed 511\n",
      "  \n",
      "\n",
      "- name: data_1078_seed_102\n",
      "  sku: G1\n",
      "  command:\n",
      "  - cd tasks/VNLA/scripts/ && bash train_experiments.sh \"20200126_philly_aggrevate_seeds\" \"data_1078_seed_102\" \"configs/experiment.json\" -batch_size 100 -start_beta_decay 100 -decay_beta_every 100 -min_history_to_learn 1000 -save_every 1000 -log_every 1000 -plot_to_philly 0 -data_suffix small_three_goals_short -dropout_ratio 0.5 -agent_end_criteria 2.5 -n_iters 50000 -seed 102\n",
      "  \n",
      "\n",
      "- name: data_1078_seed_158\n",
      "  sku: G1\n",
      "  command:\n",
      "  - cd tasks/VNLA/scripts/ && bash train_experiments.sh \"20200126_philly_aggrevate_seeds\" \"data_1078_seed_158\" \"configs/experiment.json\" -batch_size 100 -start_beta_decay 100 -decay_beta_every 100 -min_history_to_learn 1000 -save_every 1000 -log_every 1000 -plot_to_philly 0 -data_suffix small_three_goals_short -dropout_ratio 0.5 -agent_end_criteria 2.5 -n_iters 50000 -seed 158\n",
      "  \n",
      "\n",
      "- name: data_1078_seed_2\n",
      "  sku: G1\n",
      "  command:\n",
      "  - cd tasks/VNLA/scripts/ && bash train_experiments.sh \"20200126_philly_aggrevate_seeds\" \"data_1078_seed_2\" \"configs/experiment.json\" -batch_size 100 -start_beta_decay 100 -decay_beta_every 100 -min_history_to_learn 1000 -save_every 1000 -log_every 1000 -plot_to_philly 0 -data_suffix small_three_goals_short -dropout_ratio 0.5 -agent_end_criteria 2.5 -n_iters 50000 -seed 2\n",
      "  \n",
      "\n",
      "- name: data_1078_seed_204\n",
      "  sku: G1\n",
      "  command:\n",
      "  - cd tasks/VNLA/scripts/ && bash train_experiments.sh \"20200126_philly_aggrevate_seeds\" \"data_1078_seed_204\" \"configs/experiment.json\" -batch_size 100 -start_beta_decay 100 -decay_beta_every 100 -min_history_to_learn 1000 -save_every 1000 -log_every 1000 -plot_to_philly 0 -data_suffix small_three_goals_short -dropout_ratio 0.5 -agent_end_criteria 2.5 -n_iters 50000 -seed 204\n",
      "  \n"
     ]
    }
   ],
   "source": [
    "seeds_10 = [42, 677, 848, 163, 620, 511, 102, 158, 2, 204]\n",
    "seeds_20 = [677, 848, 163, 620, 511, 102, 158, 2, 204, 471, 154, 220, 748, 623,  47, 882, 136, 315,  48]\n",
    "\n",
    "# exper_name = \"20200126_philly_aggrevate_seeds\"\n",
    "# size = 3160\n",
    "# data_suffix = \"small_ten_goals_short\"\n",
    "# seeds = seeds_10\n",
    "\n",
    "exper_name = \"20200126_philly_aggrevate_seeds\"\n",
    "size = 1078\n",
    "data_suffix = \"small_three_goals_short\"\n",
    "seeds = seeds_10\n",
    "\n",
    "for num in seeds:\n",
    "    text = \"\"\"\n",
    "- name: data_{size}_seed_{num}\n",
    "  sku: G1\n",
    "  command:\n",
    "  - cd tasks/VNLA/scripts/ && bash train_experiments.sh \"{exper_name}\" \"data_{size}_seed_{num}\" \"configs/experiment.json\" -batch_size 100 -start_beta_decay 100 -decay_beta_every 100 -min_history_to_learn 1000 -save_every 1000 -log_every 1000 -plot_to_philly 0 -data_suffix {data_suffix} -dropout_ratio 0.5 -agent_end_criteria 2.5 -n_iters 50000 -seed {num}\n",
    "  \"\"\".format(size=size, num=num, data_suffix=data_suffix, exper_name=exper_name)\n",
    "    print(text)"
   ]
  },
  {
   "cell_type": "code",
   "execution_count": null,
   "metadata": {},
   "outputs": [],
   "source": []
  }
 ],
 "metadata": {
  "kernelspec": {
   "display_name": "Python [conda env:py35]",
   "language": "python",
   "name": "conda-env-py35-py"
  },
  "language_info": {
   "codemirror_mode": {
    "name": "ipython",
    "version": 3
   },
   "file_extension": ".py",
   "mimetype": "text/x-python",
   "name": "python",
   "nbconvert_exporter": "python",
   "pygments_lexer": "ipython3",
   "version": "3.5.5"
  }
 },
 "nbformat": 4,
 "nbformat_minor": 2
}
