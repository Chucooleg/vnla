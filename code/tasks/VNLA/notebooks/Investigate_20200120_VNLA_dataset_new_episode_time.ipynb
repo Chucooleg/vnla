{
 "cells": [
  {
   "cell_type": "code",
   "execution_count": 260,
   "metadata": {},
   "outputs": [],
   "source": [
    "from importlib import reload\n",
    "import json\n",
    "import numpy as np\n",
    "import time\n",
    "from env import VNLAExplorationBatch\n",
    "import os\n",
    "from collections import defaultdict\n",
    "import utils\n",
    "import math"
   ]
  },
  {
   "cell_type": "raw",
   "metadata": {},
   "source": [
    "asknav_test_seen.json\n",
    "asknav_test_unseen.json\n",
    "asknav_train.json\n",
    "asknav_train_original.json\n",
    "asknav_train_small50.json\n",
    "asknav_train_small_single_example.json\n",
    "asknav_train_small_single_house_single_goal_short.json\n",
    "asknav_train_small_three_goals_short.json\n",
    "asknav_train_small_three_houses_single_goal_short.json\n",
    "asknav_val_seen.json\n",
    "asknav_val_seen_original.json\n",
    "asknav_val_seen_small50.json\n",
    "asknav_val_seen_small_three_goals_short.json\n",
    "asknav_val_seen_small_three_houses_single_goal_short.json\n",
    "asknav_val_unseen.json\n",
    "asknav_val_unseen_original.json\n",
    "asknav_val_unseen_small50.json\n",
    "asknav_val_unseen_small_three_goals_short.json\n",
    "asknav_val_unseen_small_three_houses_single_goal_short.json\n",
    "train_vocab.txt\n",
    "verbal_easy_vocab.txt\n",
    "verbal_hard_vocab.txt\n",
    "\n",
    "/home/hoyeung/blob_matterport3d/asknav"
   ]
  },
  {
   "cell_type": "markdown",
   "metadata": {},
   "source": [
    "## Read the data"
   ]
  },
  {
   "cell_type": "code",
   "execution_count": 81,
   "metadata": {},
   "outputs": [
    {
     "data": {
      "text/plain": [
       "94798"
      ]
     },
     "execution_count": 81,
     "metadata": {},
     "output_type": "execute_result"
    }
   ],
   "source": [
    "data_dir = \"/home/hoyeung/blob_matterport3d/asknav/\"\n",
    "with open(data_dir + \"asknav_train_original.json\", \"r\") as handle:\n",
    "    data_full = json.load(handle)\n",
    "len(data_full)"
   ]
  },
  {
   "cell_type": "code",
   "execution_count": 226,
   "metadata": {
    "scrolled": true
   },
   "outputs": [
    {
     "data": {
      "text/plain": [
       "{'distances': [24.031958555833757, 22.736805176033286],\n",
       " 'end_region_name': 'living room',\n",
       " 'end_regions': [48, 48],\n",
       " 'heading': 1.0471975511965976,\n",
       " 'instructions': ['find an armchair in the living room .'],\n",
       " 'object_indices': [[1399], [1417]],\n",
       " 'object_name': 'armchair',\n",
       " 'path_id': 261776,\n",
       " 'paths': [['cfa7edd3cdea4c428cd1b2e2bdb4aa31',\n",
       "   '3d0386c86a4a4ada8dc4a3ac54e7315c',\n",
       "   'bff73ad3851642d79ce25063c9c5a71e',\n",
       "   '22371c52a50b48419ce5042d631eb1a6',\n",
       "   'c9e3b241fc8c4bad8b8d5d9e3192ae0a',\n",
       "   'e4ee9fc1de3f44779759a399b5c0ed7b',\n",
       "   'b5dc366ccba3406db2e04b8e1fd2270e',\n",
       "   '2b9575c049fc4539967fffe928f95c2f',\n",
       "   '5530eac6cc8540a8ba22d50487a5dd2f',\n",
       "   '89930128220c45b8bb04c3d3990b202c',\n",
       "   '71c368170cd24345ac3dd89c51ca33ef',\n",
       "   '3b1e1e0fc3de4418b73673c25ca83431'],\n",
       "  ['cfa7edd3cdea4c428cd1b2e2bdb4aa31',\n",
       "   '3d0386c86a4a4ada8dc4a3ac54e7315c',\n",
       "   'bff73ad3851642d79ce25063c9c5a71e',\n",
       "   '22371c52a50b48419ce5042d631eb1a6',\n",
       "   'c9e3b241fc8c4bad8b8d5d9e3192ae0a',\n",
       "   'e4ee9fc1de3f44779759a399b5c0ed7b',\n",
       "   '57f69b8347254b6d8211063688b39e56',\n",
       "   '13539678a339494dbe249d3e8137778d',\n",
       "   '35fbae92aa284ba19652ccb31f4cff9c',\n",
       "   '46959f49c0b9487daf8ee51d602d3a4f']],\n",
       " 'scan': 'vyrNrziPKCB',\n",
       " 'start_region': 8,\n",
       " 'start_region_name': 'bathroom',\n",
       " 'trajectories': [[[0, -1, 0],\n",
       "   [1, 0, 0],\n",
       "   [1, 0, 0],\n",
       "   [1, 0, 0],\n",
       "   [0, -1, 0],\n",
       "   [0, 0, -1],\n",
       "   [1, 0, 0],\n",
       "   [1, 0, 0],\n",
       "   [0, 0, 1],\n",
       "   [0, 1, 0],\n",
       "   [0, 1, 0],\n",
       "   [0, 0, -1],\n",
       "   [1, 0, 0],\n",
       "   [0, 1, 0],\n",
       "   [1, 0, 0],\n",
       "   [0, 0, 1],\n",
       "   [0, 1, 0],\n",
       "   [1, 0, 0],\n",
       "   [1, 0, 0],\n",
       "   [0, 1, 0],\n",
       "   [1, 0, 0],\n",
       "   [0, 1, 0],\n",
       "   [1, 0, 0],\n",
       "   [0, 0, 0]],\n",
       "  [[0, -1, 0],\n",
       "   [1, 0, 0],\n",
       "   [1, 0, 0],\n",
       "   [1, 0, 0],\n",
       "   [0, -1, 0],\n",
       "   [0, 0, -1],\n",
       "   [1, 0, 0],\n",
       "   [1, 0, 0],\n",
       "   [0, 0, 1],\n",
       "   [0, 1, 0],\n",
       "   [0, 1, 0],\n",
       "   [1, 0, 0],\n",
       "   [0, 1, 0],\n",
       "   [0, 1, 0],\n",
       "   [0, 1, 0],\n",
       "   [0, 1, 0],\n",
       "   [2, 0, 0],\n",
       "   [1, 0, 0],\n",
       "   [1, 0, 0],\n",
       "   [0, 0, 0]]]}"
      ]
     },
     "execution_count": 226,
     "metadata": {},
     "output_type": "execute_result"
    }
   ],
   "source": [
    "data_full[0]"
   ]
  },
  {
   "cell_type": "code",
   "execution_count": 90,
   "metadata": {},
   "outputs": [
    {
     "data": {
      "text/plain": [
       "56"
      ]
     },
     "execution_count": 90,
     "metadata": {},
     "output_type": "execute_result"
    }
   ],
   "source": [
    "all_tr_scans = set()\n",
    "\n",
    "for d in data_full:\n",
    "    all_tr_scans.add(d['scan'])\n",
    "\n",
    "len(all_tr_scans)"
   ]
  },
  {
   "cell_type": "code",
   "execution_count": 88,
   "metadata": {},
   "outputs": [
    {
     "name": "stdout",
     "output_type": "stream",
     "text": [
      "4874\n",
      "5005\n"
     ]
    }
   ],
   "source": [
    "with open(data_dir + \"asknav_val_seen_original.json\", \"r\") as handle:\n",
    "    data_full_dev1 = json.load(handle)\n",
    "print(len(data_full_dev1))\n",
    "\n",
    "with open(data_dir + \"asknav_val_unseen_original.json\", \"r\") as handle:\n",
    "    data_full_dev2 = json.load(handle)\n",
    "print(len(data_full_dev2))"
   ]
  },
  {
   "cell_type": "code",
   "execution_count": 91,
   "metadata": {},
   "outputs": [
    {
     "data": {
      "text/plain": [
       "56"
      ]
     },
     "execution_count": 91,
     "metadata": {},
     "output_type": "execute_result"
    }
   ],
   "source": [
    "all_val_scans = set()\n",
    "\n",
    "for d in data_full_dev1:\n",
    "    all_val_scans.add(d['scan'])\n",
    "    \n",
    "len(all_val_scans)"
   ]
  },
  {
   "cell_type": "code",
   "execution_count": 92,
   "metadata": {},
   "outputs": [
    {
     "data": {
      "text/plain": [
       "10"
      ]
     },
     "execution_count": 92,
     "metadata": {},
     "output_type": "execute_result"
    }
   ],
   "source": [
    "all_val2_scans = set()\n",
    "\n",
    "for d in data_full_dev2:\n",
    "    all_val2_scans.add(d['scan'])\n",
    "    \n",
    "len(all_val2_scans)"
   ]
  },
  {
   "cell_type": "code",
   "execution_count": 93,
   "metadata": {},
   "outputs": [
    {
     "name": "stdout",
     "output_type": "stream",
     "text": [
      "5001\n"
     ]
    }
   ],
   "source": [
    "with open(data_dir + \"asknav_test_unseen.json\", \"r\") as handle:\n",
    "    data_full_test2 = json.load(handle)\n",
    "print(len(data_full_test2))"
   ]
  },
  {
   "cell_type": "code",
   "execution_count": 94,
   "metadata": {},
   "outputs": [
    {
     "data": {
      "text/plain": [
       "16"
      ]
     },
     "execution_count": 94,
     "metadata": {},
     "output_type": "execute_result"
    }
   ],
   "source": [
    "all_test2_scans = set()\n",
    "\n",
    "for d in data_full_test2:\n",
    "    all_test2_scans.add(d['scan'])\n",
    "    \n",
    "len(all_test2_scans)"
   ]
  },
  {
   "cell_type": "code",
   "execution_count": 48,
   "metadata": {},
   "outputs": [
    {
     "data": {
      "text/plain": [
       "100"
      ]
     },
     "execution_count": 48,
     "metadata": {},
     "output_type": "execute_result"
    }
   ],
   "source": [
    "with open(data_dir + \"asknav_train_small_three_houses_single_goal_short.json\", \"r\") as handle:\n",
    "    data_100 = json.load(handle)\n",
    "len(data_100)"
   ]
  },
  {
   "cell_type": "code",
   "execution_count": 49,
   "metadata": {},
   "outputs": [
    {
     "data": {
      "text/plain": [
       "1078"
      ]
     },
     "execution_count": 49,
     "metadata": {},
     "output_type": "execute_result"
    }
   ],
   "source": [
    "with open(data_dir + \"asknav_train_small_three_goals_short.json\", \"r\") as handle:\n",
    "    data_1078 = json.load(handle)\n",
    "len(data_1078)"
   ]
  },
  {
   "cell_type": "markdown",
   "metadata": {},
   "source": [
    "## Get the scans and viewpoints that appears in gold traj"
   ]
  },
  {
   "cell_type": "code",
   "execution_count": 57,
   "metadata": {},
   "outputs": [],
   "source": [
    "# within training data\n",
    "scan_viewpt_pairs = []\n",
    "scan_viewpt_map = defaultdict(list)\n",
    "scan_set_100 = set()\n",
    "\n",
    "for d in data_100:\n",
    "    for p in d['paths']:\n",
    "        for v in p:\n",
    "            scan_set_100.add(d['scan'])\n",
    "            scan_viewpt_pairs.append((d['scan'], v))\n",
    "            scan_viewpt_map[d['scan']].append(v)"
   ]
  },
  {
   "cell_type": "code",
   "execution_count": 58,
   "metadata": {},
   "outputs": [
    {
     "name": "stdout",
     "output_type": "stream",
     "text": [
      "704\n"
     ]
    },
    {
     "data": {
      "text/plain": [
       "('ac26ZMwG7aT', '13faa4c86406405ba802f5bdcba744ee')"
      ]
     },
     "execution_count": 58,
     "metadata": {},
     "output_type": "execute_result"
    }
   ],
   "source": [
    "print(len(scan_viewpt_pairs))\n",
    "scan_viewpt_pairs[0]"
   ]
  },
  {
   "cell_type": "code",
   "execution_count": 59,
   "metadata": {},
   "outputs": [
    {
     "name": "stdout",
     "output_type": "stream",
     "text": [
      "3\n"
     ]
    },
    {
     "data": {
      "text/plain": [
       "253"
      ]
     },
     "execution_count": 59,
     "metadata": {},
     "output_type": "execute_result"
    }
   ],
   "source": [
    "print(len(scan_viewpt_map))\n",
    "len(scan_viewpt_map['ac26ZMwG7aT'])"
   ]
  },
  {
   "cell_type": "code",
   "execution_count": 118,
   "metadata": {},
   "outputs": [
    {
     "data": {
      "text/plain": [
       "dict_keys(['cV4RVeZvu5T', '8WUmhLawc2A', 'ac26ZMwG7aT'])"
      ]
     },
     "execution_count": 118,
     "metadata": {},
     "output_type": "execute_result"
    }
   ],
   "source": [
    "# in data 100\n",
    "scan_viewpt_map.keys()"
   ]
  },
  {
   "cell_type": "code",
   "execution_count": 61,
   "metadata": {},
   "outputs": [],
   "source": [
    "# within training data\n",
    "scan_viewpt_pairs_1078 = []\n",
    "scan_viewpt_map_1078 = defaultdict(list)\n",
    "scan_set_1078 = set()\n",
    "\n",
    "for d in data_1078:\n",
    "    for p in d['paths']:\n",
    "        for v in p:\n",
    "            scan_set_1078.add(d['scan'])\n",
    "            scan_viewpt_pairs_1078.append((d['scan'], v))\n",
    "            scan_viewpt_map_1078[d['scan']].append(v)"
   ]
  },
  {
   "cell_type": "code",
   "execution_count": 62,
   "metadata": {},
   "outputs": [
    {
     "name": "stdout",
     "output_type": "stream",
     "text": [
      "9291\n"
     ]
    },
    {
     "data": {
      "text/plain": [
       "('aayBHfsNo7d', '9997a34a10ad4502ae927f0855f670a5')"
      ]
     },
     "execution_count": 62,
     "metadata": {},
     "output_type": "execute_result"
    }
   ],
   "source": [
    "print(len(scan_viewpt_pairs_1078))\n",
    "scan_viewpt_pairs_1078[0]"
   ]
  },
  {
   "cell_type": "code",
   "execution_count": 119,
   "metadata": {},
   "outputs": [
    {
     "data": {
      "text/plain": [
       "dict_keys(['Vvot9Ly1tCj', 'qoiz87JEwZ2', 'sT4fr6TAbpF', '1LXtFkjw3qL', '7y3sRwLe3Va', 'JeFG25nYj2p', 'XcA2TqTSSAj', 'ac26ZMwG7aT', 'cV4RVeZvu5T', '5q7pvUzZiYa', '1pXnuDYAj8r', 'i5noydFURQK', 'VFuaQ6m2Qom', '82sE5b5pLXE', 'sKLMLpTHeUy', 'p5wJjkQkbXX', '5LpN3gDmAk7', 'gTV8FGcVJC9', 'S9hNv5qa7GM', 'aayBHfsNo7d', 'EDJbREhghzL', 'e9zR4mvMWw7', '8WUmhLawc2A', 'ULsKaCPVFJR', 'pRbA3pwrgk9', 'b8cTxDM8gDG', 'VzqfbhrpDEA', '2n8kARJN3HM', 'mJXqzFtmKg4', '759xd9YjKW5', 'JmbYfDe2QKZ'])"
      ]
     },
     "execution_count": 119,
     "metadata": {},
     "output_type": "execute_result"
    }
   ],
   "source": [
    "# in data 100\n",
    "scan_viewpt_map_1078.keys()"
   ]
  },
  {
   "cell_type": "code",
   "execution_count": 63,
   "metadata": {},
   "outputs": [
    {
     "name": "stdout",
     "output_type": "stream",
     "text": [
      "31\n"
     ]
    },
    {
     "data": {
      "text/plain": [
       "735"
      ]
     },
     "execution_count": 63,
     "metadata": {},
     "output_type": "execute_result"
    }
   ],
   "source": [
    "print(len(scan_viewpt_map_1078))\n",
    "len(scan_viewpt_map_1078['ac26ZMwG7aT'])"
   ]
  },
  {
   "cell_type": "code",
   "execution_count": 65,
   "metadata": {},
   "outputs": [
    {
     "data": {
      "text/plain": [
       "{'8WUmhLawc2A', 'ac26ZMwG7aT', 'cV4RVeZvu5T'}"
      ]
     },
     "execution_count": 65,
     "metadata": {},
     "output_type": "execute_result"
    }
   ],
   "source": [
    "scan_set_100"
   ]
  },
  {
   "cell_type": "code",
   "execution_count": 66,
   "metadata": {
    "scrolled": true
   },
   "outputs": [
    {
     "data": {
      "text/plain": [
       "{'1LXtFkjw3qL',\n",
       " '1pXnuDYAj8r',\n",
       " '2n8kARJN3HM',\n",
       " '5LpN3gDmAk7',\n",
       " '5q7pvUzZiYa',\n",
       " '759xd9YjKW5',\n",
       " '7y3sRwLe3Va',\n",
       " '82sE5b5pLXE',\n",
       " '8WUmhLawc2A',\n",
       " 'EDJbREhghzL',\n",
       " 'JeFG25nYj2p',\n",
       " 'JmbYfDe2QKZ',\n",
       " 'S9hNv5qa7GM',\n",
       " 'ULsKaCPVFJR',\n",
       " 'VFuaQ6m2Qom',\n",
       " 'Vvot9Ly1tCj',\n",
       " 'VzqfbhrpDEA',\n",
       " 'XcA2TqTSSAj',\n",
       " 'aayBHfsNo7d',\n",
       " 'ac26ZMwG7aT',\n",
       " 'b8cTxDM8gDG',\n",
       " 'cV4RVeZvu5T',\n",
       " 'e9zR4mvMWw7',\n",
       " 'gTV8FGcVJC9',\n",
       " 'i5noydFURQK',\n",
       " 'mJXqzFtmKg4',\n",
       " 'p5wJjkQkbXX',\n",
       " 'pRbA3pwrgk9',\n",
       " 'qoiz87JEwZ2',\n",
       " 'sKLMLpTHeUy',\n",
       " 'sT4fr6TAbpF'}"
      ]
     },
     "execution_count": 66,
     "metadata": {},
     "output_type": "execute_result"
    }
   ],
   "source": [
    "scan_set_1078"
   ]
  },
  {
   "cell_type": "code",
   "execution_count": 68,
   "metadata": {},
   "outputs": [
    {
     "data": {
      "text/plain": [
       "28"
      ]
     },
     "execution_count": 68,
     "metadata": {},
     "output_type": "execute_result"
    }
   ],
   "source": [
    "scan_diff_1078_100 = scan_set_1078 - scan_set_100\n",
    "len(scan_diff_1078_100)"
   ]
  },
  {
   "cell_type": "markdown",
   "metadata": {},
   "source": [
    "## Load nodes in all training scans"
   ]
  },
  {
   "cell_type": "code",
   "execution_count": 100,
   "metadata": {},
   "outputs": [],
   "source": [
    "scan_viewpt_map_all_tr_data = defaultdict(list)\n",
    "\n",
    "for scan in all_tr_scans:\n",
    "    scan_G = utils.load_nav_graphs(scan)\n",
    "    for n in scan_G.nodes:\n",
    "        scan_viewpt_map_all_tr_data[scan].append(n)"
   ]
  },
  {
   "cell_type": "markdown",
   "metadata": {},
   "source": [
    "## Set variables"
   ]
  },
  {
   "cell_type": "code",
   "execution_count": 17,
   "metadata": {},
   "outputs": [],
   "source": [
    "os.environ['PT_DATA_DIR']='/home/hoyeung/blob_matterport3d/'\n",
    "\n",
    "nav_actions = ['left', 'right', 'up', 'down', 'forward', '<end>', '<start>', '<ignore>']\n",
    "env_actions = [\n",
    "        (0,-1, 0), # left   30 deg\n",
    "        (0, 1, 0), # right  30 deg\n",
    "        (0, 0, 1), # up     30 deg\n",
    "        (0, 0,-1), # down   30 deg\n",
    "        (1, 0, 0), # forward to navigable location at ix 1\n",
    "        (0, 0, 0), # <end>\n",
    "        (0, 0, 0), # <start>\n",
    "        (0, 0, 0)  # <ignore>\n",
    "    ]"
   ]
  },
  {
   "cell_type": "markdown",
   "metadata": {},
   "source": [
    "## Initiate Sims"
   ]
  },
  {
   "cell_type": "code",
   "execution_count": 70,
   "metadata": {},
   "outputs": [],
   "source": [
    "batch_size = 100\n",
    "env = VNLAExplorationBatch(nav_actions, env_actions, obs=None, batch_size=batch_size)"
   ]
  },
  {
   "cell_type": "markdown",
   "metadata": {},
   "source": [
    "## Try something"
   ]
  },
  {
   "cell_type": "code",
   "execution_count": 120,
   "metadata": {},
   "outputs": [],
   "source": [
    "scan_time_map_all_tr_scans = {}\n",
    "\n",
    "for scan in all_tr_scans:\n",
    "    # compute average time per vertex\n",
    "    scan_tot_time = []\n",
    "    # get a list of all vertices in this scan, for each vertex\n",
    "    for n in scan_viewpt_map_all_tr_data[scan]:\n",
    "        for _ in range(100*50):\n",
    "            # randomly choose some heading and elevation\n",
    "            heading = (np.random.random() * 2 - 1) * 2 * math.pi\n",
    "            elevation = (np.random.random() * 2 - 1) * 2 * math.pi\n",
    "            start_time = time.time()\n",
    "            # call env.sims[0] to set it, time this\n",
    "            env.sims[0].newEpisode(scan, n, heading, elevation)\n",
    "            scan_tot_time.append(time.time() - start_time)\n",
    "    # append the time to tot for scan\n",
    "    scan_time_map_all_tr_scans[scan] = np.average(scan_tot_time) "
   ]
  },
  {
   "cell_type": "code",
   "execution_count": 121,
   "metadata": {},
   "outputs": [
    {
     "data": {
      "text/plain": [
       "[('B6ByNegPMKs', 4.748361684273982e-05),\n",
       " ('vyrNrziPKCB', 4.582348237759282e-05),\n",
       " ('PX4nDJXEHrG', 4.1182713305696525e-05),\n",
       " ('VzqfbhrpDEA', 3.9521649469553804e-05),\n",
       " ('SN83YJsR3w2', 3.719793193745163e-05),\n",
       " ('D7N2EKCX4Sj', 3.6809683396266056e-05),\n",
       " ('gTV8FGcVJC9', 3.373100355074003e-05),\n",
       " ('uNb9QFRL6hY', 3.133111626889224e-05),\n",
       " ('kEZ7cmS4wCh', 3.106040882704845e-05),\n",
       " ('E9uDoFAP3SH', 3.100715958028345e-05),\n",
       " ('mJXqzFtmKg4', 2.7038548736975937e-05),\n",
       " ('2n8kARJN3HM', 2.6874292537730226e-05),\n",
       " ('VFuaQ6m2Qom', 2.5483159105220955e-05),\n",
       " ('ac26ZMwG7aT', 2.451528260202119e-05),\n",
       " ('V2XKFyX4ASd', 2.2881002790608985e-05),\n",
       " ('p5wJjkQkbXX', 2.264677976307116e-05),\n",
       " ('29hnd4uzFmX', 2.1730768446828804e-05),\n",
       " ('Uxmj2M2itWa', 2.149067064271356e-05),\n",
       " ('Vvot9Ly1tCj', 2.1397892634073894e-05),\n",
       " ('82sE5b5pLXE', 2.1143952122441043e-05),\n",
       " ('5LpN3gDmAk7', 2.1143929958343507e-05),\n",
       " ('qoiz87JEwZ2', 2.0628930594174917e-05),\n",
       " ('sKLMLpTHeUy', 2.002324156873808e-05),\n",
       " ('1LXtFkjw3qL', 1.9758870583454162e-05),\n",
       " ('VLzqgDo317F', 1.9559680349458523e-05),\n",
       " ('pRbA3pwrgk9', 1.9179289127753034e-05),\n",
       " ('ur6pFq6Qu1A', 1.8414035490003684e-05),\n",
       " ('rPc6DW4iMge', 1.8081600787275928e-05),\n",
       " ('S9hNv5qa7GM', 1.806627707047896e-05),\n",
       " ('7y3sRwLe3Va', 1.7895465077094312e-05),\n",
       " ('b8cTxDM8gDG', 1.776845664308782e-05),\n",
       " ('r1Q1Z4BcV1o', 1.776325132994525e-05),\n",
       " ('XcA2TqTSSAj', 1.73943624583953e-05),\n",
       " ('ULsKaCPVFJR', 1.637985399453947e-05),\n",
       " ('8WUmhLawc2A', 1.565937544170179e-05),\n",
       " ('1pXnuDYAj8r', 1.5360999358327766e-05),\n",
       " ('JeFG25nYj2p', 1.5110141890389579e-05),\n",
       " ('cV4RVeZvu5T', 1.4947884877522787e-05),\n",
       " ('e9zR4mvMWw7', 1.4890398924378143e-05),\n",
       " ('5q7pvUzZiYa', 1.4786574545871005e-05),\n",
       " ('sT4fr6TAbpF', 1.4345560544802819e-05),\n",
       " ('ZMojNkEp431', 1.4329826677000367e-05),\n",
       " ('JmbYfDe2QKZ', 1.3868831682808792e-05),\n",
       " ('aayBHfsNo7d', 1.292444820135412e-05),\n",
       " ('EDJbREhghzL', 1.2541487557547433e-05),\n",
       " ('VVfe2KiqLaN', 1.1539136386308513e-05),\n",
       " ('r47D5H71a5s', 1.1464116612418753e-05),\n",
       " ('759xd9YjKW5', 1.1454303929063141e-05),\n",
       " ('i5noydFURQK', 1.0810165745871407e-05),\n",
       " ('JF19kD82Mey', 1.0478053774152483e-05),\n",
       " ('jh4fc5c5qoQ', 1.0120898485183716e-05),\n",
       " ('17DRP5sb8fy', 1.0019911419261585e-05),\n",
       " ('s8pcmisQ38h', 9.90949821472168e-06),\n",
       " ('HxpKQynjfin', 9.695141455706428e-06),\n",
       " ('Pm6F8kyY3z2', 8.457204874824075e-06),\n",
       " ('GdvgFV5R1Z5', 5.711098512013753e-06)]"
      ]
     },
     "execution_count": 121,
     "metadata": {},
     "output_type": "execute_result"
    }
   ],
   "source": [
    "sorted(scan_time_map_all_tr_scans.items(), key=lambda x: x[1], reverse=True)"
   ]
  },
  {
   "cell_type": "code",
   "execution_count": 103,
   "metadata": {},
   "outputs": [
    {
     "data": {
      "text/plain": [
       "0.5727192299742875"
      ]
     },
     "execution_count": 103,
     "metadata": {},
     "output_type": "execute_result"
    }
   ],
   "source": [
    "(np.random.random() * 2 - 1) * 2 * math.pi"
   ]
  },
  {
   "cell_type": "code",
   "execution_count": 127,
   "metadata": {},
   "outputs": [
    {
     "data": {
      "text/plain": [
       "0.09187090486874294"
      ]
     },
     "execution_count": 127,
     "metadata": {},
     "output_type": "execute_result"
    }
   ],
   "source": [
    "time = 0.0\n",
    "for k in scan_viewpt_map.keys():\n",
    "    time += scan_time_map_all_tr_scans[k] * 100 * 50\n",
    "time / len(scan_viewpt_map)"
   ]
  },
  {
   "cell_type": "code",
   "execution_count": 128,
   "metadata": {},
   "outputs": [
    {
     "data": {
      "text/plain": [
       "0.09633732424153657"
      ]
     },
     "execution_count": 128,
     "metadata": {},
     "output_type": "execute_result"
    }
   ],
   "source": [
    "time = 0.0\n",
    "for k in scan_viewpt_map_1078.keys():\n",
    "    time += scan_time_map_all_tr_scans[k] * 100 * 50\n",
    "time / len(scan_viewpt_map_1078)"
   ]
  },
  {
   "cell_type": "code",
   "execution_count": 129,
   "metadata": {},
   "outputs": [
    {
     "data": {
      "text/plain": [
       "0.1018601267037432"
      ]
     },
     "execution_count": 129,
     "metadata": {},
     "output_type": "execute_result"
    }
   ],
   "source": [
    "time = 0.0\n",
    "for k in scan_time_map_all_tr_scans.keys():\n",
    "    time += scan_time_map_all_tr_scans[k] * 100 * 50\n",
    "time / len(scan_time_map_all_tr_scans)"
   ]
  },
  {
   "cell_type": "code",
   "execution_count": null,
   "metadata": {},
   "outputs": [],
   "source": [
    "# data 100\n",
    "scan_viewpt_map.keys()\n",
    "#dict_keys(['cV4RVeZvu5T', '8WUmhLawc2A', 'ac26ZMwG7aT'])\n",
    "('ac26ZMwG7aT', 2.4650458133581913e-05)\n",
    "('8WUmhLawc2A', 1.5587706314890007e-05)\n",
    "('cV4RVeZvu5T', 1.513724856906467e-05)\n",
    "\n",
    "# data 1078\n",
    "scan_viewpt_map_1078.keys()\n",
    "# dict_keys(['Vvot9Ly1tCj', 'qoiz87JEwZ2', 'sT4fr6TAbpF', '1LXtFkjw3qL', '7y3sRwLe3Va', 'JeFG25nYj2p', 'XcA2TqTSSAj', 'ac26ZMwG7aT', 'cV4RVeZvu5T', '5q7pvUzZiYa', '1pXnuDYAj8r', 'i5noydFURQK', 'VFuaQ6m2Qom', '82sE5b5pLXE', 'sKLMLpTHeUy', 'p5wJjkQkbXX', '5LpN3gDmAk7', 'gTV8FGcVJC9', 'S9hNv5qa7GM', 'aayBHfsNo7d', 'EDJbREhghzL', 'e9zR4mvMWw7', '8WUmhLawc2A', 'ULsKaCPVFJR', 'pRbA3pwrgk9', 'b8cTxDM8gDG', 'VzqfbhrpDEA', '2n8kARJN3HM', 'mJXqzFtmKg4', '759xd9YjKW5', 'JmbYfDe2QKZ'])"
   ]
  },
  {
   "cell_type": "markdown",
   "metadata": {},
   "source": [
    "## Dummy script to load nodes outside training code"
   ]
  },
  {
   "cell_type": "code",
   "execution_count": 131,
   "metadata": {},
   "outputs": [],
   "source": [
    "# Try a different way\n",
    "import time\n",
    "\n",
    "scan_time_map_all_tr_scans = {}\n",
    "\n",
    "for scan in all_tr_scans:\n",
    "    # compute average time per vertex\n",
    "    scan_tot_time = []\n",
    "    # get a list of all vertices in this scan, for each vertex\n",
    "    for n in scan_viewpt_map_all_tr_data[scan]:\n",
    "        for _ in range(50):\n",
    "            for i in range(batch_size):\n",
    "                # randomly choose some heading and elevation\n",
    "                heading = (np.random.random() * 2 - 1) * 2 * math.pi\n",
    "                elevation = (np.random.random() * 2 - 1) * 2 * math.pi\n",
    "                start_time = time.time()\n",
    "                # call env.sims[0] to set it, time this\n",
    "                env.sims[i].newEpisode(scan, n, heading, elevation)\n",
    "                scan_tot_time.append(time.time() - start_time)\n",
    "    # append the time to tot for scan\n",
    "    scan_time_map_all_tr_scans[scan] = np.average(scan_tot_time) "
   ]
  },
  {
   "cell_type": "code",
   "execution_count": 132,
   "metadata": {},
   "outputs": [
    {
     "data": {
      "text/plain": [
       "[('vyrNrziPKCB', 5.678904290015337e-05),\n",
       " ('B6ByNegPMKs', 5.617932195248811e-05),\n",
       " ('PX4nDJXEHrG', 4.984587642317968e-05),\n",
       " ('VzqfbhrpDEA', 4.785925723277161e-05),\n",
       " ('D7N2EKCX4Sj', 4.535235606707059e-05),\n",
       " ('SN83YJsR3w2', 4.351669041615612e-05),\n",
       " ('kEZ7cmS4wCh', 3.839941096665272e-05),\n",
       " ('gTV8FGcVJC9', 3.740342974146723e-05),\n",
       " ('uNb9QFRL6hY', 3.712928485422627e-05),\n",
       " ('E9uDoFAP3SH', 3.496930829940304e-05),\n",
       " ('mJXqzFtmKg4', 3.23151984542766e-05),\n",
       " ('2n8kARJN3HM', 3.230650527502901e-05),\n",
       " ('VFuaQ6m2Qom', 2.916946011389087e-05),\n",
       " ('ac26ZMwG7aT', 2.849974603363962e-05),\n",
       " ('V2XKFyX4ASd', 2.8382171946726026e-05),\n",
       " ('29hnd4uzFmX', 2.7653134102914846e-05),\n",
       " ('p5wJjkQkbXX', 2.7583873271942138e-05),\n",
       " ('5LpN3gDmAk7', 2.6229000091552734e-05),\n",
       " ('Vvot9Ly1tCj', 2.5978281142863822e-05),\n",
       " ('Uxmj2M2itWa', 2.5940534842275356e-05),\n",
       " ('82sE5b5pLXE', 2.5053222091109665e-05),\n",
       " ('1LXtFkjw3qL', 2.427972546060577e-05),\n",
       " ('sKLMLpTHeUy', 2.3369035570640264e-05),\n",
       " ('VLzqgDo317F', 2.3363176981608073e-05),\n",
       " ('pRbA3pwrgk9', 2.3230160348783665e-05),\n",
       " ('ur6pFq6Qu1A', 2.3002934455871583e-05),\n",
       " ('qoiz87JEwZ2', 2.2683939314980543e-05),\n",
       " ('rPc6DW4iMge', 2.1974692102205956e-05),\n",
       " ('b8cTxDM8gDG', 2.1824954685411955e-05),\n",
       " ('7y3sRwLe3Va', 2.1472212953387567e-05),\n",
       " ('r1Q1Z4BcV1o', 2.1002310356207652e-05),\n",
       " ('XcA2TqTSSAj', 2.0827289458808548e-05),\n",
       " ('S9hNv5qa7GM', 2.0667191418734464e-05),\n",
       " ('ULsKaCPVFJR', 1.9494733716001604e-05),\n",
       " ('8WUmhLawc2A', 1.9309426357871606e-05),\n",
       " ('1pXnuDYAj8r', 1.824036999752647e-05),\n",
       " ('e9zR4mvMWw7', 1.7765151495221018e-05),\n",
       " ('JeFG25nYj2p', 1.772778488340832e-05),\n",
       " ('5q7pvUzZiYa', 1.7673686916908522e-05),\n",
       " ('cV4RVeZvu5T', 1.751097626156277e-05),\n",
       " ('JmbYfDe2QKZ', 1.7284818842441222e-05),\n",
       " ('aayBHfsNo7d', 1.5896319671415947e-05),\n",
       " ('ZMojNkEp431', 1.5741916755577187e-05),\n",
       " ('sT4fr6TAbpF', 1.543209699936855e-05),\n",
       " ('EDJbREhghzL', 1.5231962203979491e-05),\n",
       " ('759xd9YjKW5', 1.4456054812572042e-05),\n",
       " ('VVfe2KiqLaN', 1.4448602863999664e-05),\n",
       " ('r47D5H71a5s', 1.3573218955368292e-05),\n",
       " ('i5noydFURQK', 1.3102413926805769e-05),\n",
       " ('jh4fc5c5qoQ', 1.2697197993596394e-05),\n",
       " ('17DRP5sb8fy', 1.2687516212463379e-05),\n",
       " ('s8pcmisQ38h', 1.2670090675354004e-05),\n",
       " ('HxpKQynjfin', 1.1711249631993911e-05),\n",
       " ('JF19kD82Mey', 1.1698499990969289e-05),\n",
       " ('Pm6F8kyY3z2', 1.019445727853214e-05),\n",
       " ('GdvgFV5R1Z5', 9.290905793507893e-06)]"
      ]
     },
     "execution_count": 132,
     "metadata": {},
     "output_type": "execute_result"
    }
   ],
   "source": [
    "sorted(scan_time_map_all_tr_scans.items(), key=lambda x: x[1], reverse=True)"
   ]
  },
  {
   "cell_type": "code",
   "execution_count": null,
   "metadata": {},
   "outputs": [],
   "source": [
    "# some nodes are harder than others. check gold traj nodes."
   ]
  },
  {
   "cell_type": "markdown",
   "metadata": {},
   "source": [
    "## Look at only nodes in gold trajectories"
   ]
  },
  {
   "cell_type": "code",
   "execution_count": null,
   "metadata": {},
   "outputs": [],
   "source": [
    "scan_viewpt_map\n",
    "scan_viewpt_map_1078"
   ]
  },
  {
   "cell_type": "code",
   "execution_count": 210,
   "metadata": {},
   "outputs": [],
   "source": [
    "# Try a different way\n",
    "import time\n",
    "\n",
    "scan_time_map_data_100 = {}\n",
    "scan_time_map_data_100_sum = {}\n",
    "\n",
    "for scan in scan_viewpt_map:\n",
    "    # compute average time per vertex\n",
    "    scan_tot_time = []\n",
    "    # get a list of all vertices in this scan, for each vertex\n",
    "    for n in scan_viewpt_map[scan]:\n",
    "        for _ in range(50):\n",
    "            for i in range(batch_size):\n",
    "                # randomly choose some heading and elevation\n",
    "                heading = (np.random.random() * 2 - 1) * 2 * math.pi\n",
    "                elevation = (np.random.random() * 2 - 1) * 2 * math.pi\n",
    "                start_time = time.time()\n",
    "                # call env.sims[0] to set it, time this\n",
    "                env.sims[i].newEpisode(scan, n, heading, elevation)\n",
    "                scan_tot_time.append(time.time() - start_time)\n",
    "    # append the time to tot for scan\n",
    "    scan_time_map_data_100[scan] = np.average(scan_tot_time)\n",
    "    scan_time_map_data_100_sum[scan] = np.sum(scan_tot_time)"
   ]
  },
  {
   "cell_type": "code",
   "execution_count": 139,
   "metadata": {},
   "outputs": [
    {
     "data": {
      "text/plain": [
       "[('ac26ZMwG7aT', 2.6040046865289862e-05),\n",
       " ('8WUmhLawc2A', 1.7572052835479495e-05),\n",
       " ('cV4RVeZvu5T', 1.6333232676317244e-05)]"
      ]
     },
     "execution_count": 139,
     "metadata": {},
     "output_type": "execute_result"
    }
   ],
   "source": [
    "sorted(scan_time_map_data_100.items(), key=lambda x: x[1], reverse=True)"
   ]
  },
  {
   "cell_type": "code",
   "execution_count": 209,
   "metadata": {},
   "outputs": [
    {
     "data": {
      "text/plain": [
       "{'8WUmhLawc2A': 1.7572052835479495e-05,\n",
       " 'ac26ZMwG7aT': 2.6040046865289862e-05,\n",
       " 'cV4RVeZvu5T': 1.6333232676317244e-05}"
      ]
     },
     "execution_count": 209,
     "metadata": {},
     "output_type": "execute_result"
    }
   ],
   "source": [
    "scan_time_map_data_100"
   ]
  },
  {
   "cell_type": "code",
   "execution_count": 150,
   "metadata": {},
   "outputs": [
    {
     "data": {
      "text/plain": [
       "1.9981777459028865e-05"
      ]
     },
     "execution_count": 150,
     "metadata": {},
     "output_type": "execute_result"
    }
   ],
   "source": [
    "np.average([val for val in scan_time_map_data_100.values()])"
   ]
  },
  {
   "cell_type": "code",
   "execution_count": 140,
   "metadata": {},
   "outputs": [],
   "source": [
    "# Try a different way\n",
    "import time\n",
    "\n",
    "scan_time_map_data_1078 = {}\n",
    "\n",
    "for scan in scan_viewpt_map_1078:\n",
    "    # compute average time per vertex\n",
    "    scan_tot_time = []\n",
    "    # get a list of all vertices in this scan, for each vertex\n",
    "    for n in scan_viewpt_map_1078[scan]:\n",
    "        for _ in range(50):\n",
    "            for i in range(batch_size):\n",
    "                # randomly choose some heading and elevation\n",
    "                heading = (np.random.random() * 2 - 1) * 2 * math.pi\n",
    "                elevation = (np.random.random() * 2 - 1) * 2 * math.pi\n",
    "                start_time = time.time()\n",
    "                # call env.sims[0] to set it, time this\n",
    "                env.sims[i].newEpisode(scan, n, heading, elevation)\n",
    "                scan_tot_time.append(time.time() - start_time)\n",
    "    # append the time to tot for scan\n",
    "    scan_time_map_data_1078[scan] = np.average(scan_tot_time) "
   ]
  },
  {
   "cell_type": "code",
   "execution_count": 141,
   "metadata": {},
   "outputs": [
    {
     "data": {
      "text/plain": [
       "[('VzqfbhrpDEA', 4.2882962540118364e-05),\n",
       " ('gTV8FGcVJC9', 3.3886367502346846e-05),\n",
       " ('mJXqzFtmKg4', 2.967675018310547e-05),\n",
       " ('2n8kARJN3HM', 2.899451628528194e-05),\n",
       " ('VFuaQ6m2Qom', 2.7437195229454163e-05),\n",
       " ('ac26ZMwG7aT', 2.635674067905971e-05),\n",
       " ('p5wJjkQkbXX', 2.5219303131103515e-05),\n",
       " ('Vvot9Ly1tCj', 2.377617869017809e-05),\n",
       " ('5LpN3gDmAk7', 2.3772971849914985e-05),\n",
       " ('82sE5b5pLXE', 2.326460713925569e-05),\n",
       " ('1LXtFkjw3qL', 2.1902761572883242e-05),\n",
       " ('sKLMLpTHeUy', 2.174639230892982e-05),\n",
       " ('qoiz87JEwZ2', 2.148977862464057e-05),\n",
       " ('pRbA3pwrgk9', 2.111816308936294e-05),\n",
       " ('b8cTxDM8gDG', 1.968080097214315e-05),\n",
       " ('7y3sRwLe3Va', 1.9603125017080735e-05),\n",
       " ('XcA2TqTSSAj', 1.9301970446551288e-05),\n",
       " ('S9hNv5qa7GM', 1.9278912947922156e-05),\n",
       " ('ULsKaCPVFJR', 1.8012909155625563e-05),\n",
       " ('8WUmhLawc2A', 1.761483673576836e-05),\n",
       " ('1pXnuDYAj8r', 1.6859687868931166e-05),\n",
       " ('JeFG25nYj2p', 1.6443124207310708e-05),\n",
       " ('cV4RVeZvu5T', 1.6299921138956494e-05),\n",
       " ('5q7pvUzZiYa', 1.6176338135441646e-05),\n",
       " ('e9zR4mvMWw7', 1.611285979931171e-05),\n",
       " ('JmbYfDe2QKZ', 1.5329631756652487e-05),\n",
       " ('sT4fr6TAbpF', 1.44396480939067e-05),\n",
       " ('aayBHfsNo7d', 1.4322566986083984e-05),\n",
       " ('EDJbREhghzL', 1.3893862156306997e-05),\n",
       " ('759xd9YjKW5', 1.3115382194519043e-05),\n",
       " ('i5noydFURQK', 1.2016373370067182e-05)]"
      ]
     },
     "execution_count": 141,
     "metadata": {},
     "output_type": "execute_result"
    }
   ],
   "source": [
    "sorted(scan_time_map_data_1078.items(), key=lambda x: x[1], reverse=True)"
   ]
  },
  {
   "cell_type": "code",
   "execution_count": 151,
   "metadata": {},
   "outputs": [
    {
     "data": {
      "text/plain": [
       "2.096860128413596e-05"
      ]
     },
     "execution_count": 151,
     "metadata": {},
     "output_type": "execute_result"
    }
   ],
   "source": [
    "np.average([val for val in scan_time_map_data_1078.values()])"
   ]
  },
  {
   "cell_type": "code",
   "execution_count": 152,
   "metadata": {},
   "outputs": [
    {
     "name": "stderr",
     "output_type": "stream",
     "text": [
      "/data/anaconda/envs/py35/lib/python3.5/site-packages/numpy/lib/function_base.py:1128: RuntimeWarning: Mean of empty slice.\n",
      "  avg = a.mean(axis)\n",
      "/data/anaconda/envs/py35/lib/python3.5/site-packages/numpy/core/_methods.py:80: RuntimeWarning: invalid value encountered in double_scalars\n",
      "  ret = ret.dtype.type(ret / rcount)\n"
     ]
    }
   ],
   "source": [
    "# Try a different way\n",
    "import time\n",
    "\n",
    "scan_node_time_map_data_1078 = {}\n",
    "\n",
    "for scan in scan_viewpt_map_1078:\n",
    "    # compute average time per vertex\n",
    "    scan_node_time_map_data_1078[scan] = {}\n",
    "    # get a list of all vertices in this scan, for each vertex\n",
    "    for n in scan_viewpt_map_1078[scan]:\n",
    "        scan_n_tot_time = []\n",
    "        for _ in range(50):\n",
    "            for i in range(batch_size):\n",
    "                # randomly choose some heading and elevation\n",
    "                heading = (np.random.random() * 2 - 1) * 2 * math.pi\n",
    "                elevation = (np.random.random() * 2 - 1) * 2 * math.pi\n",
    "                start_time = time.time()\n",
    "                # call env.sims[0] to set it, time this\n",
    "                env.sims[i].newEpisode(scan, n, heading, elevation)\n",
    "                scan_tot_time.append(time.time() - start_time)\n",
    "        scan_node_time_map_data_1078[scan][n] = np.average(scan_n_tot_time) "
   ]
  },
  {
   "cell_type": "code",
   "execution_count": null,
   "metadata": {},
   "outputs": [],
   "source": [
    "sorted(scan_time_map_data_1078.items(), key=lambda x: x[1], reverse=True)"
   ]
  },
  {
   "cell_type": "code",
   "execution_count": 153,
   "metadata": {},
   "outputs": [],
   "source": [
    "l = [1,2,3]\n",
    "l += [4,5,6]"
   ]
  },
  {
   "cell_type": "code",
   "execution_count": 154,
   "metadata": {},
   "outputs": [
    {
     "data": {
      "text/plain": [
       "[1, 2, 3, 4, 5, 6]"
      ]
     },
     "execution_count": 154,
     "metadata": {},
     "output_type": "execute_result"
    }
   ],
   "source": [
    "l"
   ]
  },
  {
   "cell_type": "code",
   "execution_count": 155,
   "metadata": {},
   "outputs": [
    {
     "data": {
      "text/plain": [
       "defaultdict(<function __main__.<lambda>()>, {})"
      ]
     },
     "execution_count": 155,
     "metadata": {},
     "output_type": "execute_result"
    }
   ],
   "source": [
    "from collections import defaultdict\n",
    "defaultdict(lambda : defaultdict(list))"
   ]
  },
  {
   "cell_type": "markdown",
   "metadata": {},
   "source": [
    "## Hit Debug, run this and save scan_v_time"
   ]
  },
  {
   "cell_type": "code",
   "execution_count": null,
   "metadata": {},
   "outputs": [],
   "source": [
    "# ((scan, node), (average time, total number of calls, total time)), \n",
    "\n",
    "scan_v_time = {}\n",
    "\n",
    "for scan in nodes_time_report.keys():\n",
    "    for v in nodes_time_report[scan]:\n",
    "        time_scalar_list = nodes_time_report[scan][v]\n",
    "        scan_v_time[(scan, v)] = (np.average(time_scalar_list), len(time_scalar_list), np.sum(time_scalar_list))"
   ]
  },
  {
   "cell_type": "code",
   "execution_count": null,
   "metadata": {},
   "outputs": [],
   "source": [
    "# (scan, node): [avg time, number of calls, total time]"
   ]
  },
  {
   "cell_type": "markdown",
   "metadata": {},
   "source": [
    "## Local analysis"
   ]
  },
  {
   "cell_type": "code",
   "execution_count": 243,
   "metadata": {},
   "outputs": [],
   "source": [
    "import pickle\n",
    "\n",
    "# data 1078\n",
    "with open(\"/home/hoyeung/Documents/vnla/dummy_scan_time.pickle\", \"rb\") as handle:\n",
    "    scan_v_time_data_1078 = pickle.load(handle)\n",
    "    \n",
    "# data 100\n",
    "with open(\"/home/hoyeung/Documents/vnla/dummy_scan_time_data_100.pickle\", \"rb\") as handle:\n",
    "    scan_v_time_data_100 = pickle.load(handle)\n",
    "    \n",
    "# data full\n",
    "with open(\"/home/hoyeung/Documents/vnla/dummy_scan_time_data_94798.pickle\", \"rb\") as handle:\n",
    "    scan_v_time_data_94798 = pickle.load(handle)\n",
    "    \n",
    "# data full 2\n",
    "with open(\"/home/hoyeung/Documents/vnla/dummy_scan_time_data_94798_2.pickle\", \"rb\") as handle:\n",
    "    scan_v_time_data_94798_2 = pickle.load(handle)"
   ]
  },
  {
   "cell_type": "code",
   "execution_count": 250,
   "metadata": {},
   "outputs": [],
   "source": [
    "sort_tups_by_sum_1078 = sorted(scan_v_time_data_1078.items(), key=lambda x: x[1][2], reverse = True)\n",
    "sort_tups_by_sum_100 = sorted(scan_v_time_data_100.items(), key=lambda x: x[1][2], reverse = True)\n",
    "sort_tups_by_sum_94798 = sorted(scan_v_time_data_94798.items(), key=lambda x: x[1][2], reverse = True)\n",
    "sort_tups_by_sum_94798_2 = sorted(scan_v_time_data_94798_2.items(), key=lambda x: x[1][2], reverse = True)\n",
    "\n",
    "sort_tups_by_avg_1078 = sorted(scan_v_time_data_1078.items(), key=lambda x: x[1][0], reverse = True)\n",
    "sort_tups_by_avg_100 = sorted(scan_v_time_data_100.items(), key=lambda x: x[1][0], reverse = True)\n",
    "sort_tups_by_avg_94798 = sorted(scan_v_time_data_94798.items(), key=lambda x: x[1][0], reverse = True)\n",
    "sort_tups_by_avg_94798_2 = sorted(scan_v_time_data_94798_2.items(), key=lambda x: x[1][0], reverse = True)"
   ]
  },
  {
   "cell_type": "code",
   "execution_count": 251,
   "metadata": {},
   "outputs": [],
   "source": [
    "cumu_all_1078 = []\n",
    "cumu_sum_1078 = 0.0\n",
    "for i in range(len(sort_tups_by_sum_1078)):\n",
    "    cumu_sum_1078 += sort_tups_by_sum_1078[i][1][2]\n",
    "    cumu_all_1078.append(cumu_sum_1078)"
   ]
  },
  {
   "cell_type": "code",
   "execution_count": 252,
   "metadata": {},
   "outputs": [],
   "source": [
    "cumu_all_100 = []\n",
    "cumu_sum_100 = 0.0\n",
    "for i in range(len(sort_tups_by_sum_100)):\n",
    "    cumu_sum_100 += sort_tups_by_sum_100[i][1][2]\n",
    "    cumu_all_100.append(cumu_sum_100)"
   ]
  },
  {
   "cell_type": "code",
   "execution_count": 253,
   "metadata": {},
   "outputs": [],
   "source": [
    "cumu_all_94798 = []\n",
    "cumu_sum_94798 = 0.0\n",
    "for i in range(len(sort_tups_by_sum_94798)):\n",
    "    cumu_sum_94798 += sort_tups_by_sum_94798[i][1][2]\n",
    "    cumu_all_94798.append(cumu_sum_94798)"
   ]
  },
  {
   "cell_type": "code",
   "execution_count": 254,
   "metadata": {},
   "outputs": [],
   "source": [
    "cumu_all_94798_2 = []\n",
    "cumu_sum_94798_2 = 0.0\n",
    "for i in range(len(sort_tups_by_sum_94798_2)):\n",
    "    cumu_sum_94798_2 += sort_tups_by_sum_94798_2[i][1][2]\n",
    "    cumu_all_94798_2.append(cumu_sum_94798_2)"
   ]
  },
  {
   "cell_type": "code",
   "execution_count": 255,
   "metadata": {},
   "outputs": [
    {
     "name": "stdout",
     "output_type": "stream",
     "text": [
      "40.98676156997681\n",
      "4.304455757141113\n",
      "77.94051504135132\n",
      "109.095547914505\n"
     ]
    }
   ],
   "source": [
    "print(cumu_sum_1078)\n",
    "print(cumu_sum_100)\n",
    "print(cumu_sum_94798)\n",
    "print(cumu_sum_94798_2)"
   ]
  },
  {
   "cell_type": "code",
   "execution_count": 257,
   "metadata": {},
   "outputs": [
    {
     "data": {
      "text/plain": [
       "1.8064516129032258"
      ]
     },
     "execution_count": 257,
     "metadata": {},
     "output_type": "execute_result"
    }
   ],
   "source": [
    "56 / 31"
   ]
  },
  {
   "cell_type": "code",
   "execution_count": 258,
   "metadata": {},
   "outputs": [
    {
     "data": {
      "text/plain": [
       "72.0"
      ]
     },
     "execution_count": 258,
     "metadata": {},
     "output_type": "execute_result"
    }
   ],
   "source": [
    "40 * 1.8"
   ]
  },
  {
   "cell_type": "code",
   "execution_count": 238,
   "metadata": {},
   "outputs": [
    {
     "data": {
      "text/plain": [
       "1e-05"
      ]
     },
     "execution_count": 238,
     "metadata": {},
     "output_type": "execute_result"
    }
   ],
   "source": [
    "1e-5"
   ]
  },
  {
   "cell_type": "code",
   "execution_count": 259,
   "metadata": {
    "scrolled": false
   },
   "outputs": [
    {
     "name": "stdout",
     "output_type": "stream",
     "text": [
      "('ac26ZMwG7aT', 'd710e361173943d189ad82b18c11572d')\n",
      "(0.0012328243255615235, 50, 0.06164121627807617)\n",
      "(0.009124957598172702, 13, 0.11862444877624512)\n",
      "(3.3020973205566406e-05, 2, 6.604194641113281e-05)\n",
      "---------------------------------------------\n",
      "('ac26ZMwG7aT', '4382fba86a6a4956b7007f079a990268')\n",
      "(0.0008136796951293946, 50, 0.04068398475646973)\n",
      "(0.006671786308288574, 14, 0.09340500831604004)\n",
      "(0.000526450929187593, 42, 0.022110939025878906)\n",
      "---------------------------------------------\n",
      "('ac26ZMwG7aT', '1f26654b50334ed29c4bf161a0150700')\n",
      "(0.00041463851928710935, 50, 0.02073192596435547)\n",
      "(0.006282363619123187, 14, 0.08795309066772461)\n",
      "(0.006530952453613281, 5, 0.032654762268066406)\n",
      "---------------------------------------------\n",
      "('ac26ZMwG7aT', '101eadbcb4a74791b0da3d32ee6f71f5')\n",
      "(0.001237635612487793, 50, 0.06188178062438965)\n",
      "(0.004877805709838867, 15, 0.07316708564758301)\n",
      "(3.424974588247446e-05, 26, 0.0008904933929443359)\n",
      "---------------------------------------------\n",
      "('ac26ZMwG7aT', 'a4aaa9c679ba4a3dbdead1fb0bab0e02')\n",
      "(0.0012517023086547853, 50, 0.06258511543273926)\n",
      "(0.004994562694004604, 14, 0.06992387771606445)\n",
      "(3.096461296081543e-05, 8, 0.00024771690368652344)\n",
      "---------------------------------------------\n",
      "('ac26ZMwG7aT', 'caa5b0dce8fc45a8982f917d041cf441')\n",
      "(0.00015728155771891275, 150, 0.023592233657836914)\n",
      "(0.002111008673003226, 33, 0.06966328620910645)\n",
      "(0.001729206605391069, 55, 0.09510636329650879)\n",
      "---------------------------------------------\n",
      "('cV4RVeZvu5T', '3393cfe75d8e4593bf4b05d00b7eb2c2')\n",
      "(0.0003493070602416992, 100, 0.03493070602416992)\n",
      "(0.0019098870894488167, 34, 0.06493616104125977)\n",
      "(0.0006597944208093592, 37, 0.02441239356994629)\n",
      "---------------------------------------------\n",
      "('ac26ZMwG7aT', 'fb32301e479c48bb8aefae8ee568ad09')\n",
      "(0.0017214727401733399, 50, 0.08607363700866699)\n",
      "(0.007147365146213108, 9, 0.06432628631591797)\n",
      "(0.002383073170979818, 9, 0.02144765853881836)\n",
      "---------------------------------------------\n",
      "('ac26ZMwG7aT', '02d5d7f4541048d8b530bb190c13b6a2')\n",
      "(0.002024374008178711, 50, 0.10121870040893555)\n",
      "(0.0014967861629667737, 42, 0.06286501884460449)\n",
      "(0.001242940808519905, 81, 0.1006782054901123)\n",
      "---------------------------------------------\n",
      "('8WUmhLawc2A', 'cc356636fdbf45769882f5912bc6d009')\n",
      "(0.00010624217987060547, 500, 0.053121089935302734)\n",
      "(0.0007089219595256605, 76, 0.053878068923950195)\n",
      "(0.000336301326751709, 40, 0.01345205307006836)\n",
      "---------------------------------------------\n",
      "('8WUmhLawc2A', 'edd9ad6949ee4c87a89edec2ca8e3dcd')\n",
      "(0.00017420768737792968, 50, 0.008710384368896484)\n",
      "(0.005938609441121419, 9, 0.05344748497009277)\n",
      "(0.0005643658521698742, 41, 0.023138999938964844)\n",
      "---------------------------------------------\n",
      "('ac26ZMwG7aT', 'ffc3e703e412473da5216cca31f17292')\n",
      "(0.0008298873901367188, 50, 0.04149436950683594)\n",
      "(0.0015016487666538784, 35, 0.05255770683288574)\n",
      "(0.0014380534489949544, 30, 0.04314160346984863)\n",
      "---------------------------------------------\n",
      "('ac26ZMwG7aT', 'cc03fd369f254cd985894b77fd8babde')\n",
      "(0.00014661175864083426, 350, 0.05131411552429199)\n",
      "(0.00041606245922441243, 119, 0.04951143264770508)\n",
      "(0.0002213256565604623, 127, 0.02810835838317871)\n",
      "---------------------------------------------\n",
      "('8WUmhLawc2A', 'bf249d0d4e364c85bcd322f564abc705')\n",
      "(0.0004389381408691406, 50, 0.02194690704345703)\n",
      "(0.005452076594034831, 9, 0.04906868934631348)\n",
      "(0.0012712478637695312, 10, 0.012712478637695312)\n",
      "---------------------------------------------\n",
      "('ac26ZMwG7aT', 'fb6bdce12ffa4d87a740d226ae62c38c')\n",
      "(0.0008246564865112305, 50, 0.04123282432556152)\n",
      "(0.004855942726135254, 10, 0.04855942726135254)\n",
      "(3.409385681152344e-05, 3, 0.00010228157043457031)\n",
      "---------------------------------------------\n",
      "('ac26ZMwG7aT', '828b8f02ffd145ac8b351cbb70682dc2')\n",
      "(0.00042834281921386717, 200, 0.08566856384277344)\n",
      "(0.0009264625035799467, 52, 0.04817605018615723)\n",
      "(0.0015279928843180339, 15, 0.022919893264770508)\n",
      "---------------------------------------------\n",
      "('8WUmhLawc2A', 'b192bc595e9b4d61963030b9f8e01f4b')\n",
      "(0.00016930103302001954, 100, 0.016930103302001953)\n",
      "(0.0023957014083862303, 20, 0.04791402816772461)\n",
      "(0.0011892080307006835, 10, 0.011892080307006836)\n",
      "---------------------------------------------\n",
      "('8WUmhLawc2A', '44121bda3e5548c19b595e16c8e59c59')\n",
      "(0.00011710484822591146, 300, 0.03513145446777344)\n",
      "(0.0011555159964212558, 41, 0.047376155853271484)\n",
      "(0.0021382740565708707, 7, 0.014967918395996094)\n",
      "---------------------------------------------\n",
      "('cV4RVeZvu5T', '1a6418a306b8448a8529ffc6cb508d8a')\n",
      "(1.2933221356622103e-05, 2900, 0.0375063419342041)\n",
      "(0.00017040386957382038, 277, 0.04720187187194824)\n",
      "(0.0003922439756847563, 84, 0.03294849395751953)\n",
      "---------------------------------------------\n",
      "('ac26ZMwG7aT', '73892c22eef14d169e24e007a8e544d9')\n",
      "(0.0005867735544840495, 150, 0.08801603317260742)\n",
      "(0.001811852821936974, 26, 0.04710817337036133)\n",
      "(0.0004830121994018555, 60, 0.028980731964111328)\n",
      "---------------------------------------------\n",
      "('ac26ZMwG7aT', '96b25d845ff447cc989dfd87c88ff8b8')\n",
      "(2.4320284525553384e-05, 450, 0.010944128036499023)\n",
      "(0.0004520760132716252, 104, 0.04701590538024902)\n",
      "(3.246700062471278e-05, 85, 0.002759695053100586)\n",
      "---------------------------------------------\n",
      "('ac26ZMwG7aT', '7e3ee6d9948547619b1ef64c8bf3b350')\n",
      "(0.0016243696212768556, 50, 0.08121848106384277)\n",
      "(0.005205922656589084, 9, 0.04685330390930176)\n",
      "(0.0006055465111365685, 52, 0.03148841857910156)\n",
      "---------------------------------------------\n",
      "('cV4RVeZvu5T', '5228fb701a24444792589b362ee1a1ed')\n",
      "(0.0006718873977661133, 50, 0.033594369888305664)\n",
      "(0.003519626764150766, 13, 0.04575514793395996)\n",
      "(0.0006019553622683963, 37, 0.022272348403930664)\n",
      "---------------------------------------------\n",
      "('ac26ZMwG7aT', '94454c1b315a44d196fe92f48ee83804')\n",
      "(0.000632014274597168, 100, 0.0632014274597168)\n",
      "(0.00239487698203639, 19, 0.045502662658691406)\n",
      "(0.004283475875854492, 10, 0.04283475875854492)\n",
      "---------------------------------------------\n",
      "('cV4RVeZvu5T', 'c8a362a30cc24a5f952f1818a5f28048')\n",
      "(0.0005529499053955078, 50, 0.02764749526977539)\n",
      "(0.0025035407808091906, 18, 0.04506373405456543)\n",
      "(0.0009468043292010272, 27, 0.025563716888427734)\n",
      "---------------------------------------------\n",
      "('ac26ZMwG7aT', '650897afb8594b7cb9bdb89f4ec38f7d')\n",
      "(0.001666097640991211, 50, 0.08330488204956055)\n",
      "(0.008926105499267579, 5, 0.04463052749633789)\n"
     ]
    },
    {
     "ename": "KeyError",
     "evalue": "('ac26ZMwG7aT', '650897afb8594b7cb9bdb89f4ec38f7d')",
     "output_type": "error",
     "traceback": [
      "\u001b[0;31m---------------------------------------------------------------------------\u001b[0m",
      "\u001b[0;31mKeyError\u001b[0m                                  Traceback (most recent call last)",
      "\u001b[0;32m<ipython-input-259-56bb257b5cb0>\u001b[0m in \u001b[0;36m<module>\u001b[0;34m()\u001b[0m\n\u001b[1;32m      4\u001b[0m         \u001b[0mprint\u001b[0m \u001b[0;34m(\u001b[0m\u001b[0mscan_v_time_data_100\u001b[0m\u001b[0;34m[\u001b[0m\u001b[0mtup\u001b[0m\u001b[0;34m[\u001b[0m\u001b[0;36m0\u001b[0m\u001b[0;34m]\u001b[0m\u001b[0;34m]\u001b[0m\u001b[0;34m)\u001b[0m\u001b[0;34m\u001b[0m\u001b[0m\n\u001b[1;32m      5\u001b[0m         \u001b[0mprint\u001b[0m \u001b[0;34m(\u001b[0m\u001b[0mscan_v_time_data_1078\u001b[0m\u001b[0;34m[\u001b[0m\u001b[0mtup\u001b[0m\u001b[0;34m[\u001b[0m\u001b[0;36m0\u001b[0m\u001b[0;34m]\u001b[0m\u001b[0;34m]\u001b[0m\u001b[0;34m)\u001b[0m\u001b[0;34m\u001b[0m\u001b[0m\n\u001b[0;32m----> 6\u001b[0;31m         \u001b[0mprint\u001b[0m \u001b[0;34m(\u001b[0m\u001b[0mscan_v_time_data_94798\u001b[0m\u001b[0;34m[\u001b[0m\u001b[0mtup\u001b[0m\u001b[0;34m[\u001b[0m\u001b[0;36m0\u001b[0m\u001b[0;34m]\u001b[0m\u001b[0;34m]\u001b[0m\u001b[0;34m)\u001b[0m\u001b[0;34m\u001b[0m\u001b[0m\n\u001b[0m\u001b[1;32m      7\u001b[0m         \u001b[0;31m# print (scan_v_time_data_94798_2[tup[0]])\u001b[0m\u001b[0;34m\u001b[0m\u001b[0;34m\u001b[0m\u001b[0m\n\u001b[1;32m      8\u001b[0m         \u001b[0mprint\u001b[0m \u001b[0;34m(\u001b[0m\u001b[0;34m\"---------------------------------------------\"\u001b[0m\u001b[0;34m)\u001b[0m\u001b[0;34m\u001b[0m\u001b[0m\n",
      "\u001b[0;31mKeyError\u001b[0m: ('ac26ZMwG7aT', '650897afb8594b7cb9bdb89f4ec38f7d')"
     ]
    }
   ],
   "source": [
    "for tup in sort_tups_by_sum_1078:\n",
    "    if tup[0] in scan_v_time_data_100:\n",
    "        print (tup[0])\n",
    "        print (scan_v_time_data_100[tup[0]])\n",
    "        print (scan_v_time_data_1078[tup[0]])\n",
    "        print (scan_v_time_data_94798[tup[0]])\n",
    "        # print (scan_v_time_data_94798_2[tup[0]])\n",
    "        print (\"---------------------------------------------\")"
   ]
  },
  {
   "cell_type": "code",
   "execution_count": null,
   "metadata": {},
   "outputs": [],
   "source": [
    "for d in data_1078:\n",
    "    "
   ]
  },
  {
   "cell_type": "code",
   "execution_count": null,
   "metadata": {},
   "outputs": [],
   "source": []
  },
  {
   "cell_type": "code",
   "execution_count": 180,
   "metadata": {},
   "outputs": [],
   "source": [
    "%matplotlib inline\n",
    "import matplotlib.pyplot as plt\n",
    "plt.style.use('seaborn-whitegrid')\n",
    "import numpy as np"
   ]
  },
  {
   "cell_type": "code",
   "execution_count": 218,
   "metadata": {},
   "outputs": [
    {
     "data": {
      "text/plain": [
       "[<matplotlib.lines.Line2D at 0x7f03e2aef978>]"
      ]
     },
     "execution_count": 218,
     "metadata": {},
     "output_type": "execute_result"
    },
    {
     "data": {
      "image/png": "[encoded data removed]",
      "text/plain": [
       "<Figure size 432x288 with 1 Axes>"
      ]
     },
     "metadata": {
      "needs_background": "light"
     },
     "output_type": "display_data"
    }
   ],
   "source": [
    "fig = plt.figure()\n",
    "ax = plt.axes()\n",
    "\n",
    "# x axis - one (scan vertex) tup per unit\n",
    "plt.plot(range(len(cumu_all_100)), cumu_all_100)\n",
    "plt.plot(range(len(cumu_all_1078)), cumu_all_1078)"
   ]
  },
  {
   "cell_type": "code",
   "execution_count": null,
   "metadata": {},
   "outputs": [],
   "source": [
    "# if all tuples take same amount of time and are called same number of times -- no elbow\n",
    "# if some tuples take a lot longer -- elbow\n",
    "# if some tuples are called much more -- elbow\n",
    "\n",
    "# 800 of the 1400 tuples are responsible for this elbow"
   ]
  },
  {
   "cell_type": "code",
   "execution_count": 197,
   "metadata": {},
   "outputs": [],
   "source": [
    "sort_tups_by_sum_keys = [tup[0] for tup in sort_tups_by_sum]"
   ]
  },
  {
   "cell_type": "code",
   "execution_count": 205,
   "metadata": {},
   "outputs": [],
   "source": [
    "# Look at positions of data 1000 (scan, vertex) tuples on this curve here\n",
    "\n",
    "v_in_data_1078 = []\n",
    "c = 0\n",
    "for tup in scan_viewpt_pairs:\n",
    "    if tup in sort_tups_by_sum_keys:\n",
    "        v_in_data_1078.append(sort_tups_by_sum_keys.index(tup))\n",
    "        c += 1"
   ]
  },
  {
   "cell_type": "code",
   "execution_count": 202,
   "metadata": {},
   "outputs": [
    {
     "data": {
      "text/plain": [
       "698"
      ]
     },
     "execution_count": 202,
     "metadata": {},
     "output_type": "execute_result"
    }
   ],
   "source": [
    "len(v_in_data_1078)"
   ]
  },
  {
   "cell_type": "markdown",
   "metadata": {},
   "source": [
    "## Inspect size of scans in different datasets"
   ]
  },
  {
   "cell_type": "code",
   "execution_count": 265,
   "metadata": {},
   "outputs": [
    {
     "name": "stdout",
     "output_type": "stream",
     "text": [
      "56\n",
      "3\n",
      "31\n"
     ]
    }
   ],
   "source": [
    "print(len(all_tr_scans))\n",
    "print(len(scan_set_100))\n",
    "print(len(scan_set_1078))"
   ]
  },
  {
   "cell_type": "code",
   "execution_count": 268,
   "metadata": {},
   "outputs": [
    {
     "data": {
      "text/plain": [
       "{'8WUmhLawc2A', 'ac26ZMwG7aT', 'cV4RVeZvu5T'}"
      ]
     },
     "execution_count": 268,
     "metadata": {},
     "output_type": "execute_result"
    }
   ],
   "source": [
    "scan_set_100"
   ]
  },
  {
   "cell_type": "code",
   "execution_count": 269,
   "metadata": {},
   "outputs": [],
   "source": [
    "# on average, how many vertices are there for each scan set\n",
    "graph = utils.load_nav_graphs('8WUmhLawc2A', path=None)"
   ]
  },
  {
   "cell_type": "code",
   "execution_count": 273,
   "metadata": {},
   "outputs": [
    {
     "data": {
      "text/plain": [
       "95"
      ]
     },
     "execution_count": 273,
     "metadata": {},
     "output_type": "execute_result"
    }
   ],
   "source": [
    "len(graph.nodes)"
   ]
  },
  {
   "cell_type": "code",
   "execution_count": 283,
   "metadata": {},
   "outputs": [
    {
     "name": "stdout",
     "output_type": "stream",
     "text": [
      "scan sizes for dataset 100, 3 scans: \n",
      "[90, 95, 165]\n"
     ]
    }
   ],
   "source": [
    "scan_sizes_100 = []\n",
    "for scan in scan_set_100:\n",
    "    graph = utils.load_nav_graphs(scan, path=None)\n",
    "    scan_sizes_100.append(len(graph.nodes))\n",
    "\n",
    "print (\"scan sizes for dataset 100, {} scans: \\n{}\".format(len(scan_set_100), scan_sizes_100))"
   ]
  },
  {
   "cell_type": "code",
   "execution_count": 321,
   "metadata": {},
   "outputs": [
    {
     "name": "stdout",
     "output_type": "stream",
     "text": [
      "cV4RVeZvu5T\n",
      "8WUmhLawc2A\n",
      "ac26ZMwG7aT\n",
      "scan sizes for dataset 100, 3 scans: \n",
      "[90, 95, 165]\n"
     ]
    }
   ],
   "source": [
    "scan_sizes_100 = []\n",
    "for scan in scan_set_100:\n",
    "    print(scan)\n",
    "    graph = utils.load_nav_graphs(scan, path=None)\n",
    "    scan_sizes_100.append(len(graph.nodes))\n",
    "\n",
    "print (\"scan sizes for dataset 100, {} scans: \\n{}\".format(len(scan_set_100), scan_sizes_100))"
   ]
  },
  {
   "cell_type": "code",
   "execution_count": 284,
   "metadata": {},
   "outputs": [
    {
     "name": "stdout",
     "output_type": "stream",
     "text": [
      "scan sizes for dataset 1078, 31 scans: \n",
      " [131, 81, 84, 165, 90, 95, 56, 167, 135, 127, 231, 110, 71, 89, 61, 123, 114, 289, 186, 189, 141, 131, 106, 109, 152, 140, 70, 87, 95, 101, 79]\n"
     ]
    }
   ],
   "source": [
    "scan_sizes_1078 = []\n",
    "for scan in scan_set_1078:\n",
    "    graph = utils.load_nav_graphs(scan, path=None)\n",
    "    scan_sizes_1078.append(len(graph.nodes))\n",
    "\n",
    "print (\"scan sizes for dataset 1078, {} scans: \\n{}\".format(len(scan_sizes_1078), scan_sizes_1078))"
   ]
  },
  {
   "cell_type": "code",
   "execution_count": 301,
   "metadata": {},
   "outputs": [
    {
     "name": "stdout",
     "output_type": "stream",
     "text": [
      "scan sizes for dataset full training, 56 scans: \n",
      "[49, 131, 81, 77, 217, 84, 34, 34, 165, 61, 90, 113, 95, 345, 56, 167, 135, 127, 231, 110, 123, 71, 89, 265, 12, 123, 114, 289, 186, 189, 141, 118, 337, 131, 61, 109, 213, 102, 44, 106, 48, 101, 137, 282, 199, 152, 140, 50, 70, 87, 95, 157, 118, 61, 79, 260]\n"
     ]
    }
   ],
   "source": [
    "scan_sizes_tr = []\n",
    "all_tr_scans_list = list(all_tr_scans)\n",
    "for scan in all_tr_scans_list:\n",
    "    graph = utils.load_nav_graphs(scan, path=None)\n",
    "    scan_sizes_tr.append(len(graph.nodes))\n",
    "\n",
    "print (\"scan sizes for dataset full training, {} scans: \\n{}\".format(len(all_tr_scans), scan_sizes_tr))"
   ]
  },
  {
   "cell_type": "code",
   "execution_count": 299,
   "metadata": {},
   "outputs": [
    {
     "data": {
      "text/plain": [
       "129.66071428571428"
      ]
     },
     "execution_count": 299,
     "metadata": {},
     "output_type": "execute_result"
    }
   ],
   "source": [
    "np.average(scan_sizes_tr)"
   ]
  },
  {
   "cell_type": "code",
   "execution_count": 297,
   "metadata": {},
   "outputs": [
    {
     "name": "stdout",
     "output_type": "stream",
     "text": [
      "scan sizes for dataset full training - 1078, 25 scans: \n",
      "[('JF19kD82Mey', 49), ('ZMojNkEp431', 77), ('E9uDoFAP3SH', 217), ('Pm6F8kyY3z2', 34), ('HxpKQynjfin', 34), ('r47D5H71a5s', 61), ('r1Q1Z4BcV1o', 113), ('B6ByNegPMKs', 345), ('GdvgFV5R1Z5', 12), ('VLzqgDo317F', 123), ('SN83YJsR3w2', 265), ('rPc6DW4iMge', 118), ('vyrNrziPKCB', 337), ('VVfe2KiqLaN', 61), ('uNb9QFRL6hY', 213), ('29hnd4uzFmX', 102), ('17DRP5sb8fy', 44), ('jh4fc5c5qoQ', 48), ('Uxmj2M2itWa', 137), ('PX4nDJXEHrG', 282), ('kEZ7cmS4wCh', 199), ('s8pcmisQ38h', 50), ('V2XKFyX4ASd', 157), ('ur6pFq6Qu1A', 118), ('D7N2EKCX4Sj', 260)]\n"
     ]
    }
   ],
   "source": [
    "scan_sizes_diff_full_tr_1078 = []\n",
    "scan_diff_set = list(set(all_tr_scans) - set(scan_set_1078))\n",
    "for scan in scan_diff_set:\n",
    "    graph = utils.load_nav_graphs(scan, path=None)\n",
    "    scan_sizes_diff_full_tr_1078.append(len(graph.nodes))\n",
    "\n",
    "print (\"scan sizes for dataset full training - 1078, {} scans: \\n{}\".format\\\n",
    "       (len(scan_diff_set), list(zip(scan_diff_set,scan_sizes_diff_full_tr_1078))))"
   ]
  },
  {
   "cell_type": "raw",
   "metadata": {},
   "source": [
    "[('vyrNrziPKCB', 5.678904290015337e-05),\n",
    " ('B6ByNegPMKs', 5.617932195248811e-05),\n",
    " ('PX4nDJXEHrG', 4.984587642317968e-05),\n",
    " ('VzqfbhrpDEA', 4.785925723277161e-05),\n",
    " ('D7N2EKCX4Sj', 4.535235606707059e-05),\n",
    " ('SN83YJsR3w2', 4.351669041615612e-05),\n",
    " ('kEZ7cmS4wCh', 3.839941096665272e-05),\n",
    " ('gTV8FGcVJC9', 3.740342974146723e-05),\n",
    " ('uNb9QFRL6hY', 3.712928485422627e-05),\n",
    " ('E9uDoFAP3SH', 3.496930829940304e-05),\n",
    " ('mJXqzFtmKg4', 3.23151984542766e-05),\n",
    " ('2n8kARJN3HM', 3.230650527502901e-05),\n",
    " ('VFuaQ6m2Qom', 2.916946011389087e-05),\n",
    " ('ac26ZMwG7aT', 2.849974603363962e-05),\n",
    " ('V2XKFyX4ASd', 2.8382171946726026e-05),\n",
    " ('29hnd4uzFmX', 2.7653134102914846e-05),\n",
    " ('p5wJjkQkbXX', 2.7583873271942138e-05),\n",
    " ('5LpN3gDmAk7', 2.6229000091552734e-05),\n",
    " ('Vvot9Ly1tCj', 2.5978281142863822e-05),\n",
    " ('Uxmj2M2itWa', 2.5940534842275356e-05),\n",
    " ('82sE5b5pLXE', 2.5053222091109665e-05),\n",
    " ('1LXtFkjw3qL', 2.427972546060577e-05),\n",
    " ('sKLMLpTHeUy', 2.3369035570640264e-05),\n",
    " ('VLzqgDo317F', 2.3363176981608073e-05),\n",
    " ('pRbA3pwrgk9', 2.3230160348783665e-05),\n",
    " ('ur6pFq6Qu1A', 2.3002934455871583e-05),\n",
    " ('qoiz87JEwZ2', 2.2683939314980543e-05),\n",
    " ('rPc6DW4iMge', 2.1974692102205956e-05),\n",
    " ('b8cTxDM8gDG', 2.1824954685411955e-05),\n",
    " ('7y3sRwLe3Va', 2.1472212953387567e-05),\n",
    " ('r1Q1Z4BcV1o', 2.1002310356207652e-05),\n",
    " ('XcA2TqTSSAj', 2.0827289458808548e-05),\n",
    " ('S9hNv5qa7GM', 2.0667191418734464e-05),\n",
    " ('ULsKaCPVFJR', 1.9494733716001604e-05),\n",
    " ('8WUmhLawc2A', 1.9309426357871606e-05),\n",
    " ('1pXnuDYAj8r', 1.824036999752647e-05),\n",
    " ('e9zR4mvMWw7', 1.7765151495221018e-05),\n",
    " ('JeFG25nYj2p', 1.772778488340832e-05),\n",
    " ('5q7pvUzZiYa', 1.7673686916908522e-05),\n",
    " ('cV4RVeZvu5T', 1.751097626156277e-05),\n",
    " ('JmbYfDe2QKZ', 1.7284818842441222e-05),\n",
    " ('aayBHfsNo7d', 1.5896319671415947e-05),\n",
    " ('ZMojNkEp431', 1.5741916755577187e-05),\n",
    " ('sT4fr6TAbpF', 1.543209699936855e-05),\n",
    " ('EDJbREhghzL', 1.5231962203979491e-05),\n",
    " ('759xd9YjKW5', 1.4456054812572042e-05),\n",
    " ('VVfe2KiqLaN', 1.4448602863999664e-05),\n",
    " ('r47D5H71a5s', 1.3573218955368292e-05),\n",
    " ('i5noydFURQK', 1.3102413926805769e-05),\n",
    " ('jh4fc5c5qoQ', 1.2697197993596394e-05),\n",
    " ('17DRP5sb8fy', 1.2687516212463379e-05),\n",
    " ('s8pcmisQ38h', 1.2670090675354004e-05),\n",
    " ('HxpKQynjfin', 1.1711249631993911e-05),\n",
    " ('JF19kD82Mey', 1.1698499990969289e-05),\n",
    " ('Pm6F8kyY3z2', 1.019445727853214e-05),\n",
    " ('GdvgFV5R1Z5', 9.290905793507893e-06)]"
   ]
  },
  {
   "cell_type": "markdown",
   "metadata": {},
   "source": [
    "## How representative are large scans in data 1078 vs full training"
   ]
  },
  {
   "cell_type": "code",
   "execution_count": 309,
   "metadata": {},
   "outputs": [
    {
     "name": "stdout",
     "output_type": "stream",
     "text": [
      "22\n",
      "9\n"
     ]
    }
   ],
   "source": [
    "large_size_scan_set = [scan for (i, scan) in enumerate(all_tr_scans_list) if scan_sizes_tr[i] > 129]\n",
    "print(len(large_size_scan_set))\n",
    "\n",
    "extra_large_size_scan_set = [scan for (i, scan) in enumerate(all_tr_scans_list) if scan_sizes_tr[i] > 200]\n",
    "print(len(extra_large_size_scan_set))"
   ]
  },
  {
   "cell_type": "code",
   "execution_count": 311,
   "metadata": {},
   "outputs": [
    {
     "name": "stdout",
     "output_type": "stream",
     "text": [
      "486\n",
      "0.45083487940630795\n",
      "93\n",
      "0.0862708719851577\n"
     ]
    }
   ],
   "source": [
    "ct_large_scan = 0\n",
    "ct_extra_large_scan = 0\n",
    "for d in data_1078:\n",
    "    if d['scan'] in large_size_scan_set:\n",
    "        ct_large_scan += 1\n",
    "    if d['scan'] in extra_large_size_scan_set:\n",
    "        ct_extra_large_scan += 1\n",
    "        \n",
    "print (ct_large_scan)\n",
    "print (ct_large_scan / 1078)\n",
    "print (ct_extra_large_scan)\n",
    "print (ct_extra_large_scan / 1078)"
   ]
  },
  {
   "cell_type": "code",
   "execution_count": 310,
   "metadata": {},
   "outputs": [
    {
     "name": "stdout",
     "output_type": "stream",
     "text": [
      "54278\n",
      "0.5725648220426591\n",
      "24114\n",
      "0.2543724551150868\n"
     ]
    }
   ],
   "source": [
    "ct_large_scan = 0\n",
    "ct_extra_large_scan = 0\n",
    "for d in data_full:\n",
    "    if d['scan'] in large_size_scan_set:\n",
    "        ct_large_scan += 1\n",
    "    if d['scan'] in extra_large_size_scan_set:\n",
    "        ct_extra_large_scan += 1\n",
    "        \n",
    "print (ct_large_scan)\n",
    "print (ct_large_scan / 94798)\n",
    "print (ct_extra_large_scan)\n",
    "print (ct_extra_large_scan / 94798)"
   ]
  },
  {
   "cell_type": "code",
   "execution_count": 314,
   "metadata": {},
   "outputs": [],
   "source": [
    "scan_ctr = []\n",
    "for d in data_full:\n",
    "    scan_ctr.append(d['scan'])\n",
    "    \n",
    "scan_counter = Counter(scan_ctr)"
   ]
  },
  {
   "cell_type": "code",
   "execution_count": 319,
   "metadata": {},
   "outputs": [
    {
     "data": {
      "text/plain": [
       "56"
      ]
     },
     "execution_count": 319,
     "metadata": {},
     "output_type": "execute_result"
    }
   ],
   "source": [
    "len(scan_counter)"
   ]
  },
  {
   "cell_type": "code",
   "execution_count": 315,
   "metadata": {
    "scrolled": false
   },
   "outputs": [
    {
     "data": {
      "text/plain": [
       "[('ac26ZMwG7aT', 5907),\n",
       " ('VzqfbhrpDEA', 5417),\n",
       " ('vyrNrziPKCB', 5184),\n",
       " ('mJXqzFtmKg4', 4330),\n",
       " ('Vvot9Ly1tCj', 3987),\n",
       " ('gTV8FGcVJC9', 3660),\n",
       " ('1pXnuDYAj8r', 3275),\n",
       " ('cV4RVeZvu5T', 3271),\n",
       " ('p5wJjkQkbXX', 2867),\n",
       " ('2n8kARJN3HM', 2780),\n",
       " ('EDJbREhghzL', 2725),\n",
       " ('8WUmhLawc2A', 2612),\n",
       " ('SN83YJsR3w2', 2384),\n",
       " ('JmbYfDe2QKZ', 2364),\n",
       " ('759xd9YjKW5', 2217),\n",
       " ('uNb9QFRL6hY', 2071),\n",
       " ('JeFG25nYj2p', 1941),\n",
       " ('qoiz87JEwZ2', 1923),\n",
       " ('PX4nDJXEHrG', 1910),\n",
       " ('D7N2EKCX4Sj', 1907),\n",
       " ('aayBHfsNo7d', 1735),\n",
       " ('b8cTxDM8gDG', 1712),\n",
       " ('82sE5b5pLXE', 1652),\n",
       " ('5LpN3gDmAk7', 1626),\n",
       " ('1LXtFkjw3qL', 1493),\n",
       " ('kEZ7cmS4wCh', 1469),\n",
       " ('ULsKaCPVFJR', 1412),\n",
       " ('ZMojNkEp431', 1409),\n",
       " ('e9zR4mvMWw7', 1370),\n",
       " ('VFuaQ6m2Qom', 1368),\n",
       " ('rPc6DW4iMge', 1354),\n",
       " ('S9hNv5qa7GM', 1180),\n",
       " ('5q7pvUzZiYa', 1151),\n",
       " ('pRbA3pwrgk9', 1126),\n",
       " ('E9uDoFAP3SH', 1051),\n",
       " ('17DRP5sb8fy', 1040),\n",
       " ('XcA2TqTSSAj', 896),\n",
       " ('i5noydFURQK', 806),\n",
       " ('7y3sRwLe3Va', 806),\n",
       " ('sT4fr6TAbpF', 793),\n",
       " ('r47D5H71a5s', 676),\n",
       " ('jh4fc5c5qoQ', 639),\n",
       " ('r1Q1Z4BcV1o', 611),\n",
       " ('Uxmj2M2itWa', 557),\n",
       " ('VVfe2KiqLaN', 556),\n",
       " ('ur6pFq6Qu1A', 553),\n",
       " ('B6ByNegPMKs', 530),\n",
       " ('JF19kD82Mey', 528),\n",
       " ('sKLMLpTHeUy', 521),\n",
       " ('29hnd4uzFmX', 500),\n",
       " ('HxpKQynjfin', 289),\n",
       " ('V2XKFyX4ASd', 205),\n",
       " ('VLzqgDo317F', 204),\n",
       " ('s8pcmisQ38h', 177),\n",
       " ('GdvgFV5R1Z5', 60),\n",
       " ('Pm6F8kyY3z2', 11)]"
      ]
     },
     "execution_count": 315,
     "metadata": {},
     "output_type": "execute_result"
    }
   ],
   "source": [
    "scan_counter.most_common()"
   ]
  },
  {
   "cell_type": "code",
   "execution_count": 316,
   "metadata": {},
   "outputs": [],
   "source": [
    "scan_names = [tup[0] for tup in scan_counter.most_common()]\n",
    "scan_ct = [tup[1] for tup in scan_counter.most_common()]"
   ]
  },
  {
   "cell_type": "code",
   "execution_count": 318,
   "metadata": {},
   "outputs": [
    {
     "data": {
      "text/plain": [
       "<BarContainer object of 56 artists>"
      ]
     },
     "execution_count": 318,
     "metadata": {},
     "output_type": "execute_result"
    },
    {
     "data": {
      "image/png": "[encoded data removed]",
      "text/plain": [
       "<Figure size 1440x720 with 1 Axes>"
      ]
     },
     "metadata": {
      "needs_background": "light"
     },
     "output_type": "display_data"
    }
   ],
   "source": [
    "plt.figure(figsize=(20,10))\n",
    "plt.bar(scan_names, scan_ct)"
   ]
  },
  {
   "cell_type": "code",
   "execution_count": null,
   "metadata": {},
   "outputs": [],
   "source": []
  }
 ],
 "metadata": {
  "kernelspec": {
   "display_name": "Python [conda env:py35]",
   "language": "python",
   "name": "conda-env-py35-py"
  },
  "language_info": {
   "codemirror_mode": {
    "name": "ipython",
    "version": 3
   },
   "file_extension": ".py",
   "mimetype": "text/x-python",
   "name": "python",
   "nbconvert_exporter": "python",
   "pygments_lexer": "ipython3",
   "version": "3.5.5"
  }
 },
 "nbformat": 4,
 "nbformat_minor": 2
}
