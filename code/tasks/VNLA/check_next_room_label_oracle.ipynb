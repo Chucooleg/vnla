{
 "cells": [
  {
   "cell_type": "code",
   "execution_count": 7,
   "metadata": {},
   "outputs": [],
   "source": [
    "import sys\n",
    "\n",
    "sys.path.append('../../build')\n",
    "import MatterSim"
   ]
  },
  {
   "cell_type": "code",
   "execution_count": 13,
   "metadata": {},
   "outputs": [],
   "source": [
    "os.environ['PT_DATA_DIR'] = '/home/hoyeung/blob_matterport3d/'"
   ]
  },
  {
   "cell_type": "code",
   "execution_count": 15,
   "metadata": {},
   "outputs": [],
   "source": [
    "import pickle\n",
    "import math\n",
    "import os\n",
    "import utils"
   ]
  },
  {
   "cell_type": "code",
   "execution_count": 4,
   "metadata": {},
   "outputs": [],
   "source": [
    "DIR = '/home/hoyeung/Documents/vnla/'\n",
    "\n",
    "with open(DIR+\"dummy_obs_scan.pickle\", \"rb\") as f:\n",
    "    scans = pickle.load(f)\n",
    "\t\n",
    "with open(DIR+\"dummy_obs_viewpoint.pickle\", \"rb\") as f:\n",
    "    viewpoints = pickle.load(f)\n",
    "\t\n",
    "with open(DIR+\"dummy_obs_elevation.pickle\", \"rb\") as f:\n",
    "    elevations = pickle.load(f) \n",
    "\n",
    "with open(DIR+\"dummy_obs_heading.pickle\", \"rb\") as f:\n",
    "    headings = pickle.load(f)\n",
    "\t\n",
    "with open(DIR+\"rm_label_indices.pickle\", \"rb\") as f:\n",
    "    rm_label_indices = pickle.load(f) "
   ]
  },
  {
   "cell_type": "code",
   "execution_count": 6,
   "metadata": {},
   "outputs": [
    {
     "data": {
      "text/plain": [
       "['cV4RVeZvu5T',\n",
       " '1pXnuDYAj8r',\n",
       " 'VFuaQ6m2Qom',\n",
       " 'ac26ZMwG7aT',\n",
       " 'jh4fc5c5qoQ',\n",
       " 'ur6pFq6Qu1A',\n",
       " 'JmbYfDe2QKZ',\n",
       " 'JeFG25nYj2p',\n",
       " '5LpN3gDmAk7',\n",
       " '1pXnuDYAj8r']"
      ]
     },
     "execution_count": 6,
     "metadata": {},
     "output_type": "execute_result"
    }
   ],
   "source": [
    "scans[:10]"
   ]
  },
  {
   "cell_type": "code",
   "execution_count": 14,
   "metadata": {},
   "outputs": [],
   "source": [
    "sim = MatterSim.Simulator()\n",
    "sim.setRenderingEnabled(False)\n",
    "sim.setDiscretizedViewingAngles(True)\n",
    "sim.setCameraResolution(640, 480)\n",
    "sim.setCameraVFOV(math.radians(60))\n",
    "sim.setNavGraphPath(os.path.join(os.getenv('PT_DATA_DIR'), 'connectivity'))\n",
    "sim.init()"
   ]
  },
  {
   "cell_type": "code",
   "execution_count": 27,
   "metadata": {},
   "outputs": [],
   "source": [
    "next_vertex_rms = []\n",
    "next_vertex_rms_indices = []\n",
    "for i in range(len(scans)):\n",
    "    sim.newEpisode(scans[i], viewpoints[i], headings[i], elevations[i])\n",
    "    state = sim.getState()\n",
    "    if len(state.navigableLocations) > 1:\n",
    "        closest_vertex = state.navigableLocations[1].viewpointId\n",
    "        pano_to_region = utils.load_panos_to_region(scans[i], '')\n",
    "        next_vertex_rm = pano_to_region[closest_vertex]\n",
    "        next_vertex_rms.append(next_vertex_rm)\n",
    "        next_vertex_rms_indices.append(room_types.index(next_vertex_rm))\n",
    "    else:\n",
    "        next_vertex_rms.append(None)\n",
    "        next_vertex_rms_indices.append(None)"
   ]
  },
  {
   "cell_type": "code",
   "execution_count": 22,
   "metadata": {},
   "outputs": [
    {
     "data": {
      "text/plain": [
       "100"
      ]
     },
     "execution_count": 22,
     "metadata": {},
     "output_type": "execute_result"
    }
   ],
   "source": [
    "len(next_vertex_rms)"
   ]
  },
  {
   "cell_type": "code",
   "execution_count": 23,
   "metadata": {
    "scrolled": true
   },
   "outputs": [
    {
     "data": {
      "text/plain": [
       "30"
      ]
     },
     "execution_count": 23,
     "metadata": {},
     "output_type": "execute_result"
    }
   ],
   "source": [
    "with open('/home/hoyeung/blob_matterport3d/semantics/asknav_tr_room_types.txt', \"r\") as f:\n",
    "    room_types = f.read().split('\\n')[:-1]\n",
    "len(room_types)"
   ]
  },
  {
   "cell_type": "code",
   "execution_count": 31,
   "metadata": {},
   "outputs": [
    {
     "data": {
      "text/plain": [
       "9"
      ]
     },
     "execution_count": 31,
     "metadata": {},
     "output_type": "execute_result"
    }
   ],
   "source": [
    "next_vertex_rms_indices[79]"
   ]
  },
  {
   "cell_type": "code",
   "execution_count": null,
   "metadata": {},
   "outputs": [],
   "source": []
  }
 ],
 "metadata": {
  "kernelspec": {
   "display_name": "Python [conda env:py35]",
   "language": "python",
   "name": "conda-env-py35-py"
  },
  "language_info": {
   "codemirror_mode": {
    "name": "ipython",
    "version": 3
   },
   "file_extension": ".py",
   "mimetype": "text/x-python",
   "name": "python",
   "nbconvert_exporter": "python",
   "pygments_lexer": "ipython3",
   "version": "3.5.5"
  }
 },
 "nbformat": 4,
 "nbformat_minor": 2
}
