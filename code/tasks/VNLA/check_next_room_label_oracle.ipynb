{
 "cells": [
  {
   "cell_type": "code",
   "execution_count": 4,
   "metadata": {},
   "outputs": [],
   "source": [
    "import sys\n",
    "\n",
    "sys.path.append('../../build')\n",
    "import MatterSim"
   ]
  },
  {
   "cell_type": "code",
   "execution_count": 9,
   "metadata": {},
   "outputs": [],
   "source": [
    "import pickle\n",
    "import math\n",
    "import os\n",
    "import utils\n",
    "import json"
   ]
  },
  {
   "cell_type": "code",
   "execution_count": 6,
   "metadata": {},
   "outputs": [],
   "source": [
    "os.environ['PT_DATA_DIR'] = '/home/hoyeung/blob_matterport3d/'\n",
    "PT_DATA_DIR = '/home/hoyeung/blob_matterport3d/'"
   ]
  },
  {
   "cell_type": "code",
   "execution_count": 4,
   "metadata": {},
   "outputs": [],
   "source": [
    "DIR = '/home/hoyeung/Documents/vnla/'\n",
    "\n",
    "with open(DIR+\"dummy_obs_scan.pickle\", \"rb\") as f:\n",
    "    scans = pickle.load(f)\n",
    "\t\n",
    "with open(DIR+\"dummy_obs_viewpoint.pickle\", \"rb\") as f:\n",
    "    viewpoints = pickle.load(f)\n",
    "\t\n",
    "with open(DIR+\"dummy_obs_elevation.pickle\", \"rb\") as f:\n",
    "    elevations = pickle.load(f) \n",
    "\n",
    "with open(DIR+\"dummy_obs_heading.pickle\", \"rb\") as f:\n",
    "    headings = pickle.load(f)\n",
    "\t\n",
    "with open(DIR+\"rm_label_indices.pickle\", \"rb\") as f:\n",
    "    rm_label_indices = pickle.load(f) "
   ]
  },
  {
   "cell_type": "code",
   "execution_count": 6,
   "metadata": {},
   "outputs": [
    {
     "data": {
      "text/plain": [
       "['cV4RVeZvu5T',\n",
       " '1pXnuDYAj8r',\n",
       " 'VFuaQ6m2Qom',\n",
       " 'ac26ZMwG7aT',\n",
       " 'jh4fc5c5qoQ',\n",
       " 'ur6pFq6Qu1A',\n",
       " 'JmbYfDe2QKZ',\n",
       " 'JeFG25nYj2p',\n",
       " '5LpN3gDmAk7',\n",
       " '1pXnuDYAj8r']"
      ]
     },
     "execution_count": 6,
     "metadata": {},
     "output_type": "execute_result"
    }
   ],
   "source": [
    "scans[:10]"
   ]
  },
  {
   "cell_type": "code",
   "execution_count": 14,
   "metadata": {},
   "outputs": [],
   "source": [
    "sim = MatterSim.Simulator()\n",
    "sim.setRenderingEnabled(False)\n",
    "sim.setDiscretizedViewingAngles(True)\n",
    "sim.setCameraResolution(640, 480)\n",
    "sim.setCameraVFOV(math.radians(60))\n",
    "sim.setNavGraphPath(os.path.join(os.getenv('PT_DATA_DIR'), 'connectivity'))\n",
    "sim.init()"
   ]
  },
  {
   "cell_type": "code",
   "execution_count": 27,
   "metadata": {},
   "outputs": [],
   "source": [
    "next_vertex_rms = []\n",
    "next_vertex_rms_indices = []\n",
    "for i in range(len(scans)):\n",
    "    sim.newEpisode(scans[i], viewpoints[i], headings[i], elevations[i])\n",
    "    state = sim.getState()\n",
    "    if len(state.navigableLocations) > 1:\n",
    "        closest_vertex = state.navigableLocations[1].viewpointId\n",
    "        pano_to_region = utils.load_panos_to_region(scans[i], '')\n",
    "        next_vertex_rm = pano_to_region[closest_vertex]\n",
    "        next_vertex_rms.append(next_vertex_rm)\n",
    "        next_vertex_rms_indices.append(room_types.index(next_vertex_rm))\n",
    "    else:\n",
    "        next_vertex_rms.append(None)\n",
    "        next_vertex_rms_indices.append(None)"
   ]
  },
  {
   "cell_type": "code",
   "execution_count": 22,
   "metadata": {},
   "outputs": [
    {
     "data": {
      "text/plain": [
       "100"
      ]
     },
     "execution_count": 22,
     "metadata": {},
     "output_type": "execute_result"
    }
   ],
   "source": [
    "len(next_vertex_rms)"
   ]
  },
  {
   "cell_type": "code",
   "execution_count": 23,
   "metadata": {
    "scrolled": true
   },
   "outputs": [
    {
     "data": {
      "text/plain": [
       "30"
      ]
     },
     "execution_count": 23,
     "metadata": {},
     "output_type": "execute_result"
    }
   ],
   "source": [
    "with open('/home/hoyeung/blob_matterport3d/semantics/asknav_tr_room_types.txt', \"r\") as f:\n",
    "    room_types = f.read().split('\\n')[:-1]\n",
    "len(room_types)"
   ]
  },
  {
   "cell_type": "code",
   "execution_count": 31,
   "metadata": {},
   "outputs": [
    {
     "data": {
      "text/plain": [
       "9"
      ]
     },
     "execution_count": 31,
     "metadata": {},
     "output_type": "execute_result"
    }
   ],
   "source": [
    "next_vertex_rms_indices[79]"
   ]
  },
  {
   "cell_type": "code",
   "execution_count": 13,
   "metadata": {},
   "outputs": [],
   "source": [
    "with open(PT_DATA_DIR + \"asknav/asknav_train_small_three_houses_single_goal_short.json\", \"r\") as f:\n",
    "    data_100 = json.load(f)\n",
    "    \n",
    "scan_viewpt_pairs = [(d['scan'],d['paths'][0][0] )for d in data_100]\n"
   ]
  },
  {
   "cell_type": "code",
   "execution_count": 12,
   "metadata": {},
   "outputs": [
    {
     "data": {
      "text/plain": [
       "{'distances': [17.83902011259488],\n",
       " 'end_region_name': 'kitchen',\n",
       " 'end_regions': [7],\n",
       " 'heading': 5.235987755982989,\n",
       " 'instructions': ['find a sink in the kitchen .'],\n",
       " 'object_indices': [[348, 355]],\n",
       " 'object_name': 'sink',\n",
       " 'path_id': 156477,\n",
       " 'paths': [['13faa4c86406405ba802f5bdcba744ee',\n",
       "   '11fae969386e4e4fa6ed73ac9f20cd1d',\n",
       "   '735cc8eae07743a1aa5d41ba878b0eb4',\n",
       "   '057625814959401f8e969f5bfbf6cca0',\n",
       "   '91b29545634c4754bfe914564d6c950f',\n",
       "   'effea130a5984e53bd2bef2bbe4ba4c1',\n",
       "   '57b84179a9a24ff49697d9349a21bc60']],\n",
       " 'scan': 'ac26ZMwG7aT',\n",
       " 'start_region': 25,\n",
       " 'start_region_name': 'bedroom',\n",
       " 'trajectories': [[[0, 1, 0],\n",
       "   [0, 1, 0],\n",
       "   [0, 1, 0],\n",
       "   [0, 1, 0],\n",
       "   [0, 1, 0],\n",
       "   [1, 0, 0],\n",
       "   [1, 0, 0],\n",
       "   [0, -1, 0],\n",
       "   [0, -1, 0],\n",
       "   [1, 0, 0],\n",
       "   [0, -1, 0],\n",
       "   [1, 0, 0],\n",
       "   [1, 0, 0],\n",
       "   [0, 1, 0],\n",
       "   [0, 1, 0],\n",
       "   [2, 0, 0],\n",
       "   [0, 0, 0]]]}"
      ]
     },
     "execution_count": 12,
     "metadata": {},
     "output_type": "execute_result"
    }
   ],
   "source": [
    "data_100[0]"
   ]
  },
  {
   "cell_type": "code",
   "execution_count": 14,
   "metadata": {},
   "outputs": [
    {
     "data": {
      "text/plain": [
       "('ac26ZMwG7aT', '13faa4c86406405ba802f5bdcba744ee')"
      ]
     },
     "execution_count": 14,
     "metadata": {},
     "output_type": "execute_result"
    }
   ],
   "source": [
    "scan_viewpt_pairs[0]"
   ]
  },
  {
   "cell_type": "code",
   "execution_count": 15,
   "metadata": {},
   "outputs": [
    {
     "data": {
      "text/plain": [
       "100"
      ]
     },
     "execution_count": 15,
     "metadata": {},
     "output_type": "execute_result"
    }
   ],
   "source": [
    "len(scan_viewpt_pairs)"
   ]
  },
  {
   "cell_type": "code",
   "execution_count": 17,
   "metadata": {},
   "outputs": [],
   "source": [
    "curr_scan = scan_viewpt_pairs[0][0]\n",
    "pano_to_region = utils.load_panos_to_region(curr_scan, '')\n",
    "\n",
    "rm_labels = []\n",
    "for pair in scan_viewpt_pairs:\n",
    "    scan, viewpoint = pair\n",
    "    if curr_scan != scan:\n",
    "        pano_to_region = utils.load_panos_to_region(scan, '')\n",
    "        curr_scan = scan\n",
    "    rm_labels.append(pano_to_region[viewpoint])\n"
   ]
  },
  {
   "cell_type": "code",
   "execution_count": 18,
   "metadata": {},
   "outputs": [
    {
     "data": {
      "text/plain": [
       "['b',\n",
       " 'o',\n",
       " 'f',\n",
       " 'a',\n",
       " 'u',\n",
       " 'j',\n",
       " 'l',\n",
       " 'j',\n",
       " 'b',\n",
       " 'd',\n",
       " 'h',\n",
       " 'f',\n",
       " 'b',\n",
       " '-',\n",
       " 'l',\n",
       " 'u',\n",
       " 'p',\n",
       " 'u',\n",
       " 'h',\n",
       " 'b',\n",
       " '-',\n",
       " 'o',\n",
       " 'f',\n",
       " 'z',\n",
       " 's',\n",
       " 'l',\n",
       " 'h',\n",
       " 'l',\n",
       " 'b',\n",
       " 'f',\n",
       " 'c',\n",
       " 'd',\n",
       " 'd',\n",
       " 'p',\n",
       " 'l',\n",
       " 'd',\n",
       " 'a',\n",
       " 'h',\n",
       " 'o',\n",
       " 'd',\n",
       " 'a',\n",
       " 'f',\n",
       " 'a',\n",
       " 'j',\n",
       " 'd',\n",
       " 'b',\n",
       " 'p',\n",
       " 'u',\n",
       " 'b',\n",
       " 'l',\n",
       " 'j',\n",
       " 'a',\n",
       " 'f',\n",
       " 'o',\n",
       " 'o',\n",
       " 'l',\n",
       " 'c',\n",
       " 'h',\n",
       " 'p',\n",
       " 'l',\n",
       " 'v',\n",
       " 'j',\n",
       " 'z',\n",
       " 'b',\n",
       " 'e',\n",
       " 'd',\n",
       " 'b',\n",
       " 'v',\n",
       " 'j',\n",
       " 'l',\n",
       " 'l',\n",
       " 'a',\n",
       " 'h',\n",
       " 'd',\n",
       " 'l',\n",
       " 'l',\n",
       " 'f',\n",
       " 'a',\n",
       " 'h',\n",
       " 'b',\n",
       " 'c',\n",
       " 'z',\n",
       " 'b',\n",
       " 'b',\n",
       " 'v',\n",
       " 'p',\n",
       " 'h',\n",
       " 'z',\n",
       " 'b',\n",
       " 'l',\n",
       " 'v',\n",
       " 'b',\n",
       " 'v',\n",
       " 'f',\n",
       " 'z',\n",
       " 'a',\n",
       " 'h',\n",
       " 'l',\n",
       " 'c',\n",
       " 'j']"
      ]
     },
     "execution_count": 18,
     "metadata": {},
     "output_type": "execute_result"
    }
   ],
   "source": [
    "rm_labels"
   ]
  },
  {
   "cell_type": "code",
   "execution_count": null,
   "metadata": {},
   "outputs": [],
   "source": []
  }
 ],
 "metadata": {
  "kernelspec": {
   "display_name": "Python [conda env:py35]",
   "language": "python",
   "name": "conda-env-py35-py"
  },
  "language_info": {
   "codemirror_mode": {
    "name": "ipython",
    "version": 3
   },
   "file_extension": ".py",
   "mimetype": "text/x-python",
   "name": "python",
   "nbconvert_exporter": "python",
   "pygments_lexer": "ipython3",
   "version": "3.5.5"
  }
 },
 "nbformat": 4,
 "nbformat_minor": 2
}
